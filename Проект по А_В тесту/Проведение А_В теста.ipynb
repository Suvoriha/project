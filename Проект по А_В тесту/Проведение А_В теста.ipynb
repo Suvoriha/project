{
 "cells": [
  {
   "cell_type": "markdown",
   "metadata": {},
   "source": [
    "# Проект: приоритизация гипотез, проведение A/B-теста"
   ]
  },
  {
   "cell_type": "markdown",
   "metadata": {},
   "source": [
    "**Цель проекта** \n",
    "\n",
    "Провести приоритизацию подготовленных гипотез для увеличения выручки интернет магазина, запустить A/B-тест.\n",
    "\n",
    "**План работ**\n",
    "- Обзор данных\n",
    "- Предобработка данных \n",
    "- Приоритезация гипотез\n",
    "- Анализ А/В-теста;"
   ]
  },
  {
   "cell_type": "markdown",
   "metadata": {},
   "source": [
    "## Обзор данных"
   ]
  },
  {
   "cell_type": "markdown",
   "metadata": {},
   "source": [
    "###  Импорт библиотек"
   ]
  },
  {
   "cell_type": "code",
   "execution_count": 1,
   "metadata": {},
   "outputs": [],
   "source": [
    "#импорт библиотек\n",
    "import pandas as pd\n",
    "import numpy as np\n",
    "import scipy.stats as stats\n",
    "import datetime as dt\n",
    "\n",
    "from matplotlib import pyplot as plt\n",
    "import seaborn as sns\n",
    "\n",
    "pd.set_option('display.max_colwidth', False)"
   ]
  },
  {
   "cell_type": "markdown",
   "metadata": {},
   "source": [
    "###  Загрузка данных"
   ]
  },
  {
   "cell_type": "code",
   "execution_count": 2,
   "metadata": {},
   "outputs": [],
   "source": [
    "#загрузка данных\n",
    "try:\n",
    "    hypothesis = pd.read_csv('/datasets/hypothesis.csv') \n",
    "    orders = pd.read_csv('/datasets/orders.csv')\n",
    "    visitors = pd.read_csv('/datasets/visitors.csv')\n",
    "except:\n",
    "    hypothesis = pd.read_csv('https://code.s3.yandex.net/datasets/hypothesis.csv')\n",
    "    orders = pd.read_csv('https://code.s3.yandex.net/datasets/orders.csv')\n",
    "    visitors = pd.read_csv('https://code.s3.yandex.net/datasets/visitors.csv')"
   ]
  },
  {
   "cell_type": "markdown",
   "metadata": {},
   "source": [
    "### Описание данных"
   ]
  },
  {
   "cell_type": "markdown",
   "metadata": {},
   "source": [
    "\n",
    "\n",
    "Структура `hypothesis.csv`:\n",
    "- **Hypothesis** — краткое описание гипотезы;\n",
    "- **Reach** — охват пользователей по 10-балльной шкале;\n",
    "- **Impact** — влияние на пользователей по 10-балльной шкале;\n",
    "- **Confidence** — уверенность в гипотезе по 10-балльной шкале;\n",
    "- **Efforts** — затраты ресурсов на проверку гипотезы по 10-балльной шкале. Чем больше значение Efforts, тем дороже проверка гипотезы.\n",
    "\n",
    "\n",
    "\n",
    "Структура `orders.csv`:\n",
    "- **transactionId** — идентификатор заказа;\n",
    "- **visitorId** — идентификатор пользователя, совершившего заказ;\n",
    "- **date** — дата, когда был совершён заказ;\n",
    "- **revenue** - выручка заказа;\n",
    "- **group** - группа A/B-теста, в которую попал заказ.\n",
    "\n",
    "\n",
    "Структура `visitors.csv`:\n",
    "- **date** — date — дата;\n",
    "\n",
    "- **group** — группа A/B-теста;\n",
    "- **visitors** — количество пользователей в указанную дату в указанной группе A/B-теста\n",
    "\n"
   ]
  },
  {
   "cell_type": "code",
   "execution_count": 3,
   "metadata": {
    "scrolled": true
   },
   "outputs": [
    {
     "data": {
      "text/html": [
       "<div>\n",
       "<style scoped>\n",
       "    .dataframe tbody tr th:only-of-type {\n",
       "        vertical-align: middle;\n",
       "    }\n",
       "\n",
       "    .dataframe tbody tr th {\n",
       "        vertical-align: top;\n",
       "    }\n",
       "\n",
       "    .dataframe thead th {\n",
       "        text-align: right;\n",
       "    }\n",
       "</style>\n",
       "<table border=\"1\" class=\"dataframe\">\n",
       "  <thead>\n",
       "    <tr style=\"text-align: right;\">\n",
       "      <th></th>\n",
       "      <th>Hypothesis</th>\n",
       "      <th>Reach</th>\n",
       "      <th>Impact</th>\n",
       "      <th>Confidence</th>\n",
       "      <th>Efforts</th>\n",
       "    </tr>\n",
       "  </thead>\n",
       "  <tbody>\n",
       "    <tr>\n",
       "      <th>0</th>\n",
       "      <td>Добавить два новых канала привлечения трафика, что позволит привлекать на 30% больше пользователей</td>\n",
       "      <td>3</td>\n",
       "      <td>10</td>\n",
       "      <td>8</td>\n",
       "      <td>6</td>\n",
       "    </tr>\n",
       "    <tr>\n",
       "      <th>1</th>\n",
       "      <td>Запустить собственную службу доставки, что сократит срок доставки заказов</td>\n",
       "      <td>2</td>\n",
       "      <td>5</td>\n",
       "      <td>4</td>\n",
       "      <td>10</td>\n",
       "    </tr>\n",
       "    <tr>\n",
       "      <th>2</th>\n",
       "      <td>Добавить блоки рекомендаций товаров на сайт интернет магазина, чтобы повысить конверсию и средний чек заказа</td>\n",
       "      <td>8</td>\n",
       "      <td>3</td>\n",
       "      <td>7</td>\n",
       "      <td>3</td>\n",
       "    </tr>\n",
       "    <tr>\n",
       "      <th>3</th>\n",
       "      <td>Изменить структура категорий, что увеличит конверсию, т.к. пользователи быстрее найдут нужный товар</td>\n",
       "      <td>8</td>\n",
       "      <td>3</td>\n",
       "      <td>3</td>\n",
       "      <td>8</td>\n",
       "    </tr>\n",
       "    <tr>\n",
       "      <th>4</th>\n",
       "      <td>Изменить цвет фона главной страницы, чтобы увеличить вовлеченность пользователей</td>\n",
       "      <td>3</td>\n",
       "      <td>1</td>\n",
       "      <td>1</td>\n",
       "      <td>1</td>\n",
       "    </tr>\n",
       "    <tr>\n",
       "      <th>5</th>\n",
       "      <td>Добавить страницу отзывов клиентов о магазине, что позволит увеличить количество заказов</td>\n",
       "      <td>3</td>\n",
       "      <td>2</td>\n",
       "      <td>2</td>\n",
       "      <td>3</td>\n",
       "    </tr>\n",
       "    <tr>\n",
       "      <th>6</th>\n",
       "      <td>Показать на главной странице баннеры с актуальными акциями и распродажами, чтобы увеличить конверсию</td>\n",
       "      <td>5</td>\n",
       "      <td>3</td>\n",
       "      <td>8</td>\n",
       "      <td>3</td>\n",
       "    </tr>\n",
       "    <tr>\n",
       "      <th>7</th>\n",
       "      <td>Добавить форму подписки на все основные страницы, чтобы собрать базу клиентов для email-рассылок</td>\n",
       "      <td>10</td>\n",
       "      <td>7</td>\n",
       "      <td>8</td>\n",
       "      <td>5</td>\n",
       "    </tr>\n",
       "    <tr>\n",
       "      <th>8</th>\n",
       "      <td>Запустить акцию, дающую скидку на товар в день рождения</td>\n",
       "      <td>1</td>\n",
       "      <td>9</td>\n",
       "      <td>9</td>\n",
       "      <td>5</td>\n",
       "    </tr>\n",
       "  </tbody>\n",
       "</table>\n",
       "</div>"
      ],
      "text/plain": [
       "                                                                                                     Hypothesis  \\\n",
       "0  Добавить два новых канала привлечения трафика, что позволит привлекать на 30% больше пользователей             \n",
       "1  Запустить собственную службу доставки, что сократит срок доставки заказов                                      \n",
       "2  Добавить блоки рекомендаций товаров на сайт интернет магазина, чтобы повысить конверсию и средний чек заказа   \n",
       "3  Изменить структура категорий, что увеличит конверсию, т.к. пользователи быстрее найдут нужный товар            \n",
       "4  Изменить цвет фона главной страницы, чтобы увеличить вовлеченность пользователей                               \n",
       "5  Добавить страницу отзывов клиентов о магазине, что позволит увеличить количество заказов                       \n",
       "6  Показать на главной странице баннеры с актуальными акциями и распродажами, чтобы увеличить конверсию           \n",
       "7  Добавить форму подписки на все основные страницы, чтобы собрать базу клиентов для email-рассылок               \n",
       "8  Запустить акцию, дающую скидку на товар в день рождения                                                        \n",
       "\n",
       "   Reach  Impact  Confidence  Efforts  \n",
       "0  3      10      8           6        \n",
       "1  2      5       4           10       \n",
       "2  8      3       7           3        \n",
       "3  8      3       3           8        \n",
       "4  3      1       1           1        \n",
       "5  3      2       2           3        \n",
       "6  5      3       8           3        \n",
       "7  10     7       8           5        \n",
       "8  1      9       9           5        "
      ]
     },
     "metadata": {},
     "output_type": "display_data"
    },
    {
     "name": "stdout",
     "output_type": "stream",
     "text": [
      "<class 'pandas.core.frame.DataFrame'>\n",
      "RangeIndex: 9 entries, 0 to 8\n",
      "Data columns (total 5 columns):\n",
      " #   Column      Non-Null Count  Dtype \n",
      "---  ------      --------------  ----- \n",
      " 0   Hypothesis  9 non-null      object\n",
      " 1   Reach       9 non-null      int64 \n",
      " 2   Impact      9 non-null      int64 \n",
      " 3   Confidence  9 non-null      int64 \n",
      " 4   Efforts     9 non-null      int64 \n",
      "dtypes: int64(4), object(1)\n",
      "memory usage: 488.0+ bytes\n"
     ]
    }
   ],
   "source": [
    "#вывод первых строк (гипотезы)\n",
    "display(hypothesis.head(10))\n",
    "#вывод основной информации \n",
    "\n",
    "hypothesis.info()\n"
   ]
  },
  {
   "cell_type": "code",
   "execution_count": 4,
   "metadata": {},
   "outputs": [
    {
     "data": {
      "text/html": [
       "<div>\n",
       "<style scoped>\n",
       "    .dataframe tbody tr th:only-of-type {\n",
       "        vertical-align: middle;\n",
       "    }\n",
       "\n",
       "    .dataframe tbody tr th {\n",
       "        vertical-align: top;\n",
       "    }\n",
       "\n",
       "    .dataframe thead th {\n",
       "        text-align: right;\n",
       "    }\n",
       "</style>\n",
       "<table border=\"1\" class=\"dataframe\">\n",
       "  <thead>\n",
       "    <tr style=\"text-align: right;\">\n",
       "      <th></th>\n",
       "      <th>transactionId</th>\n",
       "      <th>visitorId</th>\n",
       "      <th>date</th>\n",
       "      <th>revenue</th>\n",
       "      <th>group</th>\n",
       "    </tr>\n",
       "  </thead>\n",
       "  <tbody>\n",
       "    <tr>\n",
       "      <th>0</th>\n",
       "      <td>3667963787</td>\n",
       "      <td>3312258926</td>\n",
       "      <td>2019-08-15</td>\n",
       "      <td>1650</td>\n",
       "      <td>B</td>\n",
       "    </tr>\n",
       "    <tr>\n",
       "      <th>1</th>\n",
       "      <td>2804400009</td>\n",
       "      <td>3642806036</td>\n",
       "      <td>2019-08-15</td>\n",
       "      <td>730</td>\n",
       "      <td>B</td>\n",
       "    </tr>\n",
       "    <tr>\n",
       "      <th>2</th>\n",
       "      <td>2961555356</td>\n",
       "      <td>4069496402</td>\n",
       "      <td>2019-08-15</td>\n",
       "      <td>400</td>\n",
       "      <td>A</td>\n",
       "    </tr>\n",
       "    <tr>\n",
       "      <th>3</th>\n",
       "      <td>3797467345</td>\n",
       "      <td>1196621759</td>\n",
       "      <td>2019-08-15</td>\n",
       "      <td>9759</td>\n",
       "      <td>B</td>\n",
       "    </tr>\n",
       "    <tr>\n",
       "      <th>4</th>\n",
       "      <td>2282983706</td>\n",
       "      <td>2322279887</td>\n",
       "      <td>2019-08-15</td>\n",
       "      <td>2308</td>\n",
       "      <td>B</td>\n",
       "    </tr>\n",
       "    <tr>\n",
       "      <th>5</th>\n",
       "      <td>182168103</td>\n",
       "      <td>935554773</td>\n",
       "      <td>2019-08-15</td>\n",
       "      <td>2210</td>\n",
       "      <td>B</td>\n",
       "    </tr>\n",
       "    <tr>\n",
       "      <th>6</th>\n",
       "      <td>398296753</td>\n",
       "      <td>2900797465</td>\n",
       "      <td>2019-08-15</td>\n",
       "      <td>1860</td>\n",
       "      <td>B</td>\n",
       "    </tr>\n",
       "    <tr>\n",
       "      <th>7</th>\n",
       "      <td>2626614568</td>\n",
       "      <td>78758296</td>\n",
       "      <td>2019-08-15</td>\n",
       "      <td>1044</td>\n",
       "      <td>A</td>\n",
       "    </tr>\n",
       "    <tr>\n",
       "      <th>8</th>\n",
       "      <td>1576988021</td>\n",
       "      <td>295230930</td>\n",
       "      <td>2019-08-15</td>\n",
       "      <td>13710</td>\n",
       "      <td>A</td>\n",
       "    </tr>\n",
       "    <tr>\n",
       "      <th>9</th>\n",
       "      <td>1506739906</td>\n",
       "      <td>1882260405</td>\n",
       "      <td>2019-08-15</td>\n",
       "      <td>1855</td>\n",
       "      <td>B</td>\n",
       "    </tr>\n",
       "  </tbody>\n",
       "</table>\n",
       "</div>"
      ],
      "text/plain": [
       "   transactionId   visitorId        date  revenue group\n",
       "0  3667963787     3312258926  2019-08-15  1650     B   \n",
       "1  2804400009     3642806036  2019-08-15  730      B   \n",
       "2  2961555356     4069496402  2019-08-15  400      A   \n",
       "3  3797467345     1196621759  2019-08-15  9759     B   \n",
       "4  2282983706     2322279887  2019-08-15  2308     B   \n",
       "5  182168103      935554773   2019-08-15  2210     B   \n",
       "6  398296753      2900797465  2019-08-15  1860     B   \n",
       "7  2626614568     78758296    2019-08-15  1044     A   \n",
       "8  1576988021     295230930   2019-08-15  13710    A   \n",
       "9  1506739906     1882260405  2019-08-15  1855     B   "
      ]
     },
     "metadata": {},
     "output_type": "display_data"
    },
    {
     "name": "stdout",
     "output_type": "stream",
     "text": [
      "<class 'pandas.core.frame.DataFrame'>\n",
      "RangeIndex: 1197 entries, 0 to 1196\n",
      "Data columns (total 5 columns):\n",
      " #   Column         Non-Null Count  Dtype \n",
      "---  ------         --------------  ----- \n",
      " 0   transactionId  1197 non-null   int64 \n",
      " 1   visitorId      1197 non-null   int64 \n",
      " 2   date           1197 non-null   object\n",
      " 3   revenue        1197 non-null   int64 \n",
      " 4   group          1197 non-null   object\n",
      "dtypes: int64(3), object(2)\n",
      "memory usage: 46.9+ KB\n"
     ]
    }
   ],
   "source": [
    "#вывод первых строк orders\n",
    "display(orders.head(10))\n",
    "#вывод основной информации \n",
    "orders.info()"
   ]
  },
  {
   "cell_type": "code",
   "execution_count": 5,
   "metadata": {},
   "outputs": [
    {
     "data": {
      "text/html": [
       "<div>\n",
       "<style scoped>\n",
       "    .dataframe tbody tr th:only-of-type {\n",
       "        vertical-align: middle;\n",
       "    }\n",
       "\n",
       "    .dataframe tbody tr th {\n",
       "        vertical-align: top;\n",
       "    }\n",
       "\n",
       "    .dataframe thead th {\n",
       "        text-align: right;\n",
       "    }\n",
       "</style>\n",
       "<table border=\"1\" class=\"dataframe\">\n",
       "  <thead>\n",
       "    <tr style=\"text-align: right;\">\n",
       "      <th></th>\n",
       "      <th>date</th>\n",
       "      <th>group</th>\n",
       "      <th>visitors</th>\n",
       "    </tr>\n",
       "  </thead>\n",
       "  <tbody>\n",
       "    <tr>\n",
       "      <th>0</th>\n",
       "      <td>2019-08-01</td>\n",
       "      <td>A</td>\n",
       "      <td>719</td>\n",
       "    </tr>\n",
       "    <tr>\n",
       "      <th>1</th>\n",
       "      <td>2019-08-02</td>\n",
       "      <td>A</td>\n",
       "      <td>619</td>\n",
       "    </tr>\n",
       "    <tr>\n",
       "      <th>2</th>\n",
       "      <td>2019-08-03</td>\n",
       "      <td>A</td>\n",
       "      <td>507</td>\n",
       "    </tr>\n",
       "    <tr>\n",
       "      <th>3</th>\n",
       "      <td>2019-08-04</td>\n",
       "      <td>A</td>\n",
       "      <td>717</td>\n",
       "    </tr>\n",
       "    <tr>\n",
       "      <th>4</th>\n",
       "      <td>2019-08-05</td>\n",
       "      <td>A</td>\n",
       "      <td>756</td>\n",
       "    </tr>\n",
       "    <tr>\n",
       "      <th>5</th>\n",
       "      <td>2019-08-06</td>\n",
       "      <td>A</td>\n",
       "      <td>667</td>\n",
       "    </tr>\n",
       "    <tr>\n",
       "      <th>6</th>\n",
       "      <td>2019-08-07</td>\n",
       "      <td>A</td>\n",
       "      <td>644</td>\n",
       "    </tr>\n",
       "    <tr>\n",
       "      <th>7</th>\n",
       "      <td>2019-08-08</td>\n",
       "      <td>A</td>\n",
       "      <td>610</td>\n",
       "    </tr>\n",
       "    <tr>\n",
       "      <th>8</th>\n",
       "      <td>2019-08-09</td>\n",
       "      <td>A</td>\n",
       "      <td>617</td>\n",
       "    </tr>\n",
       "    <tr>\n",
       "      <th>9</th>\n",
       "      <td>2019-08-10</td>\n",
       "      <td>A</td>\n",
       "      <td>406</td>\n",
       "    </tr>\n",
       "  </tbody>\n",
       "</table>\n",
       "</div>"
      ],
      "text/plain": [
       "         date group  visitors\n",
       "0  2019-08-01  A     719     \n",
       "1  2019-08-02  A     619     \n",
       "2  2019-08-03  A     507     \n",
       "3  2019-08-04  A     717     \n",
       "4  2019-08-05  A     756     \n",
       "5  2019-08-06  A     667     \n",
       "6  2019-08-07  A     644     \n",
       "7  2019-08-08  A     610     \n",
       "8  2019-08-09  A     617     \n",
       "9  2019-08-10  A     406     "
      ]
     },
     "metadata": {},
     "output_type": "display_data"
    },
    {
     "name": "stdout",
     "output_type": "stream",
     "text": [
      "<class 'pandas.core.frame.DataFrame'>\n",
      "RangeIndex: 62 entries, 0 to 61\n",
      "Data columns (total 3 columns):\n",
      " #   Column    Non-Null Count  Dtype \n",
      "---  ------    --------------  ----- \n",
      " 0   date      62 non-null     object\n",
      " 1   group     62 non-null     object\n",
      " 2   visitors  62 non-null     int64 \n",
      "dtypes: int64(1), object(2)\n",
      "memory usage: 1.6+ KB\n"
     ]
    }
   ],
   "source": [
    "#вывод первых строк visitors\n",
    "display(visitors.head(10))\n",
    "#вывод основной информации \n",
    "visitors.info()"
   ]
  },
  {
   "cell_type": "markdown",
   "metadata": {},
   "source": [
    "### Вывод"
   ]
  },
  {
   "cell_type": "markdown",
   "metadata": {},
   "source": [
    "Предоставлены следующие датасеты:\n",
    "- с гипотезами (hypothesis) по увеличению выручки интернет-магазина с указанными параметрами Reach, Impact, Confidence, Effort.\n",
    "- с заказами (orders), где заказы разделены на группы A/B-теста\n",
    "- с группами (visitors) А/В теста с количеством пользователей в указанную дату в указанной группе.\n",
    "\n",
    "В датафрейме hypothesis не соблюден общий стиль названий столбцов. Тип данных в orders и visitors в столбцах с датами нужно преобразовать в datetime. Устраним это перед продолжением работы."
   ]
  },
  {
   "cell_type": "markdown",
   "metadata": {},
   "source": [
    "## Предобработка данных"
   ]
  },
  {
   "cell_type": "markdown",
   "metadata": {},
   "source": [
    "**Приведем названия столбцов к общепринятому стилю**"
   ]
  },
  {
   "cell_type": "code",
   "execution_count": 6,
   "metadata": {},
   "outputs": [
    {
     "data": {
      "text/html": [
       "<div>\n",
       "<style scoped>\n",
       "    .dataframe tbody tr th:only-of-type {\n",
       "        vertical-align: middle;\n",
       "    }\n",
       "\n",
       "    .dataframe tbody tr th {\n",
       "        vertical-align: top;\n",
       "    }\n",
       "\n",
       "    .dataframe thead th {\n",
       "        text-align: right;\n",
       "    }\n",
       "</style>\n",
       "<table border=\"1\" class=\"dataframe\">\n",
       "  <thead>\n",
       "    <tr style=\"text-align: right;\">\n",
       "      <th></th>\n",
       "      <th>hypothesis</th>\n",
       "      <th>reach</th>\n",
       "      <th>impact</th>\n",
       "      <th>confidence</th>\n",
       "      <th>efforts</th>\n",
       "    </tr>\n",
       "  </thead>\n",
       "  <tbody>\n",
       "    <tr>\n",
       "      <th>0</th>\n",
       "      <td>Добавить два новых канала привлечения трафика, что позволит привлекать на 30% больше пользователей</td>\n",
       "      <td>3</td>\n",
       "      <td>10</td>\n",
       "      <td>8</td>\n",
       "      <td>6</td>\n",
       "    </tr>\n",
       "    <tr>\n",
       "      <th>1</th>\n",
       "      <td>Запустить собственную службу доставки, что сократит срок доставки заказов</td>\n",
       "      <td>2</td>\n",
       "      <td>5</td>\n",
       "      <td>4</td>\n",
       "      <td>10</td>\n",
       "    </tr>\n",
       "    <tr>\n",
       "      <th>2</th>\n",
       "      <td>Добавить блоки рекомендаций товаров на сайт интернет магазина, чтобы повысить конверсию и средний чек заказа</td>\n",
       "      <td>8</td>\n",
       "      <td>3</td>\n",
       "      <td>7</td>\n",
       "      <td>3</td>\n",
       "    </tr>\n",
       "    <tr>\n",
       "      <th>3</th>\n",
       "      <td>Изменить структура категорий, что увеличит конверсию, т.к. пользователи быстрее найдут нужный товар</td>\n",
       "      <td>8</td>\n",
       "      <td>3</td>\n",
       "      <td>3</td>\n",
       "      <td>8</td>\n",
       "    </tr>\n",
       "    <tr>\n",
       "      <th>4</th>\n",
       "      <td>Изменить цвет фона главной страницы, чтобы увеличить вовлеченность пользователей</td>\n",
       "      <td>3</td>\n",
       "      <td>1</td>\n",
       "      <td>1</td>\n",
       "      <td>1</td>\n",
       "    </tr>\n",
       "  </tbody>\n",
       "</table>\n",
       "</div>"
      ],
      "text/plain": [
       "                                                                                                     hypothesis  \\\n",
       "0  Добавить два новых канала привлечения трафика, что позволит привлекать на 30% больше пользователей             \n",
       "1  Запустить собственную службу доставки, что сократит срок доставки заказов                                      \n",
       "2  Добавить блоки рекомендаций товаров на сайт интернет магазина, чтобы повысить конверсию и средний чек заказа   \n",
       "3  Изменить структура категорий, что увеличит конверсию, т.к. пользователи быстрее найдут нужный товар            \n",
       "4  Изменить цвет фона главной страницы, чтобы увеличить вовлеченность пользователей                               \n",
       "\n",
       "   reach  impact  confidence  efforts  \n",
       "0  3      10      8           6        \n",
       "1  2      5       4           10       \n",
       "2  8      3       7           3        \n",
       "3  8      3       3           8        \n",
       "4  3      1       1           1        "
      ]
     },
     "execution_count": 6,
     "metadata": {},
     "output_type": "execute_result"
    }
   ],
   "source": [
    "#приводим к нижнему регистру\n",
    "hypothesis.columns = hypothesis.columns.str.lower()\n",
    "\n",
    "hypothesis.head()"
   ]
  },
  {
   "cell_type": "markdown",
   "metadata": {},
   "source": [
    "**Изменим тип данных для столбцов с датами**"
   ]
  },
  {
   "cell_type": "code",
   "execution_count": 7,
   "metadata": {},
   "outputs": [
    {
     "name": "stdout",
     "output_type": "stream",
     "text": [
      "<class 'pandas.core.frame.DataFrame'>\n",
      "RangeIndex: 1197 entries, 0 to 1196\n",
      "Data columns (total 5 columns):\n",
      " #   Column         Non-Null Count  Dtype         \n",
      "---  ------         --------------  -----         \n",
      " 0   transactionId  1197 non-null   int64         \n",
      " 1   visitorId      1197 non-null   int64         \n",
      " 2   date           1197 non-null   datetime64[ns]\n",
      " 3   revenue        1197 non-null   int64         \n",
      " 4   group          1197 non-null   object        \n",
      "dtypes: datetime64[ns](1), int64(3), object(1)\n",
      "memory usage: 46.9+ KB\n",
      "<class 'pandas.core.frame.DataFrame'>\n",
      "RangeIndex: 62 entries, 0 to 61\n",
      "Data columns (total 3 columns):\n",
      " #   Column    Non-Null Count  Dtype         \n",
      "---  ------    --------------  -----         \n",
      " 0   date      62 non-null     datetime64[ns]\n",
      " 1   group     62 non-null     object        \n",
      " 2   visitors  62 non-null     int64         \n",
      "dtypes: datetime64[ns](1), int64(1), object(1)\n",
      "memory usage: 1.6+ KB\n"
     ]
    }
   ],
   "source": [
    "visitors['date'] = visitors['date'].map(\n",
    "    lambda x: dt.datetime.strptime(x, '%Y-%m-%d')\n",
    ")\n",
    "orders['date'] = orders['date'].map(\n",
    "    lambda x: dt.datetime.strptime(x, '%Y-%m-%d')\n",
    ")\n",
    "\n",
    "orders.info()\n",
    "visitors.info()"
   ]
  },
  {
   "cell_type": "markdown",
   "metadata": {},
   "source": [
    "**Обработка пропусков и дубликатов**"
   ]
  },
  {
   "cell_type": "markdown",
   "metadata": {},
   "source": [
    "**Проверим на пропуски**"
   ]
  },
  {
   "cell_type": "code",
   "execution_count": 8,
   "metadata": {},
   "outputs": [
    {
     "data": {
      "text/plain": [
       "hypothesis    0\n",
       "reach         0\n",
       "impact        0\n",
       "confidence    0\n",
       "efforts       0\n",
       "dtype: int64"
      ]
     },
     "metadata": {},
     "output_type": "display_data"
    },
    {
     "data": {
      "text/plain": [
       "transactionId    0\n",
       "visitorId        0\n",
       "date             0\n",
       "revenue          0\n",
       "group            0\n",
       "dtype: int64"
      ]
     },
     "metadata": {},
     "output_type": "display_data"
    },
    {
     "data": {
      "text/plain": [
       "date        0\n",
       "group       0\n",
       "visitors    0\n",
       "dtype: int64"
      ]
     },
     "execution_count": 8,
     "metadata": {},
     "output_type": "execute_result"
    }
   ],
   "source": [
    "display(hypothesis.isna().sum(),\n",
    "orders.isna().sum())\n",
    "visitors.isna().sum()"
   ]
  },
  {
   "cell_type": "markdown",
   "metadata": {},
   "source": [
    "**Проверим на явные дубликаты**"
   ]
  },
  {
   "cell_type": "code",
   "execution_count": 9,
   "metadata": {},
   "outputs": [
    {
     "data": {
      "text/plain": [
       "0"
      ]
     },
     "metadata": {},
     "output_type": "display_data"
    },
    {
     "data": {
      "text/plain": [
       "0"
      ]
     },
     "metadata": {},
     "output_type": "display_data"
    },
    {
     "data": {
      "text/plain": [
       "0"
      ]
     },
     "execution_count": 9,
     "metadata": {},
     "output_type": "execute_result"
    }
   ],
   "source": [
    "display(hypothesis.duplicated().sum(),\n",
    "orders.duplicated().sum())\n",
    "visitors.duplicated().sum()"
   ]
  },
  {
   "cell_type": "markdown",
   "metadata": {},
   "source": [
    "### Вывод"
   ]
  },
  {
   "cell_type": "markdown",
   "metadata": {},
   "source": [
    "В ходе предобработки стиль названий столбцов исправлен.\n",
    "Дубликаты и пропуски не обнаружены."
   ]
  },
  {
   "cell_type": "markdown",
   "metadata": {},
   "source": [
    "## Часть 1. Приоритизация гипотез."
   ]
  },
  {
   "cell_type": "markdown",
   "metadata": {},
   "source": [
    "\n",
    "Приоритизируем сформулированные гипотезы из датасета `hypothesis`. Приоритизацию проведем с помощью фреймворков ICE и RICE, т.к. они фокусируются на ключевых аспектах, таких как влияние, уверенность и охват, что помогает быстро выявить наиболее перспективные гипотезы без необходимости углубленного изучения каждой отдельно."
   ]
  },
  {
   "cell_type": "markdown",
   "metadata": {},
   "source": [
    "**Посчитаем ICE для гипотез.**"
   ]
  },
  {
   "cell_type": "code",
   "execution_count": 10,
   "metadata": {},
   "outputs": [
    {
     "data": {
      "text/html": [
       "<div>\n",
       "<style scoped>\n",
       "    .dataframe tbody tr th:only-of-type {\n",
       "        vertical-align: middle;\n",
       "    }\n",
       "\n",
       "    .dataframe tbody tr th {\n",
       "        vertical-align: top;\n",
       "    }\n",
       "\n",
       "    .dataframe thead th {\n",
       "        text-align: right;\n",
       "    }\n",
       "</style>\n",
       "<table border=\"1\" class=\"dataframe\">\n",
       "  <thead>\n",
       "    <tr style=\"text-align: right;\">\n",
       "      <th></th>\n",
       "      <th>hypothesis</th>\n",
       "      <th>ICE</th>\n",
       "    </tr>\n",
       "  </thead>\n",
       "  <tbody>\n",
       "    <tr>\n",
       "      <th>8</th>\n",
       "      <td>Запустить акцию, дающую скидку на товар в день рождения</td>\n",
       "      <td>16.20</td>\n",
       "    </tr>\n",
       "    <tr>\n",
       "      <th>0</th>\n",
       "      <td>Добавить два новых канала привлечения трафика, что позволит привлекать на 30% больше пользователей</td>\n",
       "      <td>13.33</td>\n",
       "    </tr>\n",
       "    <tr>\n",
       "      <th>7</th>\n",
       "      <td>Добавить форму подписки на все основные страницы, чтобы собрать базу клиентов для email-рассылок</td>\n",
       "      <td>11.20</td>\n",
       "    </tr>\n",
       "    <tr>\n",
       "      <th>6</th>\n",
       "      <td>Показать на главной странице баннеры с актуальными акциями и распродажами, чтобы увеличить конверсию</td>\n",
       "      <td>8.00</td>\n",
       "    </tr>\n",
       "    <tr>\n",
       "      <th>2</th>\n",
       "      <td>Добавить блоки рекомендаций товаров на сайт интернет магазина, чтобы повысить конверсию и средний чек заказа</td>\n",
       "      <td>7.00</td>\n",
       "    </tr>\n",
       "    <tr>\n",
       "      <th>1</th>\n",
       "      <td>Запустить собственную службу доставки, что сократит срок доставки заказов</td>\n",
       "      <td>2.00</td>\n",
       "    </tr>\n",
       "    <tr>\n",
       "      <th>5</th>\n",
       "      <td>Добавить страницу отзывов клиентов о магазине, что позволит увеличить количество заказов</td>\n",
       "      <td>1.33</td>\n",
       "    </tr>\n",
       "    <tr>\n",
       "      <th>3</th>\n",
       "      <td>Изменить структура категорий, что увеличит конверсию, т.к. пользователи быстрее найдут нужный товар</td>\n",
       "      <td>1.12</td>\n",
       "    </tr>\n",
       "    <tr>\n",
       "      <th>4</th>\n",
       "      <td>Изменить цвет фона главной страницы, чтобы увеличить вовлеченность пользователей</td>\n",
       "      <td>1.00</td>\n",
       "    </tr>\n",
       "  </tbody>\n",
       "</table>\n",
       "</div>"
      ],
      "text/plain": [
       "                                                                                                     hypothesis  \\\n",
       "8  Запустить акцию, дающую скидку на товар в день рождения                                                        \n",
       "0  Добавить два новых канала привлечения трафика, что позволит привлекать на 30% больше пользователей             \n",
       "7  Добавить форму подписки на все основные страницы, чтобы собрать базу клиентов для email-рассылок               \n",
       "6  Показать на главной странице баннеры с актуальными акциями и распродажами, чтобы увеличить конверсию           \n",
       "2  Добавить блоки рекомендаций товаров на сайт интернет магазина, чтобы повысить конверсию и средний чек заказа   \n",
       "1  Запустить собственную службу доставки, что сократит срок доставки заказов                                      \n",
       "5  Добавить страницу отзывов клиентов о магазине, что позволит увеличить количество заказов                       \n",
       "3  Изменить структура категорий, что увеличит конверсию, т.к. пользователи быстрее найдут нужный товар            \n",
       "4  Изменить цвет фона главной страницы, чтобы увеличить вовлеченность пользователей                               \n",
       "\n",
       "     ICE  \n",
       "8  16.20  \n",
       "0  13.33  \n",
       "7  11.20  \n",
       "6  8.00   \n",
       "2  7.00   \n",
       "1  2.00   \n",
       "5  1.33   \n",
       "3  1.12   \n",
       "4  1.00   "
      ]
     },
     "execution_count": 10,
     "metadata": {},
     "output_type": "execute_result"
    }
   ],
   "source": [
    "hypothesis['ICE'] = round((hypothesis['impact'] * hypothesis['confidence'])/hypothesis['efforts'],2)\n",
    "\n",
    "hypothesis[['hypothesis', 'ICE']].sort_values(by='ICE', ascending=False)\n"
   ]
  },
  {
   "cell_type": "markdown",
   "metadata": {},
   "source": [
    "Самые перспективные гипотезы под индексами 8,0,7,6"
   ]
  },
  {
   "cell_type": "markdown",
   "metadata": {},
   "source": [
    "**Посчитаем RICE для гипотез.**"
   ]
  },
  {
   "cell_type": "code",
   "execution_count": 11,
   "metadata": {},
   "outputs": [
    {
     "data": {
      "text/html": [
       "<div>\n",
       "<style scoped>\n",
       "    .dataframe tbody tr th:only-of-type {\n",
       "        vertical-align: middle;\n",
       "    }\n",
       "\n",
       "    .dataframe tbody tr th {\n",
       "        vertical-align: top;\n",
       "    }\n",
       "\n",
       "    .dataframe thead th {\n",
       "        text-align: right;\n",
       "    }\n",
       "</style>\n",
       "<table border=\"1\" class=\"dataframe\">\n",
       "  <thead>\n",
       "    <tr style=\"text-align: right;\">\n",
       "      <th></th>\n",
       "      <th>hypothesis</th>\n",
       "      <th>RICE</th>\n",
       "    </tr>\n",
       "  </thead>\n",
       "  <tbody>\n",
       "    <tr>\n",
       "      <th>7</th>\n",
       "      <td>Добавить форму подписки на все основные страницы, чтобы собрать базу клиентов для email-рассылок</td>\n",
       "      <td>112.0</td>\n",
       "    </tr>\n",
       "    <tr>\n",
       "      <th>2</th>\n",
       "      <td>Добавить блоки рекомендаций товаров на сайт интернет магазина, чтобы повысить конверсию и средний чек заказа</td>\n",
       "      <td>56.0</td>\n",
       "    </tr>\n",
       "    <tr>\n",
       "      <th>0</th>\n",
       "      <td>Добавить два новых канала привлечения трафика, что позволит привлекать на 30% больше пользователей</td>\n",
       "      <td>40.0</td>\n",
       "    </tr>\n",
       "    <tr>\n",
       "      <th>6</th>\n",
       "      <td>Показать на главной странице баннеры с актуальными акциями и распродажами, чтобы увеличить конверсию</td>\n",
       "      <td>40.0</td>\n",
       "    </tr>\n",
       "    <tr>\n",
       "      <th>8</th>\n",
       "      <td>Запустить акцию, дающую скидку на товар в день рождения</td>\n",
       "      <td>16.2</td>\n",
       "    </tr>\n",
       "    <tr>\n",
       "      <th>3</th>\n",
       "      <td>Изменить структура категорий, что увеличит конверсию, т.к. пользователи быстрее найдут нужный товар</td>\n",
       "      <td>9.0</td>\n",
       "    </tr>\n",
       "    <tr>\n",
       "      <th>1</th>\n",
       "      <td>Запустить собственную службу доставки, что сократит срок доставки заказов</td>\n",
       "      <td>4.0</td>\n",
       "    </tr>\n",
       "    <tr>\n",
       "      <th>5</th>\n",
       "      <td>Добавить страницу отзывов клиентов о магазине, что позволит увеличить количество заказов</td>\n",
       "      <td>4.0</td>\n",
       "    </tr>\n",
       "    <tr>\n",
       "      <th>4</th>\n",
       "      <td>Изменить цвет фона главной страницы, чтобы увеличить вовлеченность пользователей</td>\n",
       "      <td>3.0</td>\n",
       "    </tr>\n",
       "  </tbody>\n",
       "</table>\n",
       "</div>"
      ],
      "text/plain": [
       "                                                                                                     hypothesis  \\\n",
       "7  Добавить форму подписки на все основные страницы, чтобы собрать базу клиентов для email-рассылок               \n",
       "2  Добавить блоки рекомендаций товаров на сайт интернет магазина, чтобы повысить конверсию и средний чек заказа   \n",
       "0  Добавить два новых канала привлечения трафика, что позволит привлекать на 30% больше пользователей             \n",
       "6  Показать на главной странице баннеры с актуальными акциями и распродажами, чтобы увеличить конверсию           \n",
       "8  Запустить акцию, дающую скидку на товар в день рождения                                                        \n",
       "3  Изменить структура категорий, что увеличит конверсию, т.к. пользователи быстрее найдут нужный товар            \n",
       "1  Запустить собственную службу доставки, что сократит срок доставки заказов                                      \n",
       "5  Добавить страницу отзывов клиентов о магазине, что позволит увеличить количество заказов                       \n",
       "4  Изменить цвет фона главной страницы, чтобы увеличить вовлеченность пользователей                               \n",
       "\n",
       "    RICE  \n",
       "7  112.0  \n",
       "2  56.0   \n",
       "0  40.0   \n",
       "6  40.0   \n",
       "8  16.2   \n",
       "3  9.0    \n",
       "1  4.0    \n",
       "5  4.0    \n",
       "4  3.0    "
      ]
     },
     "execution_count": 11,
     "metadata": {},
     "output_type": "execute_result"
    }
   ],
   "source": [
    "hypothesis['RICE'] = (hypothesis['reach']*hypothesis['impact']*hypothesis['confidence'])/hypothesis['efforts']\n",
    "hypothesis[['hypothesis', 'RICE']].sort_values(by='RICE', ascending=False)"
   ]
  },
  {
   "cell_type": "markdown",
   "metadata": {},
   "source": [
    "Самые перспективные гипотезы под индексами 7,2,0,6"
   ]
  },
  {
   "cell_type": "code",
   "execution_count": 12,
   "metadata": {},
   "outputs": [
    {
     "data": {
      "text/html": [
       "<div>\n",
       "<style scoped>\n",
       "    .dataframe tbody tr th:only-of-type {\n",
       "        vertical-align: middle;\n",
       "    }\n",
       "\n",
       "    .dataframe tbody tr th {\n",
       "        vertical-align: top;\n",
       "    }\n",
       "\n",
       "    .dataframe thead th {\n",
       "        text-align: right;\n",
       "    }\n",
       "</style>\n",
       "<table border=\"1\" class=\"dataframe\">\n",
       "  <thead>\n",
       "    <tr style=\"text-align: right;\">\n",
       "      <th></th>\n",
       "      <th>hypothesis</th>\n",
       "      <th>reach</th>\n",
       "      <th>impact</th>\n",
       "      <th>confidence</th>\n",
       "      <th>efforts</th>\n",
       "      <th>ICE</th>\n",
       "      <th>RICE</th>\n",
       "    </tr>\n",
       "  </thead>\n",
       "  <tbody>\n",
       "    <tr>\n",
       "      <th>7</th>\n",
       "      <td>Добавить форму подписки на все основные страницы, чтобы собрать базу клиентов для email-рассылок</td>\n",
       "      <td>10</td>\n",
       "      <td>7</td>\n",
       "      <td>8</td>\n",
       "      <td>5</td>\n",
       "      <td>11.20</td>\n",
       "      <td>112.0</td>\n",
       "    </tr>\n",
       "    <tr>\n",
       "      <th>2</th>\n",
       "      <td>Добавить блоки рекомендаций товаров на сайт интернет магазина, чтобы повысить конверсию и средний чек заказа</td>\n",
       "      <td>8</td>\n",
       "      <td>3</td>\n",
       "      <td>7</td>\n",
       "      <td>3</td>\n",
       "      <td>7.00</td>\n",
       "      <td>56.0</td>\n",
       "    </tr>\n",
       "    <tr>\n",
       "      <th>0</th>\n",
       "      <td>Добавить два новых канала привлечения трафика, что позволит привлекать на 30% больше пользователей</td>\n",
       "      <td>3</td>\n",
       "      <td>10</td>\n",
       "      <td>8</td>\n",
       "      <td>6</td>\n",
       "      <td>13.33</td>\n",
       "      <td>40.0</td>\n",
       "    </tr>\n",
       "    <tr>\n",
       "      <th>6</th>\n",
       "      <td>Показать на главной странице баннеры с актуальными акциями и распродажами, чтобы увеличить конверсию</td>\n",
       "      <td>5</td>\n",
       "      <td>3</td>\n",
       "      <td>8</td>\n",
       "      <td>3</td>\n",
       "      <td>8.00</td>\n",
       "      <td>40.0</td>\n",
       "    </tr>\n",
       "    <tr>\n",
       "      <th>8</th>\n",
       "      <td>Запустить акцию, дающую скидку на товар в день рождения</td>\n",
       "      <td>1</td>\n",
       "      <td>9</td>\n",
       "      <td>9</td>\n",
       "      <td>5</td>\n",
       "      <td>16.20</td>\n",
       "      <td>16.2</td>\n",
       "    </tr>\n",
       "    <tr>\n",
       "      <th>3</th>\n",
       "      <td>Изменить структура категорий, что увеличит конверсию, т.к. пользователи быстрее найдут нужный товар</td>\n",
       "      <td>8</td>\n",
       "      <td>3</td>\n",
       "      <td>3</td>\n",
       "      <td>8</td>\n",
       "      <td>1.12</td>\n",
       "      <td>9.0</td>\n",
       "    </tr>\n",
       "    <tr>\n",
       "      <th>1</th>\n",
       "      <td>Запустить собственную службу доставки, что сократит срок доставки заказов</td>\n",
       "      <td>2</td>\n",
       "      <td>5</td>\n",
       "      <td>4</td>\n",
       "      <td>10</td>\n",
       "      <td>2.00</td>\n",
       "      <td>4.0</td>\n",
       "    </tr>\n",
       "    <tr>\n",
       "      <th>5</th>\n",
       "      <td>Добавить страницу отзывов клиентов о магазине, что позволит увеличить количество заказов</td>\n",
       "      <td>3</td>\n",
       "      <td>2</td>\n",
       "      <td>2</td>\n",
       "      <td>3</td>\n",
       "      <td>1.33</td>\n",
       "      <td>4.0</td>\n",
       "    </tr>\n",
       "    <tr>\n",
       "      <th>4</th>\n",
       "      <td>Изменить цвет фона главной страницы, чтобы увеличить вовлеченность пользователей</td>\n",
       "      <td>3</td>\n",
       "      <td>1</td>\n",
       "      <td>1</td>\n",
       "      <td>1</td>\n",
       "      <td>1.00</td>\n",
       "      <td>3.0</td>\n",
       "    </tr>\n",
       "  </tbody>\n",
       "</table>\n",
       "</div>"
      ],
      "text/plain": [
       "                                                                                                     hypothesis  \\\n",
       "7  Добавить форму подписки на все основные страницы, чтобы собрать базу клиентов для email-рассылок               \n",
       "2  Добавить блоки рекомендаций товаров на сайт интернет магазина, чтобы повысить конверсию и средний чек заказа   \n",
       "0  Добавить два новых канала привлечения трафика, что позволит привлекать на 30% больше пользователей             \n",
       "6  Показать на главной странице баннеры с актуальными акциями и распродажами, чтобы увеличить конверсию           \n",
       "8  Запустить акцию, дающую скидку на товар в день рождения                                                        \n",
       "3  Изменить структура категорий, что увеличит конверсию, т.к. пользователи быстрее найдут нужный товар            \n",
       "1  Запустить собственную службу доставки, что сократит срок доставки заказов                                      \n",
       "5  Добавить страницу отзывов клиентов о магазине, что позволит увеличить количество заказов                       \n",
       "4  Изменить цвет фона главной страницы, чтобы увеличить вовлеченность пользователей                               \n",
       "\n",
       "   reach  impact  confidence  efforts    ICE   RICE  \n",
       "7  10     7       8           5        11.20  112.0  \n",
       "2  8      3       7           3        7.00   56.0   \n",
       "0  3      10      8           6        13.33  40.0   \n",
       "6  5      3       8           3        8.00   40.0   \n",
       "8  1      9       9           5        16.20  16.2   \n",
       "3  8      3       3           8        1.12   9.0    \n",
       "1  2      5       4           10       2.00   4.0    \n",
       "5  3      2       2           3        1.33   4.0    \n",
       "4  3      1       1           1        1.00   3.0    "
      ]
     },
     "execution_count": 12,
     "metadata": {},
     "output_type": "execute_result"
    }
   ],
   "source": [
    "hypothesis.sort_values(by='RICE', ascending=False)"
   ]
  },
  {
   "cell_type": "markdown",
   "metadata": {},
   "source": [
    "### Вывод"
   ]
  },
  {
   "cell_type": "markdown",
   "metadata": {},
   "source": [
    "При применении ICE перспективные гипотезы можно считать под индексами 8,0,7,6. \n",
    "Далее мы добавили в расчет охват пользователей и применили фреймворк RICE. В этом случае самые перспективные гипотезы под индексами 7,2,0,6.\n",
    "Приоритизация гипотез при применении RICE изменилась из-за параметра reach, который отображает скольких пользователей коснется изменение. В гипотезе под № 7 он имеет наибольшее значение по сравнению с другими. Ее стоит проверить в первую очередь. "
   ]
  },
  {
   "cell_type": "markdown",
   "metadata": {},
   "source": [
    "## Часть 2. Анализ A/B-теста"
   ]
  },
  {
   "cell_type": "markdown",
   "metadata": {},
   "source": [
    "**Проверка кумулятивных данных**"
   ]
  },
  {
   "cell_type": "markdown",
   "metadata": {},
   "source": [
    "Построим график **кумулятивной выручки по группам**.\n",
    "Чтобы построить графики,соберем кумулятивные данные. Объявим датафрейм cumulativeData. "
   ]
  },
  {
   "cell_type": "code",
   "execution_count": 13,
   "metadata": {},
   "outputs": [
    {
     "data": {
      "text/html": [
       "<div>\n",
       "<style scoped>\n",
       "    .dataframe tbody tr th:only-of-type {\n",
       "        vertical-align: middle;\n",
       "    }\n",
       "\n",
       "    .dataframe tbody tr th {\n",
       "        vertical-align: top;\n",
       "    }\n",
       "\n",
       "    .dataframe thead th {\n",
       "        text-align: right;\n",
       "    }\n",
       "</style>\n",
       "<table border=\"1\" class=\"dataframe\">\n",
       "  <thead>\n",
       "    <tr style=\"text-align: right;\">\n",
       "      <th></th>\n",
       "      <th>date</th>\n",
       "      <th>group</th>\n",
       "      <th>orders</th>\n",
       "      <th>buyers</th>\n",
       "      <th>revenue</th>\n",
       "      <th>visitors</th>\n",
       "    </tr>\n",
       "  </thead>\n",
       "  <tbody>\n",
       "    <tr>\n",
       "      <th>0</th>\n",
       "      <td>2019-08-01</td>\n",
       "      <td>A</td>\n",
       "      <td>24</td>\n",
       "      <td>20</td>\n",
       "      <td>148579</td>\n",
       "      <td>719</td>\n",
       "    </tr>\n",
       "    <tr>\n",
       "      <th>1</th>\n",
       "      <td>2019-08-01</td>\n",
       "      <td>B</td>\n",
       "      <td>21</td>\n",
       "      <td>20</td>\n",
       "      <td>101217</td>\n",
       "      <td>713</td>\n",
       "    </tr>\n",
       "    <tr>\n",
       "      <th>2</th>\n",
       "      <td>2019-08-02</td>\n",
       "      <td>A</td>\n",
       "      <td>44</td>\n",
       "      <td>38</td>\n",
       "      <td>242401</td>\n",
       "      <td>1338</td>\n",
       "    </tr>\n",
       "    <tr>\n",
       "      <th>3</th>\n",
       "      <td>2019-08-02</td>\n",
       "      <td>B</td>\n",
       "      <td>45</td>\n",
       "      <td>43</td>\n",
       "      <td>266748</td>\n",
       "      <td>1294</td>\n",
       "    </tr>\n",
       "    <tr>\n",
       "      <th>4</th>\n",
       "      <td>2019-08-03</td>\n",
       "      <td>A</td>\n",
       "      <td>68</td>\n",
       "      <td>62</td>\n",
       "      <td>354874</td>\n",
       "      <td>1845</td>\n",
       "    </tr>\n",
       "  </tbody>\n",
       "</table>\n",
       "</div>"
      ],
      "text/plain": [
       "        date group  orders  buyers  revenue  visitors\n",
       "0 2019-08-01  A     24      20      148579   719     \n",
       "1 2019-08-01  B     21      20      101217   713     \n",
       "2 2019-08-02  A     44      38      242401   1338    \n",
       "3 2019-08-02  B     45      43      266748   1294    \n",
       "4 2019-08-03  A     68      62      354874   1845    "
      ]
     },
     "execution_count": 13,
     "metadata": {},
     "output_type": "execute_result"
    }
   ],
   "source": [
    "# создаем массив уникальных пар значений дат и групп теста\n",
    "datesGroups = orders[['date','group']].drop_duplicates()\n",
    "\n",
    "# получаем агрегированные кумулятивные по дням данные о заказах \n",
    "ordersAggregated = (\n",
    "    datesGroups\n",
    "    .apply(lambda x: orders[np.logical_and(orders['date'] <= x['date'], orders['group'] == x['group'])]\\\n",
    "           .agg({'date' : 'max','group' : 'max', 'transactionId' : 'nunique','visitorId' : 'nunique','revenue' : 'sum'}), axis=1)\n",
    "                    .sort_values(by=['date','group'])\n",
    ")\n",
    "\n",
    "# получаем агрегированные кумулятивные по дням данные о посетителях интернет-магазина \n",
    "visitorsAggregated = (\n",
    "    datesGroups\n",
    "    .apply(lambda x: visitors[np.logical_and(visitors['date'] <= x['date'], visitors['group'] == x['group'])]\n",
    "           .agg({'date' : 'max', 'group' : 'max', 'visitors' : 'sum'}), axis=1)\n",
    "               .sort_values(by=['date','group'])\n",
    ")\n",
    "\n",
    "# объединяем кумулятивные данные в одной таблице\n",
    "cumulativeData = ordersAggregated.merge(visitorsAggregated, left_on=['date', 'group'], right_on=['date', 'group'])\n",
    "# переименовываем столбцы\n",
    "cumulativeData.columns = ['date', 'group', 'orders', 'buyers', 'revenue', 'visitors']\n",
    "\n",
    "cumulativeData.head()"
   ]
  },
  {
   "cell_type": "markdown",
   "metadata": {},
   "source": [
    "Строим график кумулятивной выручки по группам"
   ]
  },
  {
   "cell_type": "code",
   "execution_count": 14,
   "metadata": {},
   "outputs": [
    {
     "data": {
      "image/png": "[encoded data removed]",
      "text/plain": [
       "<Figure size 1080x504 with 1 Axes>"
      ]
     },
     "metadata": {
      "needs_background": "light"
     },
     "output_type": "display_data"
    }
   ],
   "source": [
    "\n",
    "# датафрейм с кумулятивным количеством заказов и кумулятивной выручкой по дням в группе А\n",
    "cumulativeRevenueA = cumulativeData[cumulativeData['group']=='A'][['date','revenue', 'orders']]\n",
    "\n",
    "# датафрейм с кумулятивным количеством заказов и кумулятивной выручкой по дням в группе B\n",
    "cumulativeRevenueB = cumulativeData[cumulativeData['group']=='B'][['date','revenue', 'orders']]\n",
    "\n",
    "# Строим график выручки группы А\n",
    "plt.figure(figsize=(15,7))\n",
    "plt.plot(cumulativeRevenueA['date'], cumulativeRevenueA['revenue'], label='A')\n",
    "\n",
    "# Строим график выручки группы B\n",
    "plt.plot(cumulativeRevenueB['date'], cumulativeRevenueB['revenue'], label='B')\n",
    "\n",
    "\n",
    "plt.legend()\n",
    "\n",
    "plt.title('График кумулятивной выручки по группам')\n",
    "plt.ylabel('Выручка')\n",
    "plt.xlabel('Дата')\n",
    "\n",
    "plt.show()\n",
    "\n",
    "\n",
    "\n"
   ]
  },
  {
   "cell_type": "markdown",
   "metadata": {},
   "source": [
    "**Вывод**"
   ]
  },
  {
   "cell_type": "markdown",
   "metadata": {},
   "source": [
    "\n",
    "Выручка в группе А увеличивалась равномерно в течении всего теста. В группе В произошел резкий скачок после 17.08.2019. Его причину проверим дальше. Так же стоит отметить, что в целом выручка группы А ниже, чем группы В."
   ]
  },
  {
   "cell_type": "markdown",
   "metadata": {},
   "source": [
    "Построим график **кумулятивного среднего чека по группам**."
   ]
  },
  {
   "cell_type": "markdown",
   "metadata": {},
   "source": [
    "Построим графики среднего чека по группам — разделим кумулятивную выручку на кумулятивное число заказов:"
   ]
  },
  {
   "cell_type": "code",
   "execution_count": 15,
   "metadata": {},
   "outputs": [
    {
     "data": {
      "image/png": "[encoded data removed]",
      "text/plain": [
       "<Figure size 1080x504 with 1 Axes>"
      ]
     },
     "metadata": {
      "needs_background": "light"
     },
     "output_type": "display_data"
    }
   ],
   "source": [
    "plt.figure(figsize=(15,7))\n",
    "plt.plot(cumulativeRevenueA['date'], cumulativeRevenueA['revenue']/cumulativeRevenueA['orders'], label='A')\n",
    "plt.plot(cumulativeRevenueB['date'], cumulativeRevenueB['revenue']/cumulativeRevenueB['orders'], label='B')\n",
    "plt.legend()\n",
    "plt.title('График кумулятивного среднего чека по группам')\n",
    "plt.ylabel('Средний чек')\n",
    "plt.xlabel('Дата')\n",
    "\n",
    "plt.show()\n"
   ]
  },
  {
   "cell_type": "markdown",
   "metadata": {},
   "source": [
    "**Вывод**"
   ]
  },
  {
   "cell_type": "markdown",
   "metadata": {},
   "source": [
    "В группе А средний чек стал равномерным к концу теста начиная с 13.08.2019. В группе В виден резкий скачок, возможно это связано с аномально крупным заказом."
   ]
  },
  {
   "cell_type": "markdown",
   "metadata": {},
   "source": [
    "Построим график **относительного изменения кумулятивного среднего чека группы B к группе A**."
   ]
  },
  {
   "cell_type": "code",
   "execution_count": 16,
   "metadata": {},
   "outputs": [
    {
     "data": {
      "image/png": "[encoded data removed]",
      "text/plain": [
       "<Figure size 1080x504 with 1 Axes>"
      ]
     },
     "metadata": {
      "needs_background": "light"
     },
     "output_type": "display_data"
    }
   ],
   "source": [
    "# собираем данные в одном датафрейме\n",
    "mergedCumulativeRevenue = cumulativeRevenueA.merge(cumulativeRevenueB, left_on='date', right_on='date', how='left', suffixes=['A', 'B'])\n",
    "\n",
    "# cтроим отношение средних чеков\n",
    "plt.figure(figsize=(15,7))\n",
    "plt.plot(mergedCumulativeRevenue['date'], (mergedCumulativeRevenue['revenueB']/mergedCumulativeRevenue['ordersB'])/(mergedCumulativeRevenue['revenueA']/mergedCumulativeRevenue['ordersA'])-1)\n",
    "\n",
    "\n",
    "# добавляем ось X\n",
    "plt.axhline(y=0, color='black', linestyle='--')\n",
    "\n",
    "plt.title('График относительного изменения кумулятивного среднего чека группы B к группе A')\n",
    "plt.ylabel('Доля изменения')\n",
    "plt.xlabel('Дата')\n",
    "\n",
    "plt.show()"
   ]
  },
  {
   "cell_type": "markdown",
   "metadata": {},
   "source": [
    "**Вывод**"
   ]
  },
  {
   "cell_type": "markdown",
   "metadata": {},
   "source": [
    "Сначала средний чек группы B стабильно растет, потом резко падает и снова растет. Возможно это результат аномально больших заказов.\n"
   ]
  },
  {
   "cell_type": "markdown",
   "metadata": {},
   "source": [
    "Построим график **кумулятивного среднего количества заказов на посетителя по группам**."
   ]
  },
  {
   "cell_type": "code",
   "execution_count": 17,
   "metadata": {},
   "outputs": [
    {
     "data": {
      "image/png": "[encoded data removed]",
      "text/plain": [
       "<Figure size 1080x504 with 1 Axes>"
      ]
     },
     "metadata": {
      "needs_background": "light"
     },
     "output_type": "display_data"
    }
   ],
   "source": [
    "# считаем среднее количество заказов на посетителя\n",
    "cumulativeData['conversion'] = cumulativeData['orders']/cumulativeData['visitors']\n",
    "\n",
    "# отделяем данные по группе A\n",
    "cumulativeDataA = cumulativeData[cumulativeData['group']=='A']\n",
    "\n",
    "# отделяем данные по группе B\n",
    "cumulativeDataB = cumulativeData[cumulativeData['group']=='B']\n",
    "\n",
    "# строим графики\n",
    "\n",
    "plt.figure(figsize=(15,7))\n",
    "plt.plot(cumulativeDataA['date'], cumulativeDataA['conversion'], label='A')\n",
    "plt.plot(cumulativeDataB['date'], cumulativeDataB['conversion'], label='B')\n",
    "#plt.xticks(rotation=30)\n",
    "plt.legend()\n",
    "\n",
    "plt.title('График кумулятивного среднего количества заказов на посетителя по группам.')\n",
    "plt.ylabel('Кумулятивная конверсия')\n",
    "plt.xlabel('Дата')\n",
    "# задаем масштаб осей\n",
    "plt.axis([dt.datetime(2019, 8, 1), dt.datetime(2019, 8, 31), 0, 0.05])\n",
    "\n",
    "plt.show()\n",
    "\n"
   ]
  },
  {
   "cell_type": "markdown",
   "metadata": {},
   "source": [
    "**Вывод**"
   ]
  },
  {
   "cell_type": "markdown",
   "metadata": {},
   "source": [
    "В начале теста были колебания в конверсии. Конверсия группы А была выше, но после 05.08.2019 ситуация изменилась. Конверсия группы В стала выше и зафиксировалась около одного значения."
   ]
  },
  {
   "cell_type": "markdown",
   "metadata": {},
   "source": [
    "Построим график **относительного изменения кумулятивного среднего количества заказов на посетителя группы B к группе A**."
   ]
  },
  {
   "cell_type": "code",
   "execution_count": 18,
   "metadata": {},
   "outputs": [
    {
     "data": {
      "image/png": "[encoded data removed]",
      "text/plain": [
       "<Figure size 1080x504 with 1 Axes>"
      ]
     },
     "metadata": {
      "needs_background": "light"
     },
     "output_type": "display_data"
    }
   ],
   "source": [
    "mergedCumulativeConversions = cumulativeDataA[['date','conversion']].merge(cumulativeDataB[['date','conversion']], left_on='date', right_on='date', how='left', suffixes=['A', 'B'])\n",
    "\n",
    "plt.figure(figsize=(15,7))\n",
    "plt.plot(mergedCumulativeConversions['date'], mergedCumulativeConversions['conversionB']/mergedCumulativeConversions['conversionA']-1, label=\"Относительный прирост кумулятивного среднего количества заказов на посетителя группы B относительно группы A\")\n",
    "\n",
    "\n",
    "plt.title('График относительного изменения кумулятивного среднего количества заказов на посетителя группы B к группе A')\n",
    "plt.ylabel(' ')\n",
    "plt.xlabel('Дата')\n",
    "plt.axhline(y=0, color='black', linestyle='--')\n",
    "plt.axhline(y=0.1, color='grey', linestyle='--')\n",
    "plt.axhline(y=0.2, color='grey', linestyle='--')\n",
    "plt.axis([dt.datetime(2019, 8, 1), dt.datetime(2019, 8, 31), -0.1, 0.3])\n",
    "\n",
    "plt.show()\n"
   ]
  },
  {
   "cell_type": "markdown",
   "metadata": {},
   "source": [
    "**Вывод**"
   ]
  },
  {
   "cell_type": "markdown",
   "metadata": {},
   "source": [
    "До 5 августа 2019 года количество заказов в группе В менялось, но в основном было меньше, чем в группе А. Затем произошло резкое увеличение, после которого среднее количество заказов в группе В не опускалось ниже 10%, относительно группы А."
   ]
  },
  {
   "cell_type": "markdown",
   "metadata": {},
   "source": [
    "Построим **точечный график количества заказов по пользователям**."
   ]
  },
  {
   "cell_type": "code",
   "execution_count": 19,
   "metadata": {},
   "outputs": [
    {
     "data": {
      "image/png": "[encoded data removed]",
      "text/plain": [
       "<Figure size 1080x504 with 1 Axes>"
      ]
     },
     "metadata": {
      "needs_background": "light"
     },
     "output_type": "display_data"
    }
   ],
   "source": [
    "ordersByUsers = (\n",
    "    orders.groupby('visitorId', as_index=False)\n",
    "    .agg({'transactionId': 'nunique'})\n",
    ")\n",
    "\n",
    "ordersByUsers.columns = ['userId', 'orders']\n",
    "x_values = pd.Series(range(0,len(ordersByUsers)))\n",
    "\n",
    "plt.figure(figsize=(15,7))\n",
    "plt.scatter(x_values, ordersByUsers['orders'])\n",
    "\n",
    "\n",
    "plt.title('Точечный график количества заказов по пользователям.')\n",
    "plt.ylabel('Количество заказов')\n",
    "plt.xlabel('Индекс пользователя')\n",
    "plt.show()"
   ]
  },
  {
   "cell_type": "markdown",
   "metadata": {},
   "source": [
    "Болинство делает 1 заказ. Точная доля остальных заказов не ясна, чтобы ее определить посчитаем выборочные перцентили количества заказов на одного пользователя. Чтобы определить границу для определения аномальных пользователей."
   ]
  },
  {
   "cell_type": "code",
   "execution_count": 20,
   "metadata": {},
   "outputs": [
    {
     "name": "stdout",
     "output_type": "stream",
     "text": [
      "Не более 5% пользователей офорляли больше, чем [2.] заказа\n",
      "Не более 1% пользователей офорляли больше, чем [4.] заказа\n"
     ]
    }
   ],
   "source": [
    "#считаем перцентили\n",
    "percentile95 = np.percentile(ordersByUsers['orders'], [95])\n",
    "percentile99 = np.percentile(ordersByUsers['orders'], [99])\n",
    "print(f'Не более 5% пользователей офорляли больше, чем {percentile95} заказа')\n",
    "print(f'Не более 1% пользователей офорляли больше, чем {percentile99} заказа')"
   ]
  },
  {
   "cell_type": "markdown",
   "metadata": {},
   "source": [
    "Выберем границу в 2 заказа, по 95 перцентилю. Остальных пользователей примем за аномальных."
   ]
  },
  {
   "cell_type": "markdown",
   "metadata": {},
   "source": [
    "Построим **точечный график стоимостей заказов**. "
   ]
  },
  {
   "cell_type": "code",
   "execution_count": 21,
   "metadata": {},
   "outputs": [
    {
     "data": {
      "image/png": "[encoded data removed]",
      "text/plain": [
       "<Figure size 1080x504 with 1 Axes>"
      ]
     },
     "metadata": {
      "needs_background": "light"
     },
     "output_type": "display_data"
    }
   ],
   "source": [
    "x_values = pd.Series(range(0,len(orders['revenue'])))\n",
    "plt.figure(figsize=(15,7))\n",
    "plt.scatter(x_values, orders['revenue']) \n",
    "plt.title('Точечный график стоимостей заказов')\n",
    "plt.ylabel('Стоимость заказа')\n",
    "plt.xlabel('Индекс пользователя')\n",
    "plt.show()\n",
    "\n"
   ]
  },
  {
   "cell_type": "markdown",
   "metadata": {},
   "source": [
    "Видны явно выбивающиеся значения. Для стоимости заказов так же посчитаем перцентили, чтобы отсеять аномалии."
   ]
  },
  {
   "cell_type": "code",
   "execution_count": 22,
   "metadata": {},
   "outputs": [
    {
     "name": "stdout",
     "output_type": "stream",
     "text": [
      "Не более 5% заказов дороже, чем [28000.] \n",
      "Не более 1% заказов дороже, чем [58233.2] \n"
     ]
    }
   ],
   "source": [
    "#считаем перцентили\n",
    "percentile95 = np.percentile(orders['revenue'], [95])\n",
    "percentile99 = np.percentile(orders['revenue'], [99])\n",
    "print(f'Не более 5% заказов дороже, чем {percentile95} ')\n",
    "print(f'Не более 1% заказов дороже, чем {percentile99} ')"
   ]
  },
  {
   "cell_type": "markdown",
   "metadata": {},
   "source": [
    "Выберем границу в 28000, остальных пользователей примем за аномальных."
   ]
  },
  {
   "cell_type": "markdown",
   "metadata": {},
   "source": [
    "Посчитаем статистическую значимость различий в среднем числе заказов на пользователя и среднем чеке между группами без удаления аномальных пользователей.\n",
    "Сформулируем гипотезы: \n",
    "\n",
    "$H_{0}$ - различий в среднем количестве заказов между группами нет\n",
    "\n",
    "$H_{1}$ - различия в среднем количестве заказов между группами есть.\n",
    "\n",
    "Установим уровень статистической значимости = 0.05"
   ]
  },
  {
   "cell_type": "markdown",
   "metadata": {},
   "source": [
    "Посчитаем статистическую значимость различия в среднем количестве заказов между группами."
   ]
  },
  {
   "cell_type": "code",
   "execution_count": 23,
   "metadata": {},
   "outputs": [
    {
     "name": "stdout",
     "output_type": "stream",
     "text": [
      "        date  ordersPerDateA  revenuePerDateA  ordersPerDateB  \\\n",
      "0 2019-08-01  24              148579           21               \n",
      "1 2019-08-02  20              93822            24               \n",
      "2 2019-08-03  24              112473           16               \n",
      "3 2019-08-04  16              70825            17               \n",
      "4 2019-08-05  25              124218           23               \n",
      "\n",
      "   revenuePerDateB  ordersCummulativeA  revenueCummulativeA  \\\n",
      "0  101217           24                  148579                \n",
      "1  165531           44                  242401                \n",
      "2  114248           68                  354874                \n",
      "3  108571           84                  425699                \n",
      "4  92428            109                 549917                \n",
      "\n",
      "   ordersCummulativeB  revenueCummulativeB  visitorsPerDateA  \\\n",
      "0  21                  101217               719                \n",
      "1  45                  266748               619                \n",
      "2  61                  380996               507                \n",
      "3  78                  489567               717                \n",
      "4  101                 581995               756                \n",
      "\n",
      "   visitorsPerDateB  visitorsCummulativeA  visitorsCummulativeB  \n",
      "0  713               719                   713                   \n",
      "1  581               1338                  1294                  \n",
      "2  509               1845                  1803                  \n",
      "3  770               2562                  2573                  \n",
      "4  707               3318                  3280                  \n"
     ]
    }
   ],
   "source": [
    "\n",
    "visitorsADaily = visitors[visitors['group'] == 'A'][['date', 'visitors']]\n",
    "visitorsADaily.columns = ['date', 'visitorsPerDateA']\n",
    "\n",
    "visitorsACummulative = visitorsADaily.apply(\n",
    "    lambda x: visitorsADaily[visitorsADaily['date'] <= x['date']].agg(\n",
    "        {'date': 'max', 'visitorsPerDateA': 'sum'}\n",
    "    ),\n",
    "    axis=1,\n",
    ")\n",
    "visitorsACummulative.columns = ['date', 'visitorsCummulativeA']\n",
    "\n",
    "visitorsBDaily = visitors[visitors['group'] == 'B'][['date', 'visitors']]\n",
    "visitorsBDaily.columns = ['date', 'visitorsPerDateB']\n",
    "\n",
    "visitorsBCummulative = visitorsBDaily.apply(\n",
    "    lambda x: visitorsBDaily[visitorsBDaily['date'] <= x['date']].agg(\n",
    "        {'date': 'max', 'visitorsPerDateB': 'sum'}\n",
    "    ),\n",
    "    axis=1,\n",
    ")\n",
    "visitorsBCummulative.columns = ['date', 'visitorsCummulativeB']\n",
    "\n",
    "ordersADaily = (\n",
    "    orders[orders['group'] == 'A'][['date', 'transactionId', 'visitorId', 'revenue']]\n",
    "    .groupby('date', as_index=False)\n",
    "    .agg({'transactionId': pd.Series.nunique, 'revenue': 'sum'})\n",
    ")\n",
    "ordersADaily.columns = ['date', 'ordersPerDateA', 'revenuePerDateA']\n",
    "\n",
    "ordersACummulative = ordersADaily.apply(\n",
    "    lambda x: ordersADaily[ordersADaily['date'] <= x['date']].agg(\n",
    "        {'date': 'max', 'ordersPerDateA': 'sum', 'revenuePerDateA': 'sum'}\n",
    "    ),\n",
    "    axis=1,\n",
    ").sort_values(by=['date'])\n",
    "ordersACummulative.columns = [\n",
    "    'date',\n",
    "    'ordersCummulativeA',\n",
    "    'revenueCummulativeA',\n",
    "]\n",
    "\n",
    "ordersBDaily = (\n",
    "    orders[orders['group'] == 'B'][['date', 'transactionId', 'visitorId', 'revenue']]\n",
    "    .groupby('date', as_index=False)\n",
    "    .agg({'transactionId': pd.Series.nunique, 'revenue': 'sum'})\n",
    ")\n",
    "ordersBDaily.columns = ['date', 'ordersPerDateB', 'revenuePerDateB']\n",
    "\n",
    "ordersBCummulative = ordersBDaily.apply(\n",
    "    lambda x: ordersBDaily[ordersBDaily['date'] <= x['date']].agg(\n",
    "        {'date': 'max', 'ordersPerDateB': 'sum', 'revenuePerDateB': 'sum'}\n",
    "    ),\n",
    "    axis=1,\n",
    ").sort_values(by=['date'])\n",
    "ordersBCummulative.columns = [\n",
    "    'date',\n",
    "    'ordersCummulativeB',\n",
    "    'revenueCummulativeB',\n",
    "]\n",
    "\n",
    "data = (\n",
    "    ordersADaily.merge(\n",
    "        ordersBDaily, left_on='date', right_on='date', how='left'\n",
    "    )\n",
    "    .merge(ordersACummulative, left_on='date', right_on='date', how='left')\n",
    "    .merge(ordersBCummulative, left_on='date', right_on='date', how='left')\n",
    "    .merge(visitorsADaily, left_on='date', right_on='date', how='left')\n",
    "    .merge(visitorsBDaily, left_on='date', right_on='date', how='left')\n",
    "    .merge(visitorsACummulative, left_on='date', right_on='date', how='left')\n",
    "    .merge(visitorsBCummulative, left_on='date', right_on='date', how='left')\n",
    ")\n",
    "\n",
    "print(data.head(5))"
   ]
  },
  {
   "cell_type": "markdown",
   "metadata": {},
   "source": [
    "Создадим переменные `ordersByUsersA` и `ordersByUsersB` со столбцами `userId` `orders`. В них для пользователей, которые заказывали хотя бы 1 раз, укажем число совершённых заказов. "
   ]
  },
  {
   "cell_type": "code",
   "execution_count": 24,
   "metadata": {},
   "outputs": [],
   "source": [
    "ordersByUsersA = (\n",
    "    orders[orders['group'] == 'A']\n",
    "    .groupby('visitorId', as_index=False)\n",
    "    .agg({'transactionId': pd.Series.nunique})\n",
    ")\n",
    "ordersByUsersA.columns = ['userId', 'orders']\n",
    "\n",
    "ordersByUsersB = (\n",
    "    orders[orders['group'] == 'B']\n",
    "    .groupby('visitorId', as_index=False)\n",
    "    .agg({'transactionId': pd.Series.nunique})\n",
    ")\n",
    "ordersByUsersB.columns = ['userId', 'orders']"
   ]
  },
  {
   "cell_type": "markdown",
   "metadata": {},
   "source": [
    "Объявим переменные `sampleA` и `sampleB`, в которых пользователям из разных групп будет соответствовать количество заказов. Тем, кто ничего не заказал, будут соответствовать нули. Это нужно, чтобы подготовить выборки к проверке критерием Манна-Уитни."
   ]
  },
  {
   "cell_type": "code",
   "execution_count": 25,
   "metadata": {},
   "outputs": [
    {
     "name": "stdout",
     "output_type": "stream",
     "text": [
      "p-значение: 0.017\n",
      "Относительный прирост среднего числа заказов группы B: 0.138\n",
      "Отвергаем нулевую гипотезу: между группами есть разница\n"
     ]
    }
   ],
   "source": [
    "alpha = 0.05\n",
    "sampleA = pd.concat(\n",
    "    [\n",
    "        ordersByUsersA['orders'],\n",
    "        pd.Series(\n",
    "            0,\n",
    "            index=np.arange(\n",
    "                data['visitorsPerDateA'].sum() - len(ordersByUsersA['orders'])\n",
    "            ),\n",
    "            name='orders',\n",
    "        ),\n",
    "    ],\n",
    "    axis=0,\n",
    ")\n",
    "\n",
    "sampleB = pd.concat(\n",
    "    [\n",
    "        ordersByUsersB['orders'],\n",
    "        pd.Series(\n",
    "            0,\n",
    "            index=np.arange(\n",
    "                data['visitorsPerDateB'].sum() - len(ordersByUsersB['orders'])\n",
    "            ),\n",
    "            name='orders',\n",
    "        ),\n",
    "    ],\n",
    "    axis=0,\n",
    ")\n",
    "\n",
    "print('p-значение:',\"{0:.3f}\".format(stats.mannwhitneyu(sampleA, sampleB)[1]))\n",
    "\n",
    "print('Относительный прирост среднего числа заказов группы B:', \"{0:.3f}\".format(sampleB.mean() / sampleA.mean() - 1))\n",
    "\n",
    "\n",
    "if stats.mannwhitneyu(sampleA, sampleB)[1] < alpha:\n",
    "    print('Отвергаем нулевую гипотезу: между группами есть разница')\n",
    "else:\n",
    "    print('Не получилось отвергнуть нулевую гипотезу') \n"
   ]
  },
  {
   "cell_type": "markdown",
   "metadata": {},
   "source": [
    "Теперь проверим статистическую значимость различий в среднем чеке между сегментами.\n",
    "Сформулируем гипотезы: \n",
    "\n",
    "$H_{0}$ - различий в среднем чеке между группами нет.\n",
    "\n",
    "$H_{1}$ - различия в среднем чеке между группами есть.\n",
    "\n",
    "Установим уровень статистической значимости = 0.05\n",
    "Чтобы рассчитать статистическую значимость различий в среднем чеке, передадим критерию mannwhitneyu() данные о выручке с заказов. "
   ]
  },
  {
   "cell_type": "code",
   "execution_count": 26,
   "metadata": {},
   "outputs": [
    {
     "name": "stdout",
     "output_type": "stream",
     "text": [
      "p-значение: 0.729\n",
      "Относительный прирост среднего чека группы B: 0.259\n",
      "Не получилось отвергнуть нулевую гипотезу\n"
     ]
    }
   ],
   "source": [
    "alpha = 0.05\n",
    "print(\n",
    "    'p-значение:','{0:.3f}'\n",
    "    .format(stats.mannwhitneyu(orders[orders['group']=='A']['revenue'],\n",
    "                               orders[orders['group']=='B']['revenue'])[1])\n",
    ")\n",
    "\n",
    "print(\n",
    "    'Относительный прирост среднего чека группы B:', '{0:.3f}'\n",
    "    .format(orders[orders['group']=='B']['revenue'].mean()/orders[orders['group']=='A']['revenue']\n",
    "            .mean()-1)\n",
    ")\n",
    "\n",
    "if stats.mannwhitneyu(orders[orders['group']=='A']['revenue'],\n",
    "                               orders[orders['group']=='B']['revenue'])[1] < alpha:\n",
    "    print('Отвергаем нулевую гипотезу: между группами есть разница')\n",
    "else:\n",
    "    print('Не получилось отвергнуть нулевую гипотезу') "
   ]
  },
  {
   "cell_type": "markdown",
   "metadata": {},
   "source": [
    "P-value значительно больше 0.05. Значит, причин отвергать нулевую гипотезу и считать, что в среднем чеке есть различия, нет.\n",
    "\n",
    "Если p-value > alpha значит средний чек группы B **равен** среднему чеку группы A (или не отличается). Наблюдаемое различие не значимо, получено случайно из-за единичных выбросов."
   ]
  },
  {
   "cell_type": "markdown",
   "metadata": {},
   "source": [
    "Далее посчитаем статистическую значимость различий в среднем количестве заказов на посетителя между группами по «очищенным» данным."
   ]
  },
  {
   "cell_type": "markdown",
   "metadata": {},
   "source": [
    "Примем за аномальных пользователей тех, кто совершил от 2 заказов или совершил заказ дороже 28000."
   ]
  },
  {
   "cell_type": "code",
   "execution_count": 27,
   "metadata": {},
   "outputs": [
    {
     "name": "stdout",
     "output_type": "stream",
     "text": [
      "Количество аномальных пользователей: 74\n",
      "Доля аномальных пользователей 7.18%\n"
     ]
    }
   ],
   "source": [
    "usersWithManyOrders = pd.concat(\n",
    "    [\n",
    "        ordersByUsersA[ordersByUsersA['orders'] > 2]['userId'],\n",
    "        ordersByUsersB[ordersByUsersB['orders'] > 2]['userId'],\n",
    "    ],\n",
    "    axis=0,\n",
    ")\n",
    "usersWithExpensiveOrders = orders[orders['revenue'] > 28000]['visitorId']\n",
    "\n",
    "abnormalUsers = (\n",
    "    pd.concat([usersWithManyOrders, usersWithExpensiveOrders], axis=0)\n",
    "    .drop_duplicates()\n",
    "    .sort_values()\n",
    ")\n",
    "\n",
    "\n",
    "print('Количество аномальных пользователей:',len(abnormalUsers))\n",
    "print('Доля аномальных пользователей {:.2%}'.format(len(abnormalUsers) / len(orders['visitorId'].unique())))"
   ]
  },
  {
   "cell_type": "markdown",
   "metadata": {},
   "source": [
    "Узнаем, как их действия повлияли на результаты теста. Посчитаем статистическую значимость различий в среднем количестве заказов между группами теста по очищенным данным. Сначала подготовим выборки количества заказов по пользователям по группам теста:\n"
   ]
  },
  {
   "cell_type": "code",
   "execution_count": 28,
   "metadata": {},
   "outputs": [],
   "source": [
    "sampleAFiltered = pd.concat(\n",
    "    [\n",
    "        ordersByUsersA[\n",
    "            np.logical_not(ordersByUsersA['userId'].isin(abnormalUsers))\n",
    "        ]['orders'],\n",
    "        pd.Series(\n",
    "            0,\n",
    "            index=np.arange(\n",
    "                data['visitorsPerDateA'].sum() - len(ordersByUsersA['orders'])\n",
    "            ),\n",
    "            name='orders',\n",
    "        ),\n",
    "    ],\n",
    "    axis=0,\n",
    ")\n",
    "\n",
    "sampleBFiltered = pd.concat(\n",
    "    [\n",
    "        ordersByUsersB[\n",
    "            np.logical_not(ordersByUsersB['userId'].isin(abnormalUsers))\n",
    "        ]['orders'],\n",
    "        pd.Series(\n",
    "            0,\n",
    "            index=np.arange(\n",
    "                data['visitorsPerDateB'].sum() - len(ordersByUsersB['orders'])\n",
    "            ),\n",
    "            name='orders',\n",
    "        ),\n",
    "    ],\n",
    "    axis=0,\n",
    ")"
   ]
  },
  {
   "cell_type": "markdown",
   "metadata": {},
   "source": [
    "Применим статистический критерий Манна-Уитни к полученным выборкам:"
   ]
  },
  {
   "cell_type": "markdown",
   "metadata": {},
   "source": [
    "Сформулируем гипотезы: \n",
    "\n",
    "$H_{0}$ - различий в среднем количестве заказов между группами нет\n",
    "\n",
    "$H_{1}$ - различия в среднем количестве заказов между группами есть.\n",
    "\n",
    "Установим уровень статистической значимости = 0.05"
   ]
  },
  {
   "cell_type": "code",
   "execution_count": 29,
   "metadata": {},
   "outputs": [
    {
     "name": "stdout",
     "output_type": "stream",
     "text": [
      "p-значение: 0.013\n",
      "Относительный прирост среднего числа заказов группы B: 0.173\n",
      "Отвергаем нулевую гипотезу: между группами есть разница\n"
     ]
    }
   ],
   "source": [
    "print('p-значение:',\"{0:.3f}\".format(stats.mannwhitneyu(sampleAFiltered, sampleBFiltered)[1]))\n",
    "\n",
    "print('Относительный прирост среднего числа заказов группы B:', \"{0:.3f}\".format(sampleBFiltered.mean()/sampleAFiltered.mean()-1))\n",
    "\n",
    "\n",
    "if stats.mannwhitneyu(sampleAFiltered, sampleBFiltered)[1] < 0.05:\n",
    "    print('Отвергаем нулевую гипотезу: между группами есть разница')\n",
    "else:\n",
    "    print('Не получилось отвергнуть нулевую гипотезу') "
   ]
  },
  {
   "cell_type": "markdown",
   "metadata": {},
   "source": [
    "Результаты по среднему количеству заказов практически не изменились. Разница между группами есть, а относительный прирост среднего числа заказов группы B к группе А составляет 14,8%, что больше чем в данных с выбросами."
   ]
  },
  {
   "cell_type": "markdown",
   "metadata": {},
   "source": [
    " Посчитаем статистическую значимость различий в среднем чеке заказа между группами по «очищенным» данным."
   ]
  },
  {
   "cell_type": "markdown",
   "metadata": {},
   "source": [
    "$H_{0}$ - различий в среднем чеке между группами нет.\n",
    "\n",
    "$H_{1}$ - различия в среднем чеке между группами есть.\n",
    "\n",
    "Установим уровень статистической значимости = 0.05"
   ]
  },
  {
   "cell_type": "code",
   "execution_count": 30,
   "metadata": {},
   "outputs": [
    {
     "name": "stdout",
     "output_type": "stream",
     "text": [
      "p-значение: 0.738\n",
      "Относительный прирост среднего чека группы B: -0.020\n",
      "Не получилось отвергнуть нулевую гипотезу\n"
     ]
    }
   ],
   "source": [
    "print(\n",
    "    'p-значение:','{0:.3f}'.format(\n",
    "        stats.mannwhitneyu(\n",
    "            orders[\n",
    "                np.logical_and(\n",
    "                    orders['group'] == 'A',\n",
    "                    np.logical_not(orders['visitorId'].isin(abnormalUsers)),\n",
    "                )\n",
    "            ]['revenue'],\n",
    "            orders[\n",
    "                np.logical_and(\n",
    "                    orders['group'] == 'B',\n",
    "                    np.logical_not(orders['visitorId'].isin(abnormalUsers)),\n",
    "                )\n",
    "            ]['revenue'],\n",
    "        )[1]\n",
    "    )\n",
    ")\n",
    "\n",
    "print(\n",
    "    'Относительный прирост среднего чека группы B:',\"{0:.3f}\".format(\n",
    "        orders[\n",
    "            np.logical_and(\n",
    "                orders['group'] == 'B',\n",
    "                np.logical_not(orders['visitorId'].isin(abnormalUsers)),\n",
    "            )\n",
    "        ]['revenue'].mean()\n",
    "        / orders[\n",
    "            np.logical_and(\n",
    "                orders['group'] == 'A',\n",
    "                np.logical_not(orders['visitorId'].isin(abnormalUsers)),\n",
    "            )\n",
    "        ]['revenue'].mean()\n",
    "        - 1\n",
    "    )\n",
    ")\n",
    "\n",
    "if stats.mannwhitneyu(\n",
    "            orders[\n",
    "                np.logical_and(\n",
    "                    orders['group'] == 'A',\n",
    "                    np.logical_not(orders['visitorId'].isin(abnormalUsers)),\n",
    "                )\n",
    "            ]['revenue'],\n",
    "            orders[\n",
    "                np.logical_and(\n",
    "                    orders['group'] == 'B',\n",
    "                    np.logical_not(orders['visitorId'].isin(abnormalUsers)),\n",
    "                )\n",
    "            ]['revenue'],\n",
    "        )[1] < 0.05:\n",
    "     print('Отвергаем нулевую гипотезу: между группами есть разница')\n",
    "else:\n",
    "    print('Не получилось отвергнуть нулевую гипотезу') \n",
    "    "
   ]
  },
  {
   "cell_type": "markdown",
   "metadata": {},
   "source": [
    "Не получилось отвергнуть нулевую гипотезу, различий в среднем чеке между группами нет. Но без выбросов относительный прирост среднего чека группы В к группе А ниже на 2%, в то время как по не очищенным данным прирост среднего чека группы B составил 25%. наблюдаем сильное влияние аномалий"
   ]
  },
  {
   "cell_type": "markdown",
   "metadata": {},
   "source": [
    "## **Вывод**"
   ]
  },
  {
   "cell_type": "markdown",
   "metadata": {},
   "source": [
    "Перед проведением А/В теста стояла задача выбрать наиболее перспективную гипотезу для увеличения выручки интернет-магазина. Приоритизацию проводили с помощью фреймворков ICE и RICE. Результаты были различны, т.к. ICE не учитывает охват пользователей, принято решение отдать предпочтение результатам RICE и наиболее перспективной можно считать гипотезу: **Добавить форму подписки на все основные страницы, чтобы собрать базу клиентов для email-рассылок**\n",
    "\n",
    "В ходе A/B-теста были получены следующие результаты:\n",
    "\n",
    "- Обнаружено статистически значимое различие по конверсии между группами как на сырых, так и после фильтрации аномалий.\n",
    "\n",
    "- Статистически значимого различия по среднему чеку между группами на сырых данных не наблюдалось, как и после фильтрации аномалий.\n",
    "\n",
    "- График различия в конверсии между группами свидетельствует о том, что группа B показала лучшие результаты по сравнению с группой A: к концу тестирования показатели в группе B установились около среднего значения и превысили результаты группы A.\n",
    "\n",
    "На основании этих данных можно сделать вывод, что группа B превосходит группу A, и поэтому тест следует завершить, остановив его на данном этапе."
   ]
  }
 ],
 "metadata": {
  "ExecuteTimeLog": [
   {
    "duration": 1416,
    "start_time": "2024-04-24T09:00:48.308Z"
   },
   {
    "duration": 3,
    "start_time": "2024-04-24T09:01:28.933Z"
   },
   {
    "duration": 215,
    "start_time": "2024-04-24T09:03:04.839Z"
   },
   {
    "duration": 22,
    "start_time": "2024-04-24T09:09:22.963Z"
   },
   {
    "duration": 15,
    "start_time": "2024-04-24T09:09:37.286Z"
   },
   {
    "duration": 17,
    "start_time": "2024-04-24T09:09:47.957Z"
   },
   {
    "duration": 18,
    "start_time": "2024-04-24T09:16:31.003Z"
   },
   {
    "duration": 15,
    "start_time": "2024-04-24T09:17:03.314Z"
   },
   {
    "duration": 9,
    "start_time": "2024-04-24T09:21:16.145Z"
   },
   {
    "duration": 11,
    "start_time": "2024-04-24T09:22:53.458Z"
   },
   {
    "duration": 19,
    "start_time": "2024-04-24T09:23:50.187Z"
   },
   {
    "duration": 10,
    "start_time": "2024-04-24T09:24:32.829Z"
   },
   {
    "duration": 14,
    "start_time": "2024-04-24T10:11:05.268Z"
   },
   {
    "duration": 10,
    "start_time": "2024-04-24T10:11:37.879Z"
   },
   {
    "duration": 10,
    "start_time": "2024-04-24T10:11:53.327Z"
   },
   {
    "duration": 13,
    "start_time": "2024-04-24T10:14:17.425Z"
   },
   {
    "duration": 1352,
    "start_time": "2024-04-25T10:13:00.750Z"
   },
   {
    "duration": 217,
    "start_time": "2024-04-25T10:13:02.104Z"
   },
   {
    "duration": 20,
    "start_time": "2024-04-25T10:13:02.322Z"
   },
   {
    "duration": 26,
    "start_time": "2024-04-25T10:13:02.344Z"
   },
   {
    "duration": 82,
    "start_time": "2024-04-25T10:13:02.371Z"
   },
   {
    "duration": 39,
    "start_time": "2024-04-25T10:13:02.455Z"
   },
   {
    "duration": 23,
    "start_time": "2024-04-25T10:13:02.495Z"
   },
   {
    "duration": 33,
    "start_time": "2024-04-25T10:13:02.519Z"
   },
   {
    "duration": 44,
    "start_time": "2024-04-25T10:13:02.554Z"
   },
   {
    "duration": 71,
    "start_time": "2024-04-25T10:13:02.600Z"
   },
   {
    "duration": 0,
    "start_time": "2024-04-25T10:13:02.673Z"
   },
   {
    "duration": 12,
    "start_time": "2024-04-25T10:13:13.226Z"
   },
   {
    "duration": 13,
    "start_time": "2024-04-25T10:19:30.088Z"
   },
   {
    "duration": 5,
    "start_time": "2024-04-25T10:21:54.265Z"
   },
   {
    "duration": 117,
    "start_time": "2024-04-25T10:22:58.043Z"
   },
   {
    "duration": 20,
    "start_time": "2024-04-25T10:23:32.324Z"
   },
   {
    "duration": 13,
    "start_time": "2024-04-25T10:23:46.546Z"
   },
   {
    "duration": 22,
    "start_time": "2024-04-25T10:24:20.579Z"
   },
   {
    "duration": 22,
    "start_time": "2024-04-25T10:25:20.690Z"
   },
   {
    "duration": 174,
    "start_time": "2024-04-25T10:26:10.297Z"
   },
   {
    "duration": 130,
    "start_time": "2024-04-25T10:27:18.453Z"
   },
   {
    "duration": 110,
    "start_time": "2024-04-25T10:28:37.355Z"
   },
   {
    "duration": 267,
    "start_time": "2024-04-25T10:28:42.106Z"
   },
   {
    "duration": 281,
    "start_time": "2024-04-25T10:30:14.969Z"
   },
   {
    "duration": 288,
    "start_time": "2024-04-25T10:31:09.297Z"
   },
   {
    "duration": 247,
    "start_time": "2024-04-25T10:31:37.267Z"
   },
   {
    "duration": 267,
    "start_time": "2024-04-25T10:32:38.406Z"
   },
   {
    "duration": 273,
    "start_time": "2024-04-25T10:34:50.650Z"
   },
   {
    "duration": 471,
    "start_time": "2024-04-25T10:43:28.325Z"
   },
   {
    "duration": 67,
    "start_time": "2024-04-25T10:55:34.700Z"
   },
   {
    "duration": 156,
    "start_time": "2024-04-25T10:56:59.650Z"
   },
   {
    "duration": 249,
    "start_time": "2024-04-25T10:57:07.557Z"
   },
   {
    "duration": 12,
    "start_time": "2024-04-25T11:03:48.047Z"
   },
   {
    "duration": 5,
    "start_time": "2024-04-25T11:04:10.889Z"
   },
   {
    "duration": 5,
    "start_time": "2024-04-25T11:05:05.941Z"
   },
   {
    "duration": 259,
    "start_time": "2024-04-25T11:11:29.605Z"
   },
   {
    "duration": 289,
    "start_time": "2024-04-25T11:11:46.851Z"
   },
   {
    "duration": 338,
    "start_time": "2024-04-25T11:12:43.434Z"
   },
   {
    "duration": 266,
    "start_time": "2024-04-25T11:12:56.658Z"
   },
   {
    "duration": 232,
    "start_time": "2024-04-25T11:13:03.425Z"
   },
   {
    "duration": 422,
    "start_time": "2024-04-25T11:14:44.967Z"
   },
   {
    "duration": 435,
    "start_time": "2024-04-25T11:16:59.262Z"
   },
   {
    "duration": 423,
    "start_time": "2024-04-25T11:17:14.059Z"
   },
   {
    "duration": 357,
    "start_time": "2024-04-25T11:19:11.400Z"
   },
   {
    "duration": 4,
    "start_time": "2024-04-25T11:34:29.714Z"
   },
   {
    "duration": 6,
    "start_time": "2024-04-25T11:34:38.137Z"
   },
   {
    "duration": 11,
    "start_time": "2024-04-25T11:52:20.794Z"
   },
   {
    "duration": 12,
    "start_time": "2024-04-25T11:53:04.593Z"
   },
   {
    "duration": 112,
    "start_time": "2024-04-25T11:53:32.199Z"
   },
   {
    "duration": 5,
    "start_time": "2024-04-25T11:54:55.614Z"
   },
   {
    "duration": 10,
    "start_time": "2024-04-25T12:21:40.318Z"
   },
   {
    "duration": 127,
    "start_time": "2024-04-25T12:22:01.725Z"
   },
   {
    "duration": 6,
    "start_time": "2024-04-25T12:22:58.708Z"
   },
   {
    "duration": 4,
    "start_time": "2024-04-25T12:25:49.511Z"
   },
   {
    "duration": 1288,
    "start_time": "2024-04-26T06:40:22.748Z"
   },
   {
    "duration": 220,
    "start_time": "2024-04-26T06:40:24.038Z"
   },
   {
    "duration": 21,
    "start_time": "2024-04-26T06:40:24.259Z"
   },
   {
    "duration": 15,
    "start_time": "2024-04-26T06:40:24.282Z"
   },
   {
    "duration": 14,
    "start_time": "2024-04-26T06:40:24.299Z"
   },
   {
    "duration": 9,
    "start_time": "2024-04-26T06:40:24.315Z"
   },
   {
    "duration": 18,
    "start_time": "2024-04-26T06:40:24.325Z"
   },
   {
    "duration": 11,
    "start_time": "2024-04-26T06:40:24.344Z"
   },
   {
    "duration": 11,
    "start_time": "2024-04-26T06:40:24.357Z"
   },
   {
    "duration": 36,
    "start_time": "2024-04-26T06:40:24.371Z"
   },
   {
    "duration": 273,
    "start_time": "2024-04-26T06:40:24.409Z"
   },
   {
    "duration": 283,
    "start_time": "2024-04-26T06:40:24.684Z"
   },
   {
    "duration": 278,
    "start_time": "2024-04-26T06:40:24.969Z"
   },
   {
    "duration": 396,
    "start_time": "2024-04-26T06:40:25.248Z"
   },
   {
    "duration": 255,
    "start_time": "2024-04-26T06:40:25.646Z"
   },
   {
    "duration": 5,
    "start_time": "2024-04-26T06:40:25.903Z"
   },
   {
    "duration": 420,
    "start_time": "2024-04-26T06:40:25.915Z"
   },
   {
    "duration": 13,
    "start_time": "2024-04-26T06:40:26.337Z"
   },
   {
    "duration": 150,
    "start_time": "2024-04-26T06:40:26.352Z"
   },
   {
    "duration": 5,
    "start_time": "2024-04-26T06:40:26.503Z"
   },
   {
    "duration": 153,
    "start_time": "2024-04-26T06:40:26.510Z"
   },
   {
    "duration": 4,
    "start_time": "2024-04-26T06:40:26.665Z"
   },
   {
    "duration": 137,
    "start_time": "2024-04-26T07:16:56.728Z"
   },
   {
    "duration": 7,
    "start_time": "2024-04-26T07:17:27.622Z"
   },
   {
    "duration": 445,
    "start_time": "2024-04-26T07:22:12.239Z"
   },
   {
    "duration": 270,
    "start_time": "2024-04-26T07:22:25.958Z"
   },
   {
    "duration": 296,
    "start_time": "2024-04-26T07:22:43.038Z"
   },
   {
    "duration": 395,
    "start_time": "2024-04-26T07:24:31.690Z"
   },
   {
    "duration": 296,
    "start_time": "2024-04-26T07:24:38.970Z"
   },
   {
    "duration": 366,
    "start_time": "2024-04-26T07:27:18.870Z"
   },
   {
    "duration": 282,
    "start_time": "2024-04-26T07:27:27.998Z"
   },
   {
    "duration": 252,
    "start_time": "2024-04-26T07:28:10.270Z"
   },
   {
    "duration": 284,
    "start_time": "2024-04-26T07:28:15.757Z"
   },
   {
    "duration": 291,
    "start_time": "2024-04-26T07:28:20.645Z"
   },
   {
    "duration": 11,
    "start_time": "2024-04-26T07:40:02.692Z"
   },
   {
    "duration": 9,
    "start_time": "2024-04-26T07:40:13.635Z"
   },
   {
    "duration": 4,
    "start_time": "2024-04-26T07:40:53.115Z"
   },
   {
    "duration": 9,
    "start_time": "2024-04-26T07:40:55.218Z"
   },
   {
    "duration": 11,
    "start_time": "2024-04-26T07:41:04.548Z"
   },
   {
    "duration": 8,
    "start_time": "2024-04-26T08:37:38.225Z"
   },
   {
    "duration": 121,
    "start_time": "2024-04-26T08:39:31.149Z"
   },
   {
    "duration": 397,
    "start_time": "2024-04-26T08:46:33.505Z"
   },
   {
    "duration": 95,
    "start_time": "2024-04-26T08:46:53.529Z"
   },
   {
    "duration": 198,
    "start_time": "2024-04-26T08:49:53.660Z"
   },
   {
    "duration": 339,
    "start_time": "2024-04-26T08:51:41.056Z"
   },
   {
    "duration": 6,
    "start_time": "2024-04-26T08:53:57.268Z"
   },
   {
    "duration": 11,
    "start_time": "2024-04-26T08:54:24.083Z"
   },
   {
    "duration": 1173,
    "start_time": "2024-04-26T08:54:58.776Z"
   },
   {
    "duration": 76,
    "start_time": "2024-04-26T08:54:59.952Z"
   },
   {
    "duration": 19,
    "start_time": "2024-04-26T08:55:00.030Z"
   },
   {
    "duration": 55,
    "start_time": "2024-04-26T08:55:00.051Z"
   },
   {
    "duration": 127,
    "start_time": "2024-04-26T08:55:00.108Z"
   },
   {
    "duration": 64,
    "start_time": "2024-04-26T08:55:00.238Z"
   },
   {
    "duration": 46,
    "start_time": "2024-04-26T08:55:00.304Z"
   },
   {
    "duration": 87,
    "start_time": "2024-04-26T08:55:00.351Z"
   },
   {
    "duration": 60,
    "start_time": "2024-04-26T08:55:00.440Z"
   },
   {
    "duration": 42,
    "start_time": "2024-04-26T08:55:00.504Z"
   },
   {
    "duration": 69,
    "start_time": "2024-04-26T08:55:00.548Z"
   },
   {
    "duration": 334,
    "start_time": "2024-04-26T08:55:00.619Z"
   },
   {
    "duration": 268,
    "start_time": "2024-04-26T08:55:00.955Z"
   },
   {
    "duration": 179,
    "start_time": "2024-04-26T08:55:01.225Z"
   },
   {
    "duration": 290,
    "start_time": "2024-04-26T08:55:01.406Z"
   },
   {
    "duration": 346,
    "start_time": "2024-04-26T08:55:01.698Z"
   },
   {
    "duration": 0,
    "start_time": "2024-04-26T08:55:02.046Z"
   },
   {
    "duration": 0,
    "start_time": "2024-04-26T08:55:02.048Z"
   },
   {
    "duration": 0,
    "start_time": "2024-04-26T08:55:02.049Z"
   },
   {
    "duration": 0,
    "start_time": "2024-04-26T08:55:02.051Z"
   },
   {
    "duration": 0,
    "start_time": "2024-04-26T08:55:02.052Z"
   },
   {
    "duration": 0,
    "start_time": "2024-04-26T08:55:02.054Z"
   },
   {
    "duration": 0,
    "start_time": "2024-04-26T08:55:02.055Z"
   },
   {
    "duration": 0,
    "start_time": "2024-04-26T08:55:02.057Z"
   },
   {
    "duration": 0,
    "start_time": "2024-04-26T08:55:02.058Z"
   },
   {
    "duration": 249,
    "start_time": "2024-04-26T08:55:54.401Z"
   },
   {
    "duration": 398,
    "start_time": "2024-04-26T09:02:05.000Z"
   },
   {
    "duration": 1157,
    "start_time": "2024-04-26T09:02:26.586Z"
   },
   {
    "duration": 77,
    "start_time": "2024-04-26T09:02:27.745Z"
   },
   {
    "duration": 20,
    "start_time": "2024-04-26T09:02:27.823Z"
   },
   {
    "duration": 16,
    "start_time": "2024-04-26T09:02:27.845Z"
   },
   {
    "duration": 13,
    "start_time": "2024-04-26T09:02:27.862Z"
   },
   {
    "duration": 8,
    "start_time": "2024-04-26T09:02:27.877Z"
   },
   {
    "duration": 399,
    "start_time": "2024-04-26T09:02:27.886Z"
   },
   {
    "duration": 1,
    "start_time": "2024-04-26T09:02:28.287Z"
   },
   {
    "duration": 0,
    "start_time": "2024-04-26T09:02:28.289Z"
   },
   {
    "duration": 0,
    "start_time": "2024-04-26T09:02:28.290Z"
   },
   {
    "duration": 0,
    "start_time": "2024-04-26T09:02:28.291Z"
   },
   {
    "duration": 0,
    "start_time": "2024-04-26T09:02:28.292Z"
   },
   {
    "duration": 0,
    "start_time": "2024-04-26T09:02:28.293Z"
   },
   {
    "duration": 0,
    "start_time": "2024-04-26T09:02:28.294Z"
   },
   {
    "duration": 0,
    "start_time": "2024-04-26T09:02:28.295Z"
   },
   {
    "duration": 0,
    "start_time": "2024-04-26T09:02:28.296Z"
   },
   {
    "duration": 0,
    "start_time": "2024-04-26T09:02:28.297Z"
   },
   {
    "duration": 0,
    "start_time": "2024-04-26T09:02:28.298Z"
   },
   {
    "duration": 0,
    "start_time": "2024-04-26T09:02:28.299Z"
   },
   {
    "duration": 0,
    "start_time": "2024-04-26T09:02:28.300Z"
   },
   {
    "duration": 0,
    "start_time": "2024-04-26T09:02:28.301Z"
   },
   {
    "duration": 0,
    "start_time": "2024-04-26T09:02:28.302Z"
   },
   {
    "duration": 0,
    "start_time": "2024-04-26T09:02:28.303Z"
   },
   {
    "duration": 0,
    "start_time": "2024-04-26T09:02:28.304Z"
   },
   {
    "duration": 0,
    "start_time": "2024-04-26T09:02:28.305Z"
   },
   {
    "duration": 303,
    "start_time": "2024-04-26T09:03:28.446Z"
   },
   {
    "duration": 119,
    "start_time": "2024-04-26T09:21:28.874Z"
   },
   {
    "duration": 14,
    "start_time": "2024-04-26T09:21:34.985Z"
   },
   {
    "duration": 1101,
    "start_time": "2024-04-26T09:21:41.074Z"
   },
   {
    "duration": 77,
    "start_time": "2024-04-26T09:21:42.177Z"
   },
   {
    "duration": 19,
    "start_time": "2024-04-26T09:21:42.255Z"
   },
   {
    "duration": 16,
    "start_time": "2024-04-26T09:21:42.275Z"
   },
   {
    "duration": 16,
    "start_time": "2024-04-26T09:21:42.292Z"
   },
   {
    "duration": 13,
    "start_time": "2024-04-26T09:21:42.310Z"
   },
   {
    "duration": 27,
    "start_time": "2024-04-26T09:21:42.324Z"
   },
   {
    "duration": 25,
    "start_time": "2024-04-26T09:21:42.353Z"
   },
   {
    "duration": 14,
    "start_time": "2024-04-26T09:21:42.379Z"
   },
   {
    "duration": 12,
    "start_time": "2024-04-26T09:21:42.397Z"
   },
   {
    "duration": 12,
    "start_time": "2024-04-26T09:21:42.410Z"
   },
   {
    "duration": 291,
    "start_time": "2024-04-26T09:21:42.424Z"
   },
   {
    "duration": 273,
    "start_time": "2024-04-26T09:21:42.717Z"
   },
   {
    "duration": 180,
    "start_time": "2024-04-26T09:21:42.991Z"
   },
   {
    "duration": 262,
    "start_time": "2024-04-26T09:21:43.173Z"
   },
   {
    "duration": 335,
    "start_time": "2024-04-26T09:21:43.437Z"
   },
   {
    "duration": 0,
    "start_time": "2024-04-26T09:21:43.774Z"
   },
   {
    "duration": 0,
    "start_time": "2024-04-26T09:21:43.776Z"
   },
   {
    "duration": 0,
    "start_time": "2024-04-26T09:21:43.776Z"
   },
   {
    "duration": 0,
    "start_time": "2024-04-26T09:21:43.778Z"
   },
   {
    "duration": 0,
    "start_time": "2024-04-26T09:21:43.779Z"
   },
   {
    "duration": 0,
    "start_time": "2024-04-26T09:21:43.781Z"
   },
   {
    "duration": 0,
    "start_time": "2024-04-26T09:21:43.782Z"
   },
   {
    "duration": 0,
    "start_time": "2024-04-26T09:21:43.783Z"
   },
   {
    "duration": 0,
    "start_time": "2024-04-26T09:21:43.785Z"
   },
   {
    "duration": 15,
    "start_time": "2024-04-26T09:22:43.022Z"
   },
   {
    "duration": 11,
    "start_time": "2024-04-26T09:23:34.029Z"
   },
   {
    "duration": 13,
    "start_time": "2024-04-26T09:28:50.948Z"
   },
   {
    "duration": 283,
    "start_time": "2024-04-26T09:29:12.819Z"
   },
   {
    "duration": 1172,
    "start_time": "2024-04-26T09:29:26.004Z"
   },
   {
    "duration": 76,
    "start_time": "2024-04-26T09:29:27.178Z"
   },
   {
    "duration": 18,
    "start_time": "2024-04-26T09:29:27.256Z"
   },
   {
    "duration": 15,
    "start_time": "2024-04-26T09:29:27.276Z"
   },
   {
    "duration": 17,
    "start_time": "2024-04-26T09:29:27.293Z"
   },
   {
    "duration": 9,
    "start_time": "2024-04-26T09:29:27.312Z"
   },
   {
    "duration": 27,
    "start_time": "2024-04-26T09:29:27.322Z"
   },
   {
    "duration": 13,
    "start_time": "2024-04-26T09:29:27.350Z"
   },
   {
    "duration": 11,
    "start_time": "2024-04-26T09:29:27.364Z"
   },
   {
    "duration": 42,
    "start_time": "2024-04-26T09:29:27.378Z"
   },
   {
    "duration": 12,
    "start_time": "2024-04-26T09:29:27.422Z"
   },
   {
    "duration": 12,
    "start_time": "2024-04-26T09:29:27.436Z"
   },
   {
    "duration": 295,
    "start_time": "2024-04-26T09:29:27.450Z"
   },
   {
    "duration": 257,
    "start_time": "2024-04-26T09:29:27.746Z"
   },
   {
    "duration": 178,
    "start_time": "2024-04-26T09:29:28.005Z"
   },
   {
    "duration": 311,
    "start_time": "2024-04-26T09:29:28.185Z"
   },
   {
    "duration": 349,
    "start_time": "2024-04-26T09:29:28.497Z"
   },
   {
    "duration": 0,
    "start_time": "2024-04-26T09:29:28.848Z"
   },
   {
    "duration": 0,
    "start_time": "2024-04-26T09:29:28.849Z"
   },
   {
    "duration": 0,
    "start_time": "2024-04-26T09:29:28.851Z"
   },
   {
    "duration": 0,
    "start_time": "2024-04-26T09:29:28.852Z"
   },
   {
    "duration": 0,
    "start_time": "2024-04-26T09:29:28.853Z"
   },
   {
    "duration": 0,
    "start_time": "2024-04-26T09:29:28.854Z"
   },
   {
    "duration": 0,
    "start_time": "2024-04-26T09:29:28.855Z"
   },
   {
    "duration": 0,
    "start_time": "2024-04-26T09:29:28.856Z"
   },
   {
    "duration": 0,
    "start_time": "2024-04-26T09:29:28.857Z"
   },
   {
    "duration": 323,
    "start_time": "2024-04-26T09:29:51.630Z"
   },
   {
    "duration": 11,
    "start_time": "2024-04-26T09:29:59.893Z"
   },
   {
    "duration": 1131,
    "start_time": "2024-04-26T09:30:29.961Z"
   },
   {
    "duration": 76,
    "start_time": "2024-04-26T09:30:31.094Z"
   },
   {
    "duration": 20,
    "start_time": "2024-04-26T09:30:31.172Z"
   },
   {
    "duration": 58,
    "start_time": "2024-04-26T09:30:31.194Z"
   },
   {
    "duration": 42,
    "start_time": "2024-04-26T09:30:31.253Z"
   },
   {
    "duration": 68,
    "start_time": "2024-04-26T09:30:31.297Z"
   },
   {
    "duration": 51,
    "start_time": "2024-04-26T09:30:31.367Z"
   },
   {
    "duration": 48,
    "start_time": "2024-04-26T09:30:31.419Z"
   },
   {
    "duration": 59,
    "start_time": "2024-04-26T09:30:31.469Z"
   },
   {
    "duration": 38,
    "start_time": "2024-04-26T09:30:31.530Z"
   },
   {
    "duration": 37,
    "start_time": "2024-04-26T09:30:31.570Z"
   },
   {
    "duration": 33,
    "start_time": "2024-04-26T09:30:31.608Z"
   },
   {
    "duration": 310,
    "start_time": "2024-04-26T09:30:31.642Z"
   },
   {
    "duration": 463,
    "start_time": "2024-04-26T09:30:31.954Z"
   },
   {
    "duration": 331,
    "start_time": "2024-04-26T09:30:32.419Z"
   },
   {
    "duration": 466,
    "start_time": "2024-04-26T09:30:32.751Z"
   },
   {
    "duration": 488,
    "start_time": "2024-04-26T09:30:33.219Z"
   },
   {
    "duration": 0,
    "start_time": "2024-04-26T09:30:33.708Z"
   },
   {
    "duration": 0,
    "start_time": "2024-04-26T09:30:33.710Z"
   },
   {
    "duration": 0,
    "start_time": "2024-04-26T09:30:33.711Z"
   },
   {
    "duration": 0,
    "start_time": "2024-04-26T09:30:33.714Z"
   },
   {
    "duration": 0,
    "start_time": "2024-04-26T09:30:33.715Z"
   },
   {
    "duration": 0,
    "start_time": "2024-04-26T09:30:33.717Z"
   },
   {
    "duration": 0,
    "start_time": "2024-04-26T09:30:33.718Z"
   },
   {
    "duration": 0,
    "start_time": "2024-04-26T09:30:33.719Z"
   },
   {
    "duration": 0,
    "start_time": "2024-04-26T09:30:33.720Z"
   },
   {
    "duration": 209,
    "start_time": "2024-04-26T09:35:01.764Z"
   },
   {
    "duration": 1134,
    "start_time": "2024-04-26T09:36:16.531Z"
   },
   {
    "duration": 77,
    "start_time": "2024-04-26T09:36:17.667Z"
   },
   {
    "duration": 21,
    "start_time": "2024-04-26T09:36:17.746Z"
   },
   {
    "duration": 16,
    "start_time": "2024-04-26T09:36:17.769Z"
   },
   {
    "duration": 16,
    "start_time": "2024-04-26T09:36:17.786Z"
   },
   {
    "duration": 34,
    "start_time": "2024-04-26T09:36:17.803Z"
   },
   {
    "duration": 23,
    "start_time": "2024-04-26T09:36:17.838Z"
   },
   {
    "duration": 10,
    "start_time": "2024-04-26T09:36:17.862Z"
   },
   {
    "duration": 12,
    "start_time": "2024-04-26T09:36:17.873Z"
   },
   {
    "duration": 15,
    "start_time": "2024-04-26T09:36:17.888Z"
   },
   {
    "duration": 14,
    "start_time": "2024-04-26T09:36:17.905Z"
   },
   {
    "duration": 12,
    "start_time": "2024-04-26T09:36:17.921Z"
   },
   {
    "duration": 306,
    "start_time": "2024-04-26T09:36:17.934Z"
   },
   {
    "duration": 294,
    "start_time": "2024-04-26T09:36:18.241Z"
   },
   {
    "duration": 183,
    "start_time": "2024-04-26T09:36:18.536Z"
   },
   {
    "duration": 294,
    "start_time": "2024-04-26T09:36:18.722Z"
   },
   {
    "duration": 192,
    "start_time": "2024-04-26T09:36:19.018Z"
   },
   {
    "duration": 420,
    "start_time": "2024-04-26T09:36:19.215Z"
   },
   {
    "duration": 0,
    "start_time": "2024-04-26T09:36:19.637Z"
   },
   {
    "duration": 0,
    "start_time": "2024-04-26T09:36:19.638Z"
   },
   {
    "duration": 0,
    "start_time": "2024-04-26T09:36:19.639Z"
   },
   {
    "duration": 0,
    "start_time": "2024-04-26T09:36:19.640Z"
   },
   {
    "duration": 0,
    "start_time": "2024-04-26T09:36:19.641Z"
   },
   {
    "duration": 0,
    "start_time": "2024-04-26T09:36:19.642Z"
   },
   {
    "duration": 0,
    "start_time": "2024-04-26T09:36:19.643Z"
   },
   {
    "duration": 0,
    "start_time": "2024-04-26T09:36:19.643Z"
   },
   {
    "duration": 301,
    "start_time": "2024-04-26T09:37:10.027Z"
   },
   {
    "duration": 1106,
    "start_time": "2024-04-26T09:37:18.864Z"
   },
   {
    "duration": 76,
    "start_time": "2024-04-26T09:37:19.972Z"
   },
   {
    "duration": 17,
    "start_time": "2024-04-26T09:37:20.050Z"
   },
   {
    "duration": 16,
    "start_time": "2024-04-26T09:37:20.069Z"
   },
   {
    "duration": 24,
    "start_time": "2024-04-26T09:37:20.086Z"
   },
   {
    "duration": 16,
    "start_time": "2024-04-26T09:37:20.112Z"
   },
   {
    "duration": 39,
    "start_time": "2024-04-26T09:37:20.129Z"
   },
   {
    "duration": 15,
    "start_time": "2024-04-26T09:37:20.169Z"
   },
   {
    "duration": 27,
    "start_time": "2024-04-26T09:37:20.186Z"
   },
   {
    "duration": 9,
    "start_time": "2024-04-26T09:37:20.215Z"
   },
   {
    "duration": 11,
    "start_time": "2024-04-26T09:37:20.225Z"
   },
   {
    "duration": 13,
    "start_time": "2024-04-26T09:37:20.237Z"
   },
   {
    "duration": 303,
    "start_time": "2024-04-26T09:37:20.251Z"
   },
   {
    "duration": 271,
    "start_time": "2024-04-26T09:37:20.556Z"
   },
   {
    "duration": 199,
    "start_time": "2024-04-26T09:37:20.829Z"
   },
   {
    "duration": 267,
    "start_time": "2024-04-26T09:37:21.030Z"
   },
   {
    "duration": 213,
    "start_time": "2024-04-26T09:37:21.299Z"
   },
   {
    "duration": 316,
    "start_time": "2024-04-26T09:37:21.513Z"
   },
   {
    "duration": 123,
    "start_time": "2024-04-26T09:37:21.831Z"
   },
   {
    "duration": 5,
    "start_time": "2024-04-26T09:37:21.955Z"
   },
   {
    "duration": 139,
    "start_time": "2024-04-26T09:37:21.961Z"
   },
   {
    "duration": 5,
    "start_time": "2024-04-26T09:37:22.101Z"
   },
   {
    "duration": 390,
    "start_time": "2024-04-26T09:37:22.115Z"
   },
   {
    "duration": 0,
    "start_time": "2024-04-26T09:37:22.506Z"
   },
   {
    "duration": 0,
    "start_time": "2024-04-26T09:37:22.508Z"
   },
   {
    "duration": 0,
    "start_time": "2024-04-26T09:37:22.509Z"
   },
   {
    "duration": 217,
    "start_time": "2024-04-26T09:38:14.610Z"
   },
   {
    "duration": 1157,
    "start_time": "2024-04-26T09:38:43.209Z"
   },
   {
    "duration": 77,
    "start_time": "2024-04-26T09:38:44.368Z"
   },
   {
    "duration": 19,
    "start_time": "2024-04-26T09:38:44.447Z"
   },
   {
    "duration": 14,
    "start_time": "2024-04-26T09:38:44.468Z"
   },
   {
    "duration": 13,
    "start_time": "2024-04-26T09:38:44.484Z"
   },
   {
    "duration": 7,
    "start_time": "2024-04-26T09:38:44.499Z"
   },
   {
    "duration": 26,
    "start_time": "2024-04-26T09:38:44.507Z"
   },
   {
    "duration": 10,
    "start_time": "2024-04-26T09:38:44.534Z"
   },
   {
    "duration": 15,
    "start_time": "2024-04-26T09:38:44.546Z"
   },
   {
    "duration": 9,
    "start_time": "2024-04-26T09:38:44.563Z"
   },
   {
    "duration": 12,
    "start_time": "2024-04-26T09:38:44.573Z"
   },
   {
    "duration": 34,
    "start_time": "2024-04-26T09:38:44.586Z"
   },
   {
    "duration": 282,
    "start_time": "2024-04-26T09:38:44.621Z"
   },
   {
    "duration": 265,
    "start_time": "2024-04-26T09:38:44.904Z"
   },
   {
    "duration": 190,
    "start_time": "2024-04-26T09:38:45.171Z"
   },
   {
    "duration": 253,
    "start_time": "2024-04-26T09:38:45.363Z"
   },
   {
    "duration": 210,
    "start_time": "2024-04-26T09:38:45.618Z"
   },
   {
    "duration": 304,
    "start_time": "2024-04-26T09:38:45.830Z"
   },
   {
    "duration": 125,
    "start_time": "2024-04-26T09:38:46.136Z"
   },
   {
    "duration": 5,
    "start_time": "2024-04-26T09:38:46.263Z"
   },
   {
    "duration": 138,
    "start_time": "2024-04-26T09:38:46.269Z"
   },
   {
    "duration": 4,
    "start_time": "2024-04-26T09:38:46.414Z"
   },
   {
    "duration": 214,
    "start_time": "2024-04-26T09:38:46.420Z"
   },
   {
    "duration": 7,
    "start_time": "2024-04-26T09:38:46.636Z"
   },
   {
    "duration": 142,
    "start_time": "2024-04-26T09:38:46.645Z"
   },
   {
    "duration": 32,
    "start_time": "2024-04-26T09:38:46.789Z"
   },
   {
    "duration": 12,
    "start_time": "2024-04-26T09:53:28.848Z"
   },
   {
    "duration": 9,
    "start_time": "2024-04-26T09:58:02.169Z"
   },
   {
    "duration": 1810,
    "start_time": "2024-04-26T09:58:25.593Z"
   },
   {
    "duration": 8,
    "start_time": "2024-04-26T09:58:39.168Z"
   },
   {
    "duration": 13,
    "start_time": "2024-04-26T09:59:04.407Z"
   },
   {
    "duration": 9,
    "start_time": "2024-04-26T09:59:14.616Z"
   },
   {
    "duration": 8,
    "start_time": "2024-04-26T10:01:09.525Z"
   },
   {
    "duration": 9,
    "start_time": "2024-04-26T10:01:15.228Z"
   },
   {
    "duration": 25,
    "start_time": "2024-04-26T10:01:37.132Z"
   },
   {
    "duration": 1193,
    "start_time": "2024-04-26T10:02:54.106Z"
   },
   {
    "duration": 1063,
    "start_time": "2024-04-26T10:03:17.778Z"
   },
   {
    "duration": 11,
    "start_time": "2024-04-26T10:03:29.530Z"
   },
   {
    "duration": 13,
    "start_time": "2024-04-26T10:03:53.425Z"
   },
   {
    "duration": 1338,
    "start_time": "2024-04-30T09:58:57.925Z"
   },
   {
    "duration": 217,
    "start_time": "2024-04-30T09:58:59.265Z"
   },
   {
    "duration": 22,
    "start_time": "2024-04-30T09:58:59.483Z"
   },
   {
    "duration": 15,
    "start_time": "2024-04-30T09:58:59.507Z"
   },
   {
    "duration": 15,
    "start_time": "2024-04-30T09:58:59.524Z"
   },
   {
    "duration": 8,
    "start_time": "2024-04-30T09:58:59.541Z"
   },
   {
    "duration": 44,
    "start_time": "2024-04-30T09:58:59.550Z"
   },
   {
    "duration": 10,
    "start_time": "2024-04-30T09:58:59.595Z"
   },
   {
    "duration": 11,
    "start_time": "2024-04-30T09:58:59.607Z"
   },
   {
    "duration": 10,
    "start_time": "2024-04-30T09:58:59.620Z"
   },
   {
    "duration": 50,
    "start_time": "2024-04-30T09:58:59.631Z"
   },
   {
    "duration": 12,
    "start_time": "2024-04-30T09:58:59.682Z"
   },
   {
    "duration": 328,
    "start_time": "2024-04-30T09:58:59.696Z"
   },
   {
    "duration": 307,
    "start_time": "2024-04-30T09:59:00.025Z"
   },
   {
    "duration": 203,
    "start_time": "2024-04-30T09:59:00.334Z"
   },
   {
    "duration": 374,
    "start_time": "2024-04-30T09:59:00.539Z"
   },
   {
    "duration": 215,
    "start_time": "2024-04-30T09:59:00.915Z"
   },
   {
    "duration": 313,
    "start_time": "2024-04-30T09:59:01.131Z"
   },
   {
    "duration": 131,
    "start_time": "2024-04-30T09:59:01.446Z"
   },
   {
    "duration": 6,
    "start_time": "2024-04-30T09:59:01.579Z"
   },
   {
    "duration": 189,
    "start_time": "2024-04-30T09:59:01.586Z"
   },
   {
    "duration": 4,
    "start_time": "2024-04-30T09:59:01.777Z"
   },
   {
    "duration": 250,
    "start_time": "2024-04-30T09:59:01.782Z"
   },
   {
    "duration": 8,
    "start_time": "2024-04-30T09:59:02.034Z"
   },
   {
    "duration": 170,
    "start_time": "2024-04-30T09:59:02.043Z"
   },
   {
    "duration": 33,
    "start_time": "2024-04-30T09:59:02.215Z"
   },
   {
    "duration": 10,
    "start_time": "2024-04-30T09:59:02.250Z"
   },
   {
    "duration": 10,
    "start_time": "2024-04-30T09:59:02.275Z"
   },
   {
    "duration": 11,
    "start_time": "2024-04-30T09:59:02.287Z"
   },
   {
    "duration": 27,
    "start_time": "2024-04-30T09:59:02.299Z"
   },
   {
    "duration": 31,
    "start_time": "2024-04-30T09:59:02.327Z"
   },
   {
    "duration": 19,
    "start_time": "2024-04-30T09:59:02.360Z"
   },
   {
    "duration": 395,
    "start_time": "2024-04-30T10:07:43.822Z"
   },
   {
    "duration": 1266,
    "start_time": "2024-04-30T10:07:53.067Z"
   },
   {
    "duration": 76,
    "start_time": "2024-04-30T10:07:54.335Z"
   },
   {
    "duration": 19,
    "start_time": "2024-04-30T10:07:54.413Z"
   },
   {
    "duration": 16,
    "start_time": "2024-04-30T10:07:54.434Z"
   },
   {
    "duration": 14,
    "start_time": "2024-04-30T10:07:54.452Z"
   },
   {
    "duration": 8,
    "start_time": "2024-04-30T10:07:54.468Z"
   },
   {
    "duration": 29,
    "start_time": "2024-04-30T10:07:54.477Z"
   },
   {
    "duration": 9,
    "start_time": "2024-04-30T10:07:54.508Z"
   },
   {
    "duration": 15,
    "start_time": "2024-04-30T10:07:54.519Z"
   },
   {
    "duration": 36,
    "start_time": "2024-04-30T10:07:54.538Z"
   },
   {
    "duration": 13,
    "start_time": "2024-04-30T10:07:54.575Z"
   },
   {
    "duration": 14,
    "start_time": "2024-04-30T10:07:54.590Z"
   },
   {
    "duration": 336,
    "start_time": "2024-04-30T10:07:54.606Z"
   },
   {
    "duration": 291,
    "start_time": "2024-04-30T10:07:54.944Z"
   },
   {
    "duration": 192,
    "start_time": "2024-04-30T10:07:55.236Z"
   },
   {
    "duration": 293,
    "start_time": "2024-04-30T10:07:55.430Z"
   },
   {
    "duration": 218,
    "start_time": "2024-04-30T10:07:55.724Z"
   },
   {
    "duration": 362,
    "start_time": "2024-04-30T10:07:55.944Z"
   },
   {
    "duration": 134,
    "start_time": "2024-04-30T10:07:56.307Z"
   },
   {
    "duration": 5,
    "start_time": "2024-04-30T10:07:56.443Z"
   },
   {
    "duration": 149,
    "start_time": "2024-04-30T10:07:56.449Z"
   },
   {
    "duration": 4,
    "start_time": "2024-04-30T10:07:56.600Z"
   },
   {
    "duration": 238,
    "start_time": "2024-04-30T10:07:56.606Z"
   },
   {
    "duration": 8,
    "start_time": "2024-04-30T10:07:56.845Z"
   },
   {
    "duration": 168,
    "start_time": "2024-04-30T10:07:56.855Z"
   },
   {
    "duration": 48,
    "start_time": "2024-04-30T10:07:57.025Z"
   },
   {
    "duration": 12,
    "start_time": "2024-04-30T10:07:57.074Z"
   },
   {
    "duration": 9,
    "start_time": "2024-04-30T10:07:57.089Z"
   },
   {
    "duration": 9,
    "start_time": "2024-04-30T10:07:57.100Z"
   },
   {
    "duration": 14,
    "start_time": "2024-04-30T10:07:57.110Z"
   },
   {
    "duration": 50,
    "start_time": "2024-04-30T10:07:57.125Z"
   },
   {
    "duration": 14,
    "start_time": "2024-04-30T10:07:57.177Z"
   },
   {
    "duration": 10,
    "start_time": "2024-04-30T10:21:10.061Z"
   },
   {
    "duration": 114,
    "start_time": "2024-04-30T10:21:43.462Z"
   },
   {
    "duration": 12,
    "start_time": "2024-04-30T10:21:52.686Z"
   },
   {
    "duration": 10,
    "start_time": "2024-04-30T10:22:39.140Z"
   },
   {
    "duration": 11,
    "start_time": "2024-04-30T10:22:49.956Z"
   },
   {
    "duration": 368,
    "start_time": "2024-04-30T10:46:50.706Z"
   },
   {
    "duration": 209,
    "start_time": "2024-04-30T10:46:57.938Z"
   },
   {
    "duration": 217,
    "start_time": "2024-04-30T10:47:19.098Z"
   },
   {
    "duration": 330,
    "start_time": "2024-04-30T10:47:26.202Z"
   },
   {
    "duration": 332,
    "start_time": "2024-04-30T10:47:31.185Z"
   },
   {
    "duration": 203,
    "start_time": "2024-04-30T10:47:36.409Z"
   },
   {
    "duration": 215,
    "start_time": "2024-04-30T10:47:39.040Z"
   },
   {
    "duration": 353,
    "start_time": "2024-04-30T10:47:56.928Z"
   },
   {
    "duration": 247,
    "start_time": "2024-04-30T10:48:34.960Z"
   },
   {
    "duration": 426,
    "start_time": "2024-04-30T10:48:45.598Z"
   },
   {
    "duration": 285,
    "start_time": "2024-04-30T10:48:53.263Z"
   },
   {
    "duration": 229,
    "start_time": "2024-04-30T10:49:24.381Z"
   },
   {
    "duration": 235,
    "start_time": "2024-04-30T10:49:56.277Z"
   },
   {
    "duration": 229,
    "start_time": "2024-04-30T10:50:02.316Z"
   },
   {
    "duration": 331,
    "start_time": "2024-04-30T10:50:33.468Z"
   },
   {
    "duration": 225,
    "start_time": "2024-04-30T10:50:38.836Z"
   },
   {
    "duration": 256,
    "start_time": "2024-04-30T10:51:30.971Z"
   },
   {
    "duration": 237,
    "start_time": "2024-04-30T10:51:35.889Z"
   },
   {
    "duration": 191,
    "start_time": "2024-04-30T11:01:05.584Z"
   },
   {
    "duration": 227,
    "start_time": "2024-04-30T11:01:16.496Z"
   },
   {
    "duration": 233,
    "start_time": "2024-04-30T11:02:02.094Z"
   },
   {
    "duration": 298,
    "start_time": "2024-04-30T11:09:05.078Z"
   },
   {
    "duration": 287,
    "start_time": "2024-04-30T11:09:14.325Z"
   },
   {
    "duration": 246,
    "start_time": "2024-04-30T11:09:24.620Z"
   },
   {
    "duration": 356,
    "start_time": "2024-04-30T11:09:43.877Z"
   },
   {
    "duration": 448,
    "start_time": "2024-04-30T11:10:44.770Z"
   },
   {
    "duration": 240,
    "start_time": "2024-04-30T11:15:46.467Z"
   },
   {
    "duration": 204,
    "start_time": "2024-04-30T11:15:52.251Z"
   },
   {
    "duration": 250,
    "start_time": "2024-04-30T11:16:00.082Z"
   },
   {
    "duration": 280,
    "start_time": "2024-04-30T11:16:21.809Z"
   },
   {
    "duration": 246,
    "start_time": "2024-04-30T11:17:01.705Z"
   },
   {
    "duration": 256,
    "start_time": "2024-04-30T11:18:31.943Z"
   },
   {
    "duration": 222,
    "start_time": "2024-04-30T11:19:14.453Z"
   },
   {
    "duration": 222,
    "start_time": "2024-04-30T11:19:43.709Z"
   },
   {
    "duration": 311,
    "start_time": "2024-04-30T12:01:41.589Z"
   },
   {
    "duration": 292,
    "start_time": "2024-04-30T12:02:18.003Z"
   },
   {
    "duration": 359,
    "start_time": "2024-04-30T12:02:29.571Z"
   },
   {
    "duration": 509,
    "start_time": "2024-04-30T12:03:31.681Z"
   },
   {
    "duration": 399,
    "start_time": "2024-04-30T12:03:54.841Z"
   },
   {
    "duration": 171,
    "start_time": "2024-04-30T12:15:40.062Z"
   },
   {
    "duration": 172,
    "start_time": "2024-04-30T12:16:06.747Z"
   },
   {
    "duration": 166,
    "start_time": "2024-04-30T12:16:18.420Z"
   },
   {
    "duration": 164,
    "start_time": "2024-04-30T12:16:30.092Z"
   },
   {
    "duration": 174,
    "start_time": "2024-04-30T12:23:49.717Z"
   },
   {
    "duration": 71,
    "start_time": "2024-04-30T12:32:31.213Z"
   },
   {
    "duration": 4,
    "start_time": "2024-04-30T12:32:38.658Z"
   },
   {
    "duration": 6,
    "start_time": "2024-04-30T12:33:12.072Z"
   },
   {
    "duration": 5,
    "start_time": "2024-04-30T12:33:28.376Z"
   },
   {
    "duration": 4,
    "start_time": "2024-04-30T12:33:46.208Z"
   },
   {
    "duration": 5,
    "start_time": "2024-04-30T12:34:13.440Z"
   },
   {
    "duration": 6,
    "start_time": "2024-04-30T12:34:46.808Z"
   },
   {
    "duration": 193,
    "start_time": "2024-04-30T12:38:04.974Z"
   },
   {
    "duration": 178,
    "start_time": "2024-04-30T12:38:36.429Z"
   },
   {
    "duration": 5,
    "start_time": "2024-04-30T12:40:35.823Z"
   },
   {
    "duration": 5,
    "start_time": "2024-04-30T12:41:02.998Z"
   },
   {
    "duration": 5,
    "start_time": "2024-04-30T12:41:11.126Z"
   },
   {
    "duration": 29,
    "start_time": "2024-04-30T12:57:46.263Z"
   },
   {
    "duration": 30,
    "start_time": "2024-04-30T12:58:24.022Z"
   },
   {
    "duration": 29,
    "start_time": "2024-04-30T12:58:30.229Z"
   },
   {
    "duration": 60,
    "start_time": "2024-04-30T12:59:23.907Z"
   },
   {
    "duration": 58,
    "start_time": "2024-04-30T12:59:43.306Z"
   },
   {
    "duration": 51,
    "start_time": "2024-04-30T13:01:01.896Z"
   },
   {
    "duration": 14,
    "start_time": "2024-04-30T13:06:12.809Z"
   },
   {
    "duration": 16,
    "start_time": "2024-04-30T13:06:20.846Z"
   },
   {
    "duration": 19,
    "start_time": "2024-04-30T13:06:24.367Z"
   },
   {
    "duration": 15,
    "start_time": "2024-04-30T13:06:31.584Z"
   },
   {
    "duration": 17,
    "start_time": "2024-04-30T13:07:29.229Z"
   },
   {
    "duration": 18,
    "start_time": "2024-04-30T13:07:43.877Z"
   },
   {
    "duration": 11,
    "start_time": "2024-04-30T13:07:50.141Z"
   },
   {
    "duration": 16,
    "start_time": "2024-04-30T13:10:14.880Z"
   },
   {
    "duration": 9,
    "start_time": "2024-04-30T13:16:26.862Z"
   },
   {
    "duration": 1060,
    "start_time": "2024-04-30T13:16:45.030Z"
   },
   {
    "duration": 15,
    "start_time": "2024-04-30T13:16:59.892Z"
   },
   {
    "duration": 10,
    "start_time": "2024-04-30T13:17:12.142Z"
   },
   {
    "duration": 9,
    "start_time": "2024-04-30T13:17:40.996Z"
   },
   {
    "duration": 54,
    "start_time": "2024-04-30T13:21:40.495Z"
   },
   {
    "duration": 15,
    "start_time": "2024-04-30T13:26:32.881Z"
   },
   {
    "duration": 20,
    "start_time": "2024-04-30T13:26:46.947Z"
   },
   {
    "duration": 21,
    "start_time": "2024-04-30T13:27:55.016Z"
   },
   {
    "duration": 1434,
    "start_time": "2024-05-01T14:26:36.573Z"
   },
   {
    "duration": 207,
    "start_time": "2024-05-01T14:26:38.010Z"
   },
   {
    "duration": 20,
    "start_time": "2024-05-01T14:26:38.218Z"
   },
   {
    "duration": 16,
    "start_time": "2024-05-01T14:26:38.241Z"
   },
   {
    "duration": 18,
    "start_time": "2024-05-01T14:26:38.258Z"
   },
   {
    "duration": 13,
    "start_time": "2024-05-01T14:26:38.278Z"
   },
   {
    "duration": 41,
    "start_time": "2024-05-01T14:26:38.293Z"
   },
   {
    "duration": 11,
    "start_time": "2024-05-01T14:26:38.336Z"
   },
   {
    "duration": 26,
    "start_time": "2024-05-01T14:26:38.348Z"
   },
   {
    "duration": 11,
    "start_time": "2024-05-01T14:26:38.377Z"
   },
   {
    "duration": 12,
    "start_time": "2024-05-01T14:26:38.390Z"
   },
   {
    "duration": 20,
    "start_time": "2024-05-01T14:26:38.404Z"
   },
   {
    "duration": 317,
    "start_time": "2024-05-01T14:26:38.426Z"
   },
   {
    "duration": 333,
    "start_time": "2024-05-01T14:26:38.745Z"
   },
   {
    "duration": 241,
    "start_time": "2024-05-01T14:26:39.080Z"
   },
   {
    "duration": 415,
    "start_time": "2024-05-01T14:26:39.323Z"
   },
   {
    "duration": 240,
    "start_time": "2024-05-01T14:26:39.741Z"
   },
   {
    "duration": 360,
    "start_time": "2024-05-01T14:26:39.983Z"
   },
   {
    "duration": 171,
    "start_time": "2024-05-01T14:26:40.344Z"
   },
   {
    "duration": 6,
    "start_time": "2024-05-01T14:26:40.516Z"
   },
   {
    "duration": 211,
    "start_time": "2024-05-01T14:26:40.524Z"
   },
   {
    "duration": 7,
    "start_time": "2024-05-01T14:26:40.737Z"
   },
   {
    "duration": 277,
    "start_time": "2024-05-01T14:26:40.746Z"
   },
   {
    "duration": 171,
    "start_time": "2024-05-01T14:26:41.025Z"
   },
   {
    "duration": 52,
    "start_time": "2024-05-01T14:26:41.198Z"
   },
   {
    "duration": 23,
    "start_time": "2024-05-01T14:26:41.251Z"
   },
   {
    "duration": 10,
    "start_time": "2024-05-01T14:26:41.275Z"
   },
   {
    "duration": 13,
    "start_time": "2024-05-01T14:26:41.288Z"
   },
   {
    "duration": 66,
    "start_time": "2024-05-01T14:26:41.303Z"
   },
   {
    "duration": 21,
    "start_time": "2024-05-01T14:26:41.370Z"
   },
   {
    "duration": 11,
    "start_time": "2024-05-01T14:58:24.801Z"
   },
   {
    "duration": 5,
    "start_time": "2024-05-01T14:58:33.059Z"
   },
   {
    "duration": 4,
    "start_time": "2024-05-01T14:58:48.025Z"
   },
   {
    "duration": 1233,
    "start_time": "2024-05-01T15:26:37.291Z"
   },
   {
    "duration": 71,
    "start_time": "2024-05-01T15:26:38.526Z"
   },
   {
    "duration": 22,
    "start_time": "2024-05-01T15:26:38.598Z"
   },
   {
    "duration": 16,
    "start_time": "2024-05-01T15:26:38.623Z"
   },
   {
    "duration": 31,
    "start_time": "2024-05-01T15:26:38.641Z"
   },
   {
    "duration": 12,
    "start_time": "2024-05-01T15:26:38.674Z"
   },
   {
    "duration": 40,
    "start_time": "2024-05-01T15:26:38.688Z"
   },
   {
    "duration": 35,
    "start_time": "2024-05-01T15:26:38.730Z"
   },
   {
    "duration": 12,
    "start_time": "2024-05-01T15:26:38.767Z"
   },
   {
    "duration": 16,
    "start_time": "2024-05-01T15:26:38.782Z"
   },
   {
    "duration": 16,
    "start_time": "2024-05-01T15:26:38.801Z"
   },
   {
    "duration": 49,
    "start_time": "2024-05-01T15:26:38.819Z"
   },
   {
    "duration": 309,
    "start_time": "2024-05-01T15:26:38.870Z"
   },
   {
    "duration": 324,
    "start_time": "2024-05-01T15:26:39.181Z"
   },
   {
    "duration": 239,
    "start_time": "2024-05-01T15:26:39.507Z"
   },
   {
    "duration": 384,
    "start_time": "2024-05-01T15:26:39.748Z"
   },
   {
    "duration": 259,
    "start_time": "2024-05-01T15:26:40.134Z"
   },
   {
    "duration": 368,
    "start_time": "2024-05-01T15:26:40.395Z"
   },
   {
    "duration": 176,
    "start_time": "2024-05-01T15:26:40.764Z"
   },
   {
    "duration": 6,
    "start_time": "2024-05-01T15:26:40.941Z"
   },
   {
    "duration": 197,
    "start_time": "2024-05-01T15:26:40.949Z"
   },
   {
    "duration": 13,
    "start_time": "2024-05-01T15:26:41.148Z"
   },
   {
    "duration": 242,
    "start_time": "2024-05-01T15:26:41.163Z"
   },
   {
    "duration": 166,
    "start_time": "2024-05-01T15:26:41.406Z"
   },
   {
    "duration": 53,
    "start_time": "2024-05-01T15:26:41.574Z"
   },
   {
    "duration": 32,
    "start_time": "2024-05-01T15:26:41.629Z"
   },
   {
    "duration": 9,
    "start_time": "2024-05-01T15:26:41.663Z"
   },
   {
    "duration": 16,
    "start_time": "2024-05-01T15:26:41.675Z"
   },
   {
    "duration": 69,
    "start_time": "2024-05-01T15:26:41.692Z"
   },
   {
    "duration": 21,
    "start_time": "2024-05-01T15:26:41.762Z"
   },
   {
    "duration": 67,
    "start_time": "2024-05-01T19:37:24.114Z"
   },
   {
    "duration": 1197,
    "start_time": "2024-05-01T19:37:28.863Z"
   },
   {
    "duration": 193,
    "start_time": "2024-05-01T19:37:30.062Z"
   },
   {
    "duration": 61,
    "start_time": "2024-05-01T19:37:30.257Z"
   },
   {
    "duration": 0,
    "start_time": "2024-05-01T19:37:30.320Z"
   },
   {
    "duration": 0,
    "start_time": "2024-05-01T19:37:30.322Z"
   },
   {
    "duration": 0,
    "start_time": "2024-05-01T19:37:30.323Z"
   },
   {
    "duration": 0,
    "start_time": "2024-05-01T19:37:30.324Z"
   },
   {
    "duration": 0,
    "start_time": "2024-05-01T19:37:30.325Z"
   },
   {
    "duration": 0,
    "start_time": "2024-05-01T19:37:30.326Z"
   },
   {
    "duration": 1,
    "start_time": "2024-05-01T19:37:30.327Z"
   },
   {
    "duration": 0,
    "start_time": "2024-05-01T19:37:30.329Z"
   },
   {
    "duration": 0,
    "start_time": "2024-05-01T19:37:30.330Z"
   },
   {
    "duration": 0,
    "start_time": "2024-05-01T19:37:30.331Z"
   },
   {
    "duration": 0,
    "start_time": "2024-05-01T19:37:30.332Z"
   },
   {
    "duration": 1,
    "start_time": "2024-05-01T19:37:30.333Z"
   },
   {
    "duration": 0,
    "start_time": "2024-05-01T19:37:30.335Z"
   },
   {
    "duration": 0,
    "start_time": "2024-05-01T19:37:30.336Z"
   },
   {
    "duration": 0,
    "start_time": "2024-05-01T19:37:30.337Z"
   },
   {
    "duration": 0,
    "start_time": "2024-05-01T19:37:30.338Z"
   },
   {
    "duration": 0,
    "start_time": "2024-05-01T19:37:30.339Z"
   },
   {
    "duration": 0,
    "start_time": "2024-05-01T19:37:30.340Z"
   },
   {
    "duration": 0,
    "start_time": "2024-05-01T19:37:30.342Z"
   },
   {
    "duration": 0,
    "start_time": "2024-05-01T19:37:30.343Z"
   },
   {
    "duration": 0,
    "start_time": "2024-05-01T19:37:30.344Z"
   },
   {
    "duration": 0,
    "start_time": "2024-05-01T19:37:30.345Z"
   },
   {
    "duration": 0,
    "start_time": "2024-05-01T19:37:30.346Z"
   },
   {
    "duration": 0,
    "start_time": "2024-05-01T19:37:30.347Z"
   },
   {
    "duration": 0,
    "start_time": "2024-05-01T19:37:30.349Z"
   },
   {
    "duration": 0,
    "start_time": "2024-05-01T19:37:30.350Z"
   },
   {
    "duration": 0,
    "start_time": "2024-05-01T19:37:30.351Z"
   },
   {
    "duration": 18,
    "start_time": "2024-05-01T19:37:44.832Z"
   },
   {
    "duration": 13,
    "start_time": "2024-05-01T19:37:56.604Z"
   },
   {
    "duration": 1021,
    "start_time": "2024-05-01T19:38:54.679Z"
   },
   {
    "duration": 65,
    "start_time": "2024-05-01T19:38:55.701Z"
   },
   {
    "duration": 14,
    "start_time": "2024-05-01T19:38:55.769Z"
   },
   {
    "duration": 11,
    "start_time": "2024-05-01T19:38:55.785Z"
   },
   {
    "duration": 13,
    "start_time": "2024-05-01T19:38:55.797Z"
   },
   {
    "duration": 7,
    "start_time": "2024-05-01T19:38:55.811Z"
   },
   {
    "duration": 54,
    "start_time": "2024-05-01T19:38:55.819Z"
   },
   {
    "duration": 17,
    "start_time": "2024-05-01T19:38:55.874Z"
   },
   {
    "duration": 9,
    "start_time": "2024-05-01T19:38:55.893Z"
   },
   {
    "duration": 8,
    "start_time": "2024-05-01T19:38:55.903Z"
   },
   {
    "duration": 8,
    "start_time": "2024-05-01T19:38:55.912Z"
   },
   {
    "duration": 13,
    "start_time": "2024-05-01T19:38:55.921Z"
   },
   {
    "duration": 236,
    "start_time": "2024-05-01T19:38:55.935Z"
   },
   {
    "duration": 249,
    "start_time": "2024-05-01T19:38:56.173Z"
   },
   {
    "duration": 194,
    "start_time": "2024-05-01T19:38:56.424Z"
   },
   {
    "duration": 273,
    "start_time": "2024-05-01T19:38:56.619Z"
   },
   {
    "duration": 177,
    "start_time": "2024-05-01T19:38:56.894Z"
   },
   {
    "duration": 318,
    "start_time": "2024-05-01T19:38:57.072Z"
   },
   {
    "duration": 133,
    "start_time": "2024-05-01T19:38:57.392Z"
   },
   {
    "duration": 4,
    "start_time": "2024-05-01T19:38:57.526Z"
   },
   {
    "duration": 149,
    "start_time": "2024-05-01T19:38:57.531Z"
   },
   {
    "duration": 6,
    "start_time": "2024-05-01T19:38:57.681Z"
   },
   {
    "duration": 183,
    "start_time": "2024-05-01T19:38:57.688Z"
   },
   {
    "duration": 128,
    "start_time": "2024-05-01T19:38:57.872Z"
   },
   {
    "duration": 33,
    "start_time": "2024-05-01T19:38:58.001Z"
   },
   {
    "duration": 11,
    "start_time": "2024-05-01T19:38:58.035Z"
   },
   {
    "duration": 7,
    "start_time": "2024-05-01T19:38:58.048Z"
   },
   {
    "duration": 24,
    "start_time": "2024-05-01T19:38:58.056Z"
   },
   {
    "duration": 32,
    "start_time": "2024-05-01T19:38:58.081Z"
   },
   {
    "duration": 15,
    "start_time": "2024-05-01T19:38:58.114Z"
   },
   {
    "duration": 273,
    "start_time": "2024-05-01T19:40:37.943Z"
   },
   {
    "duration": 1400,
    "start_time": "2024-05-02T07:04:24.441Z"
   },
   {
    "duration": 215,
    "start_time": "2024-05-02T07:04:25.843Z"
   },
   {
    "duration": 22,
    "start_time": "2024-05-02T07:04:26.060Z"
   },
   {
    "duration": 38,
    "start_time": "2024-05-02T07:04:26.084Z"
   },
   {
    "duration": 26,
    "start_time": "2024-05-02T07:04:26.124Z"
   },
   {
    "duration": 19,
    "start_time": "2024-05-02T07:04:26.152Z"
   },
   {
    "duration": 32,
    "start_time": "2024-05-02T07:04:26.174Z"
   },
   {
    "duration": 24,
    "start_time": "2024-05-02T07:04:26.209Z"
   },
   {
    "duration": 33,
    "start_time": "2024-05-02T07:04:26.235Z"
   },
   {
    "duration": 12,
    "start_time": "2024-05-02T07:04:26.271Z"
   },
   {
    "duration": 12,
    "start_time": "2024-05-02T07:04:26.285Z"
   },
   {
    "duration": 13,
    "start_time": "2024-05-02T07:04:26.298Z"
   },
   {
    "duration": 344,
    "start_time": "2024-05-02T07:04:26.313Z"
   },
   {
    "duration": 344,
    "start_time": "2024-05-02T07:04:26.661Z"
   },
   {
    "duration": 394,
    "start_time": "2024-05-02T07:04:27.007Z"
   },
   {
    "duration": 661,
    "start_time": "2024-05-02T07:04:27.403Z"
   },
   {
    "duration": 431,
    "start_time": "2024-05-02T07:04:28.065Z"
   },
   {
    "duration": 551,
    "start_time": "2024-05-02T07:04:28.498Z"
   },
   {
    "duration": 191,
    "start_time": "2024-05-02T07:04:29.051Z"
   },
   {
    "duration": 6,
    "start_time": "2024-05-02T07:04:29.244Z"
   },
   {
    "duration": 218,
    "start_time": "2024-05-02T07:04:29.261Z"
   },
   {
    "duration": 7,
    "start_time": "2024-05-02T07:04:29.480Z"
   },
   {
    "duration": 246,
    "start_time": "2024-05-02T07:04:29.488Z"
   },
   {
    "duration": 144,
    "start_time": "2024-05-02T07:04:29.735Z"
   },
   {
    "duration": 54,
    "start_time": "2024-05-02T07:04:29.880Z"
   },
   {
    "duration": 33,
    "start_time": "2024-05-02T07:04:29.936Z"
   },
   {
    "duration": 10,
    "start_time": "2024-05-02T07:04:29.971Z"
   },
   {
    "duration": 78,
    "start_time": "2024-05-02T07:04:29.985Z"
   },
   {
    "duration": 100,
    "start_time": "2024-05-02T07:04:30.065Z"
   },
   {
    "duration": 28,
    "start_time": "2024-05-02T07:04:30.168Z"
   },
   {
    "duration": 337,
    "start_time": "2024-05-02T07:07:29.815Z"
   },
   {
    "duration": 1226,
    "start_time": "2024-05-02T07:13:35.045Z"
   },
   {
    "duration": 73,
    "start_time": "2024-05-02T07:13:36.273Z"
   },
   {
    "duration": 21,
    "start_time": "2024-05-02T07:13:36.348Z"
   },
   {
    "duration": 17,
    "start_time": "2024-05-02T07:13:36.371Z"
   },
   {
    "duration": 20,
    "start_time": "2024-05-02T07:13:36.390Z"
   },
   {
    "duration": 9,
    "start_time": "2024-05-02T07:13:36.411Z"
   },
   {
    "duration": 47,
    "start_time": "2024-05-02T07:13:36.421Z"
   },
   {
    "duration": 12,
    "start_time": "2024-05-02T07:13:36.470Z"
   },
   {
    "duration": 10,
    "start_time": "2024-05-02T07:13:36.484Z"
   },
   {
    "duration": 13,
    "start_time": "2024-05-02T07:13:36.497Z"
   },
   {
    "duration": 21,
    "start_time": "2024-05-02T07:13:36.512Z"
   },
   {
    "duration": 13,
    "start_time": "2024-05-02T07:13:36.560Z"
   },
   {
    "duration": 302,
    "start_time": "2024-05-02T07:13:36.574Z"
   },
   {
    "duration": 365,
    "start_time": "2024-05-02T07:13:36.878Z"
   },
   {
    "duration": 240,
    "start_time": "2024-05-02T07:13:37.245Z"
   },
   {
    "duration": 346,
    "start_time": "2024-05-02T07:13:37.487Z"
   },
   {
    "duration": 251,
    "start_time": "2024-05-02T07:13:37.835Z"
   },
   {
    "duration": 330,
    "start_time": "2024-05-02T07:13:38.088Z"
   },
   {
    "duration": 171,
    "start_time": "2024-05-02T07:13:38.420Z"
   },
   {
    "duration": 6,
    "start_time": "2024-05-02T07:13:38.593Z"
   },
   {
    "duration": 197,
    "start_time": "2024-05-02T07:13:38.601Z"
   },
   {
    "duration": 6,
    "start_time": "2024-05-02T07:13:38.800Z"
   },
   {
    "duration": 249,
    "start_time": "2024-05-02T07:13:38.807Z"
   },
   {
    "duration": 149,
    "start_time": "2024-05-02T07:13:39.061Z"
   },
   {
    "duration": 59,
    "start_time": "2024-05-02T07:13:39.212Z"
   },
   {
    "duration": 15,
    "start_time": "2024-05-02T07:13:39.273Z"
   },
   {
    "duration": 10,
    "start_time": "2024-05-02T07:13:39.290Z"
   },
   {
    "duration": 16,
    "start_time": "2024-05-02T07:13:39.304Z"
   },
   {
    "duration": 77,
    "start_time": "2024-05-02T07:13:39.323Z"
   },
   {
    "duration": 21,
    "start_time": "2024-05-02T07:13:39.401Z"
   },
   {
    "duration": 10,
    "start_time": "2024-05-02T07:15:01.077Z"
   },
   {
    "duration": 1163,
    "start_time": "2024-05-02T07:15:13.989Z"
   },
   {
    "duration": 78,
    "start_time": "2024-05-02T07:15:15.155Z"
   },
   {
    "duration": 22,
    "start_time": "2024-05-02T07:15:15.235Z"
   },
   {
    "duration": 23,
    "start_time": "2024-05-02T07:15:15.259Z"
   },
   {
    "duration": 45,
    "start_time": "2024-05-02T07:15:15.284Z"
   },
   {
    "duration": 31,
    "start_time": "2024-05-02T07:15:15.331Z"
   },
   {
    "duration": 36,
    "start_time": "2024-05-02T07:15:15.364Z"
   },
   {
    "duration": 16,
    "start_time": "2024-05-02T07:15:15.402Z"
   },
   {
    "duration": 21,
    "start_time": "2024-05-02T07:15:15.419Z"
   },
   {
    "duration": 59,
    "start_time": "2024-05-02T07:15:15.443Z"
   },
   {
    "duration": 12,
    "start_time": "2024-05-02T07:15:15.503Z"
   },
   {
    "duration": 17,
    "start_time": "2024-05-02T07:15:15.517Z"
   },
   {
    "duration": 307,
    "start_time": "2024-05-02T07:15:15.536Z"
   },
   {
    "duration": 347,
    "start_time": "2024-05-02T07:15:15.845Z"
   },
   {
    "duration": 240,
    "start_time": "2024-05-02T07:15:16.193Z"
   },
   {
    "duration": 382,
    "start_time": "2024-05-02T07:15:16.435Z"
   },
   {
    "duration": 244,
    "start_time": "2024-05-02T07:15:16.819Z"
   },
   {
    "duration": 381,
    "start_time": "2024-05-02T07:15:17.065Z"
   },
   {
    "duration": 178,
    "start_time": "2024-05-02T07:15:17.447Z"
   },
   {
    "duration": 5,
    "start_time": "2024-05-02T07:15:17.627Z"
   },
   {
    "duration": 193,
    "start_time": "2024-05-02T07:15:17.634Z"
   },
   {
    "duration": 6,
    "start_time": "2024-05-02T07:15:17.829Z"
   },
   {
    "duration": 267,
    "start_time": "2024-05-02T07:15:17.837Z"
   },
   {
    "duration": 149,
    "start_time": "2024-05-02T07:15:18.106Z"
   },
   {
    "duration": 52,
    "start_time": "2024-05-02T07:15:18.257Z"
   },
   {
    "duration": 57,
    "start_time": "2024-05-02T07:15:18.310Z"
   },
   {
    "duration": 10,
    "start_time": "2024-05-02T07:15:18.369Z"
   },
   {
    "duration": 8,
    "start_time": "2024-05-02T07:15:18.382Z"
   },
   {
    "duration": 70,
    "start_time": "2024-05-02T07:15:18.391Z"
   },
   {
    "duration": 21,
    "start_time": "2024-05-02T07:15:18.462Z"
   },
   {
    "duration": 1152,
    "start_time": "2024-05-02T07:23:12.577Z"
   },
   {
    "duration": 73,
    "start_time": "2024-05-02T07:23:13.731Z"
   },
   {
    "duration": 22,
    "start_time": "2024-05-02T07:23:13.805Z"
   },
   {
    "duration": 16,
    "start_time": "2024-05-02T07:23:13.830Z"
   },
   {
    "duration": 16,
    "start_time": "2024-05-02T07:23:13.848Z"
   },
   {
    "duration": 17,
    "start_time": "2024-05-02T07:23:13.865Z"
   },
   {
    "duration": 30,
    "start_time": "2024-05-02T07:23:13.884Z"
   },
   {
    "duration": 23,
    "start_time": "2024-05-02T07:23:13.916Z"
   },
   {
    "duration": 29,
    "start_time": "2024-05-02T07:23:13.941Z"
   },
   {
    "duration": 15,
    "start_time": "2024-05-02T07:23:13.974Z"
   },
   {
    "duration": 16,
    "start_time": "2024-05-02T07:23:13.991Z"
   },
   {
    "duration": 15,
    "start_time": "2024-05-02T07:23:14.009Z"
   },
   {
    "duration": 336,
    "start_time": "2024-05-02T07:23:14.026Z"
   },
   {
    "duration": 330,
    "start_time": "2024-05-02T07:23:14.364Z"
   },
   {
    "duration": 241,
    "start_time": "2024-05-02T07:23:14.696Z"
   },
   {
    "duration": 367,
    "start_time": "2024-05-02T07:23:14.938Z"
   },
   {
    "duration": 264,
    "start_time": "2024-05-02T07:23:15.307Z"
   },
   {
    "duration": 356,
    "start_time": "2024-05-02T07:23:15.573Z"
   },
   {
    "duration": 182,
    "start_time": "2024-05-02T07:23:15.931Z"
   },
   {
    "duration": 6,
    "start_time": "2024-05-02T07:23:16.114Z"
   },
   {
    "duration": 191,
    "start_time": "2024-05-02T07:23:16.122Z"
   },
   {
    "duration": 6,
    "start_time": "2024-05-02T07:23:16.315Z"
   },
   {
    "duration": 239,
    "start_time": "2024-05-02T07:23:16.323Z"
   },
   {
    "duration": 163,
    "start_time": "2024-05-02T07:23:16.564Z"
   },
   {
    "duration": 61,
    "start_time": "2024-05-02T07:23:16.729Z"
   },
   {
    "duration": 17,
    "start_time": "2024-05-02T07:23:16.791Z"
   },
   {
    "duration": 11,
    "start_time": "2024-05-02T07:23:16.809Z"
   },
   {
    "duration": 10,
    "start_time": "2024-05-02T07:23:16.823Z"
   },
   {
    "duration": 70,
    "start_time": "2024-05-02T07:23:16.835Z"
   },
   {
    "duration": 21,
    "start_time": "2024-05-02T07:23:16.907Z"
   },
   {
    "duration": 18,
    "start_time": "2024-05-02T07:24:05.719Z"
   },
   {
    "duration": 4,
    "start_time": "2024-05-02T07:24:22.126Z"
   },
   {
    "duration": 1213,
    "start_time": "2024-05-02T07:24:26.452Z"
   },
   {
    "duration": 73,
    "start_time": "2024-05-02T07:24:27.667Z"
   },
   {
    "duration": 20,
    "start_time": "2024-05-02T07:24:27.742Z"
   },
   {
    "duration": 18,
    "start_time": "2024-05-02T07:24:27.764Z"
   },
   {
    "duration": 16,
    "start_time": "2024-05-02T07:24:27.784Z"
   },
   {
    "duration": 9,
    "start_time": "2024-05-02T07:24:27.801Z"
   },
   {
    "duration": 59,
    "start_time": "2024-05-02T07:24:27.812Z"
   },
   {
    "duration": 13,
    "start_time": "2024-05-02T07:24:27.872Z"
   },
   {
    "duration": 14,
    "start_time": "2024-05-02T07:24:27.886Z"
   },
   {
    "duration": 12,
    "start_time": "2024-05-02T07:24:27.904Z"
   },
   {
    "duration": 47,
    "start_time": "2024-05-02T07:24:27.918Z"
   },
   {
    "duration": 18,
    "start_time": "2024-05-02T07:24:27.967Z"
   },
   {
    "duration": 299,
    "start_time": "2024-05-02T07:24:27.987Z"
   },
   {
    "duration": 319,
    "start_time": "2024-05-02T07:24:28.288Z"
   },
   {
    "duration": 250,
    "start_time": "2024-05-02T07:24:28.609Z"
   },
   {
    "duration": 509,
    "start_time": "2024-05-02T07:24:28.860Z"
   },
   {
    "duration": 433,
    "start_time": "2024-05-02T07:24:29.370Z"
   },
   {
    "duration": 571,
    "start_time": "2024-05-02T07:24:29.804Z"
   },
   {
    "duration": 309,
    "start_time": "2024-05-02T07:24:30.377Z"
   },
   {
    "duration": 6,
    "start_time": "2024-05-02T07:24:30.688Z"
   },
   {
    "duration": 290,
    "start_time": "2024-05-02T07:24:30.695Z"
   },
   {
    "duration": 6,
    "start_time": "2024-05-02T07:24:30.987Z"
   },
   {
    "duration": 289,
    "start_time": "2024-05-02T07:24:30.994Z"
   },
   {
    "duration": 148,
    "start_time": "2024-05-02T07:24:31.284Z"
   },
   {
    "duration": 62,
    "start_time": "2024-05-02T07:24:31.434Z"
   },
   {
    "duration": 16,
    "start_time": "2024-05-02T07:24:31.497Z"
   },
   {
    "duration": 24,
    "start_time": "2024-05-02T07:24:31.514Z"
   },
   {
    "duration": 33,
    "start_time": "2024-05-02T07:24:31.541Z"
   },
   {
    "duration": 51,
    "start_time": "2024-05-02T07:24:31.576Z"
   },
   {
    "duration": 20,
    "start_time": "2024-05-02T07:24:31.628Z"
   },
   {
    "duration": 1528,
    "start_time": "2024-10-01T09:45:31.652Z"
   },
   {
    "duration": 235,
    "start_time": "2024-10-01T09:45:33.183Z"
   },
   {
    "duration": 24,
    "start_time": "2024-10-01T09:45:33.420Z"
   },
   {
    "duration": 51,
    "start_time": "2024-10-01T09:45:33.447Z"
   },
   {
    "duration": 71,
    "start_time": "2024-10-01T09:45:33.501Z"
   },
   {
    "duration": 28,
    "start_time": "2024-10-01T09:45:33.575Z"
   },
   {
    "duration": 70,
    "start_time": "2024-10-01T09:45:33.605Z"
   },
   {
    "duration": 99,
    "start_time": "2024-10-01T09:45:33.677Z"
   },
   {
    "duration": 40,
    "start_time": "2024-10-01T09:45:33.778Z"
   },
   {
    "duration": 22,
    "start_time": "2024-10-01T09:45:33.821Z"
   },
   {
    "duration": 18,
    "start_time": "2024-10-01T09:45:33.846Z"
   },
   {
    "duration": 62,
    "start_time": "2024-10-01T09:45:33.866Z"
   },
   {
    "duration": 358,
    "start_time": "2024-10-01T09:45:33.930Z"
   },
   {
    "duration": 356,
    "start_time": "2024-10-01T09:45:34.290Z"
   },
   {
    "duration": 247,
    "start_time": "2024-10-01T09:45:34.655Z"
   },
   {
    "duration": 421,
    "start_time": "2024-10-01T09:45:34.903Z"
   },
   {
    "duration": 252,
    "start_time": "2024-10-01T09:45:35.326Z"
   },
   {
    "duration": 338,
    "start_time": "2024-10-01T09:45:35.580Z"
   },
   {
    "duration": 178,
    "start_time": "2024-10-01T09:45:35.920Z"
   },
   {
    "duration": 6,
    "start_time": "2024-10-01T09:45:36.100Z"
   },
   {
    "duration": 200,
    "start_time": "2024-10-01T09:45:36.107Z"
   },
   {
    "duration": 5,
    "start_time": "2024-10-01T09:45:36.309Z"
   },
   {
    "duration": 261,
    "start_time": "2024-10-01T09:45:36.316Z"
   },
   {
    "duration": 156,
    "start_time": "2024-10-01T09:45:36.578Z"
   },
   {
    "duration": 66,
    "start_time": "2024-10-01T09:45:36.735Z"
   },
   {
    "duration": 18,
    "start_time": "2024-10-01T09:45:36.803Z"
   },
   {
    "duration": 12,
    "start_time": "2024-10-01T09:45:36.823Z"
   },
   {
    "duration": 45,
    "start_time": "2024-10-01T09:45:36.855Z"
   },
   {
    "duration": 65,
    "start_time": "2024-10-01T09:45:36.901Z"
   },
   {
    "duration": 23,
    "start_time": "2024-10-01T09:45:36.968Z"
   }
  ],
  "kernelspec": {
   "display_name": "Python 3 (ipykernel)",
   "language": "python",
   "name": "python3"
  },
  "language_info": {
   "codemirror_mode": {
    "name": "ipython",
    "version": 3
   },
   "file_extension": ".py",
   "mimetype": "text/x-python",
   "name": "python",
   "nbconvert_exporter": "python",
   "pygments_lexer": "ipython3",
   "version": "3.9.12"
  },
  "toc": {
   "base_numbering": 1,
   "nav_menu": {},
   "number_sections": true,
   "sideBar": true,
   "skip_h1_title": true,
   "title_cell": "Table of Contents",
   "title_sidebar": "Contents",
   "toc_cell": false,
   "toc_position": {
    "height": "calc(100% - 180px)",
    "left": "10px",
    "top": "150px",
    "width": "274.688px"
   },
   "toc_section_display": true,
   "toc_window_display": true
  }
 },
 "nbformat": 4,
 "nbformat_minor": 2
}
