{
 "cells": [
  {
   "cell_type": "markdown",
   "id": "47c75837",
   "metadata": {
    "id": "47c75837"
   },
   "source": [
    "## Cкрипт-загрузчик (облачное хранилище - база данных) для АиФ"
   ]
  },
  {
   "cell_type": "markdown",
   "id": "cdbedb80",
   "metadata": {
    "id": "cdbedb80"
   },
   "source": [
    "Ссылка на дашборд https://datalens.yandex/6i42ebpqd27yt"
   ]
  },
  {
   "cell_type": "markdown",
   "id": "916412f1",
   "metadata": {
    "id": "916412f1"
   },
   "source": [
    "### Подключение к Яндекс Диску"
   ]
  },
  {
   "cell_type": "code",
   "execution_count": null,
   "id": "2d329d63",
   "metadata": {
    "id": "2d329d63"
   },
   "outputs": [],
   "source": [
    "# импорты\n",
    "import yadisk\n",
    "import os\n",
    "from tqdm import tqdm\n",
    "import pandas as pd\n",
    "# !pip -q install ipython-sql\n",
    "import sqlite3 as sl\n",
    "pd.set_option('display.max_colwidth', False)"
   ]
  },
  {
   "cell_type": "code",
   "execution_count": null,
   "id": "a9d4699b",
   "metadata": {
    "id": "a9d4699b"
   },
   "outputs": [],
   "source": [
    "app_id = \n",
    "secret_id = \n",
    "ya_token = \n",
    "y = yadisk.YaDisk(app_id, secret_id, ya_token)"
   ]
  },
  {
   "cell_type": "code",
   "execution_count": null,
   "id": "b579388e",
   "metadata": {
    "id": "b579388e",
    "outputId": "9b04fd51-cacb-48f2-8a4a-e3cf10b4b2a6"
   },
   "outputs": [
    {
     "data": {
      "text/plain": [
       "True"
      ]
     },
     "execution_count": 3,
     "metadata": {},
     "output_type": "execute_result"
    }
   ],
   "source": [
    "y.check_token()"
   ]
  },
  {
   "cell_type": "markdown",
   "id": "25a11d9d",
   "metadata": {},
   "source": [
    "### Создаем список файлов для загрузки"
   ]
  },
  {
   "cell_type": "code",
   "execution_count": null,
   "id": "7b7556bf",
   "metadata": {
    "id": "7b7556bf",
    "outputId": "791c54e4-1280-41d7-f118-f0cb1c6f43bf"
   },
   "outputs": [
    {
     "data": {
      "text/plain": [
       "['disk:/aif/1 of 4 - Dobroaif - 04.09.2024 - 41884 - 9b4daafd-72bb-4951-b6fd-0d09eaf37387.csv',\n",
       " 'disk:/aif/2 of 4 - Dobroaif - 04.09.2024 - 41884 - 9b4daafd-72bb-4951-b6fd-0d09eaf37387.csv',\n",
       " 'disk:/aif/3 of 4 - Dobroaif - 04.09.2024 - 41884 - 9b4daafd-72bb-4951-b6fd-0d09eaf37387.csv',\n",
       " 'disk:/aif/4 of 4 - Dobroaif - 04.09.2024 - 41884 - 9b4daafd-72bb-4951-b6fd-0d09eaf37387.csv',\n",
       " 'disk:/aif/Заказы.csv']"
      ]
     },
     "execution_count": 4,
     "metadata": {},
     "output_type": "execute_result"
    }
   ],
   "source": [
    "# создаем список файлов для загрузки\n",
    "list_of_files = []\n",
    "for el in list(y.listdir('aif')):\n",
    "    if el['path'].endswith('.csv'):\n",
    "        list_of_files.append(el['path'])\n",
    "list_of_files"
   ]
  },
  {
   "cell_type": "markdown",
   "id": "7daa0050",
   "metadata": {
    "id": "7daa0050"
   },
   "source": [
    "### Создаем репозиторий для хранения файлов с диска"
   ]
  },
  {
   "cell_type": "code",
   "execution_count": null,
   "id": "3034a494",
   "metadata": {
    "id": "3034a494",
    "outputId": "7e1b61e0-cbe9-4437-ac84-e38056ccbaca"
   },
   "outputs": [
    {
     "data": {
      "text/plain": [
       "['1 of 4 - Dobroaif - 04.09.2024 - 41884 - 9b4daafd-72bb-4951-b6fd-0d09eaf37387.csv',\n",
       " '2 of 4 - Dobroaif - 04.09.2024 - 41884 - 9b4daafd-72bb-4951-b6fd-0d09eaf37387.csv',\n",
       " '3 of 4 - Dobroaif - 04.09.2024 - 41884 - 9b4daafd-72bb-4951-b6fd-0d09eaf37387.csv',\n",
       " '4 of 4 - Dobroaif - 04.09.2024 - 41884 - 9b4daafd-72bb-4951-b6fd-0d09eaf37387.csv',\n",
       " 'aif_bd',\n",
       " 'Заказы.csv']"
      ]
     },
     "execution_count": 5,
     "metadata": {},
     "output_type": "execute_result"
    }
   ],
   "source": [
    "# создаем папку загрузки\n",
    "load_path = 'C:/Users/7/Desktop/АиФ/Автозагрузка'\n",
    "if not os.path.exists(load_path):\n",
    "    os.mkdir(load_path)\n",
    "os.chdir(load_path)\n",
    "\n",
    "# проверяем корректность загрузки\n",
    "os.listdir()"
   ]
  },
  {
   "cell_type": "markdown",
   "id": "f009459a",
   "metadata": {
    "id": "f009459a"
   },
   "source": [
    "### Загружаем файлы с ЯД в репозиторий"
   ]
  },
  {
   "cell_type": "code",
   "execution_count": null,
   "id": "8e5af4bf",
   "metadata": {
    "id": "8e5af4bf",
    "outputId": "6823bc2a-17c7-4167-f8b1-f1bc116fa241"
   },
   "outputs": [
    {
     "name": "stderr",
     "output_type": "stream",
     "text": [
      "100%|████████████████████████████████████████████████████| 5/5 [00:00<?, ?it/s]\n"
     ]
    },
    {
     "data": {
      "text/plain": [
       "['1 of 4 - Dobroaif - 04.09.2024 - 41884 - 9b4daafd-72bb-4951-b6fd-0d09eaf37387.csv',\n",
       " '2 of 4 - Dobroaif - 04.09.2024 - 41884 - 9b4daafd-72bb-4951-b6fd-0d09eaf37387.csv',\n",
       " '3 of 4 - Dobroaif - 04.09.2024 - 41884 - 9b4daafd-72bb-4951-b6fd-0d09eaf37387.csv',\n",
       " '4 of 4 - Dobroaif - 04.09.2024 - 41884 - 9b4daafd-72bb-4951-b6fd-0d09eaf37387.csv',\n",
       " 'aif_bd',\n",
       " 'Заказы.csv']"
      ]
     },
     "execution_count": 6,
     "metadata": {},
     "output_type": "execute_result"
    }
   ],
   "source": [
    "down = os.listdir()\n",
    "# Цикл для загрузки файлов из репозитория\n",
    "for file in tqdm(list_of_files):\n",
    "    filename = file.split('/')[-1]  # Извлекаем имя файла\n",
    "    if filename not in down:  # Проверяем, есть ли файл в папке\n",
    "        y.download(file.split(':')[1], filename)\n",
    "        down.append(filename)  # Добавляем имя загруженного файла в список\n",
    "# проверяем корректность загрузки\n",
    "os.listdir()"
   ]
  },
  {
   "cell_type": "code",
   "execution_count": null,
   "id": "d0c2bff7",
   "metadata": {
    "id": "d0c2bff7",
    "outputId": "b581cdbc-c2ce-4b91-dc27-6376f048fec5"
   },
   "outputs": [
    {
     "name": "stderr",
     "output_type": "stream",
     "text": [
      "C:\\Users\\7\\AppData\\Local\\Temp\\ipykernel_8016\\926293107.py:18: DtypeWarning: Columns (14) have mixed types. Specify dtype option on import or set low_memory=False.\n",
      "  chunk = pd.read_csv(file_path, sep=';')\n",
      "C:\\Users\\7\\AppData\\Local\\Temp\\ipykernel_8016\\926293107.py:18: DtypeWarning: Columns (13) have mixed types. Specify dtype option on import or set low_memory=False.\n",
      "  chunk = pd.read_csv(file_path, sep=';')\n",
      "C:\\Users\\7\\AppData\\Local\\Temp\\ipykernel_8016\\926293107.py:24: DtypeWarning: Columns (11,16) have mixed types. Specify dtype option on import or set low_memory=False.\n",
      "  orders = pd.read_csv(f\"{main_path}Заказы.csv\", sep=';')\n"
     ]
    }
   ],
   "source": [
    "\n",
    "# Основной путь\n",
    "main_path = 'C:/Users/7/Desktop/АиФ/Автозагрузка'\n",
    "\n",
    "# Список путей к файлам (без \"Заказы.csv\")\n",
    "file_paths = [\n",
    "    f\"{main_path}1 of 4 - Dobroaif - 04.09.2024 - 41884 - 9b4daafd-72bb-4951-b6fd-0d09eaf37387.csv\",\n",
    "    f\"{main_path}2 of 4 - Dobroaif - 04.09.2024 - 41884 - 9b4daafd-72bb-4951-b6fd-0d09eaf37387.csv\",\n",
    "    f\"{main_path}3 of 4 - Dobroaif - 04.09.2024 - 41884 - 9b4daafd-72bb-4951-b6fd-0d09eaf37387.csv\",\n",
    "    f\"{main_path}4 of 4 - Dobroaif - 04.09.2024 - 41884 - 9b4daafd-72bb-4951-b6fd-0d09eaf37387.csv\",\n",
    "]\n",
    "\n",
    "# Инициализация пустого DataFrame\n",
    "final_data = pd.DataFrame()\n",
    "\n",
    "# Цикл для чтения и объединения файлов\n",
    "for file_path in file_paths:\n",
    "    if os.path.exists(file_path):\n",
    "        chunk = pd.read_csv(file_path, sep=';')\n",
    "        final_data = pd.concat([final_data, chunk], ignore_index=True)\n",
    "    else:\n",
    "        print(f\"Файл {file_path} не найден\")\n",
    "\n",
    "# Загрузка \"Заказы.csv\" отдельно\n",
    "orders = pd.read_csv(f\"{main_path}Заказы.csv\", sep=';')"
   ]
  },
  {
   "cell_type": "markdown",
   "id": "16bc8974",
   "metadata": {
    "id": "16bc8974"
   },
   "source": [
    "## Предобработка таблиц перед загрузкой в БД"
   ]
  },
  {
   "cell_type": "code",
   "execution_count": null,
   "id": "ce7ccad6",
   "metadata": {
    "id": "ce7ccad6"
   },
   "outputs": [],
   "source": [
    "#функция для преобразования типа столбцов\n",
    "def change_type(data):\n",
    "    for col in data.columns:\n",
    "        if data[col].dtype == 'object':\n",
    "            data[col] = data[col].astype('category')\n",
    "    return data"
   ]
  },
  {
   "cell_type": "markdown",
   "id": "cb82e474",
   "metadata": {
    "id": "cb82e474"
   },
   "source": [
    "**Действия**"
   ]
  },
  {
   "cell_type": "code",
   "execution_count": null,
   "id": "45d02bc9",
   "metadata": {
    "id": "45d02bc9"
   },
   "outputs": [],
   "source": [
    "#Преобразуем тип столбцов с датой в формат datetime\n",
    "final_data['CustomerActionDateTimeUtc'] = pd.to_datetime(final_data['CustomerActionDateTimeUtc'], format='%d.%m.%Y %H:%M')\n",
    "final_data['CustomerActionCreationDateTimeUtc'] = pd.to_datetime(final_data['CustomerActionCreationDateTimeUtc'], format='%d.%m.%Y %H:%M')\n",
    "#Преобразуем тип столбцов с object\n",
    "final_data = change_type(final_data)\n",
    "#в id уберем 0 после точки и значение nan\n",
    "final_data['CustomerActionCustomerIdsMindboxId'] = final_data['CustomerActionCustomerIdsMindboxId'].map('{:.0f}'.format)\n",
    "final_data = final_data[final_data['CustomerActionCustomerIdsMindboxId'] != 'nan']\n",
    "final_data['CustomerActionCustomerIdsMindboxId'] = final_data['CustomerActionCustomerIdsMindboxId'].astype(str)"
   ]
  },
  {
   "cell_type": "code",
   "execution_count": null,
   "id": "dbed4892",
   "metadata": {
    "id": "dbed4892"
   },
   "outputs": [],
   "source": [
    "final_data.drop(['CustomerActionIdsMindboxId',\n",
    "    'CustomerActionActionTemplateIdsSystemName',\n",
    "    'CustomerActionBrandIdsSystemName',\n",
    "    'CustomerActionChannelIdsMindboxId',\n",
    "    'CustomerActionChannelIdsExternalId',\n",
    "    'CustomerActionChannelIdsSystemName',\n",
    "    'CustomerActionChannelUtmCampaign',\n",
    "    'CustomerActionChannelUtmSource',\n",
    "    'CustomerActionChannelUtmMedium',\n",
    "    'CustomerActionChannelUtmContent',\n",
    "    'CustomerActionChannelUtmTerm',\n",
    "    'CustomerActionCustomerIdsBackendID',\n",
    "    'CustomerActionCustomerIdsWebsiteID'\n",
    "], axis = 1, inplace = True)"
   ]
  },
  {
   "cell_type": "code",
   "execution_count": null,
   "id": "01aeb603",
   "metadata": {
    "id": "01aeb603",
    "outputId": "42e4c139-48ae-40e1-e439-608e78069123"
   },
   "outputs": [
    {
     "data": {
      "text/html": [
       "<style type=\"text/css\">\n",
       "#T_cfb2b_row0_col0, #T_cfb2b_row1_col0, #T_cfb2b_row2_col0, #T_cfb2b_row3_col0, #T_cfb2b_row4_col0 {\n",
       "  background-color: #3b4cc0;\n",
       "  color: #f1f1f1;\n",
       "}\n",
       "</style>\n",
       "<table id=\"T_cfb2b\">\n",
       "  <thead>\n",
       "    <tr>\n",
       "      <th class=\"blank level0\" >&nbsp;</th>\n",
       "      <th id=\"T_cfb2b_level0_col0\" class=\"col_heading level0 col0\" >0</th>\n",
       "    </tr>\n",
       "  </thead>\n",
       "  <tbody>\n",
       "    <tr>\n",
       "      <th id=\"T_cfb2b_level0_row0\" class=\"row_heading level0 row0\" >CustomerActionActionTemplateName</th>\n",
       "      <td id=\"T_cfb2b_row0_col0\" class=\"data row0 col0\" >0.000000</td>\n",
       "    </tr>\n",
       "    <tr>\n",
       "      <th id=\"T_cfb2b_level0_row1\" class=\"row_heading level0 row1\" >CustomerActionDateTimeUtc</th>\n",
       "      <td id=\"T_cfb2b_row1_col0\" class=\"data row1 col0\" >0.000000</td>\n",
       "    </tr>\n",
       "    <tr>\n",
       "      <th id=\"T_cfb2b_level0_row2\" class=\"row_heading level0 row2\" >CustomerActionCreationDateTimeUtc</th>\n",
       "      <td id=\"T_cfb2b_row2_col0\" class=\"data row2 col0\" >0.000000</td>\n",
       "    </tr>\n",
       "    <tr>\n",
       "      <th id=\"T_cfb2b_level0_row3\" class=\"row_heading level0 row3\" >CustomerActionChannelName</th>\n",
       "      <td id=\"T_cfb2b_row3_col0\" class=\"data row3 col0\" >0.000000</td>\n",
       "    </tr>\n",
       "    <tr>\n",
       "      <th id=\"T_cfb2b_level0_row4\" class=\"row_heading level0 row4\" >CustomerActionCustomerIdsMindboxId</th>\n",
       "      <td id=\"T_cfb2b_row4_col0\" class=\"data row4 col0\" >0.000000</td>\n",
       "    </tr>\n",
       "  </tbody>\n",
       "</table>\n"
      ],
      "text/plain": [
       "<pandas.io.formats.style.Styler at 0x10f5fd60>"
      ]
     },
     "execution_count": 11,
     "metadata": {},
     "output_type": "execute_result"
    }
   ],
   "source": [
    "#пропуски в процентном соотношении\n",
    "pd.DataFrame(round(final_data.isna().mean()*100,1)).style.background_gradient('coolwarm')"
   ]
  },
  {
   "cell_type": "code",
   "execution_count": null,
   "id": "2fe54d59",
   "metadata": {
    "id": "2fe54d59",
    "outputId": "493dd68d-239f-4e9b-ec4d-554e6d5f4e68"
   },
   "outputs": [
    {
     "name": "stdout",
     "output_type": "stream",
     "text": [
      "<class 'pandas.core.frame.DataFrame'>\n",
      "Int64Index: 2850804 entries, 0 to 2850804\n",
      "Data columns (total 5 columns):\n",
      " #   Column                              Dtype         \n",
      "---  ------                              -----         \n",
      " 0   CustomerActionActionTemplateName    category      \n",
      " 1   CustomerActionDateTimeUtc           datetime64[ns]\n",
      " 2   CustomerActionCreationDateTimeUtc   datetime64[ns]\n",
      " 3   CustomerActionChannelName           category      \n",
      " 4   CustomerActionCustomerIdsMindboxId  object        \n",
      "dtypes: category(2), datetime64[ns](2), object(1)\n",
      "memory usage: 87.0+ MB\n"
     ]
    }
   ],
   "source": [
    "final_data.info()"
   ]
  },
  {
   "cell_type": "code",
   "execution_count": null,
   "id": "6c5a20e0",
   "metadata": {
    "id": "6c5a20e0",
    "outputId": "56479085-654a-495f-8877-846eb08cd6ec"
   },
   "outputs": [
    {
     "data": {
      "text/html": [
       "<div>\n",
       "<style scoped>\n",
       "    .dataframe tbody tr th:only-of-type {\n",
       "        vertical-align: middle;\n",
       "    }\n",
       "\n",
       "    .dataframe tbody tr th {\n",
       "        vertical-align: top;\n",
       "    }\n",
       "\n",
       "    .dataframe thead th {\n",
       "        text-align: right;\n",
       "    }\n",
       "</style>\n",
       "<table border=\"1\" class=\"dataframe\">\n",
       "  <thead>\n",
       "    <tr style=\"text-align: right;\">\n",
       "      <th></th>\n",
       "      <th>CustomerActionActionTemplateName</th>\n",
       "      <th>CustomerActionDateTimeUtc</th>\n",
       "      <th>CustomerActionCreationDateTimeUtc</th>\n",
       "      <th>CustomerActionChannelName</th>\n",
       "      <th>CustomerActionCustomerIdsMindboxId</th>\n",
       "    </tr>\n",
       "  </thead>\n",
       "  <tbody>\n",
       "    <tr>\n",
       "      <th>0</th>\n",
       "      <td>Импорт при переносе исторической базы клиентов</td>\n",
       "      <td>2022-03-19 21:30:00</td>\n",
       "      <td>2022-03-19 21:30:00</td>\n",
       "      <td>Сайт</td>\n",
       "      <td>2734</td>\n",
       "    </tr>\n",
       "    <tr>\n",
       "      <th>1</th>\n",
       "      <td>Оплата заказа</td>\n",
       "      <td>2021-10-14 15:50:00</td>\n",
       "      <td>2022-04-18 15:48:00</td>\n",
       "      <td>Административный сайт Mindbox</td>\n",
       "      <td>2734</td>\n",
       "    </tr>\n",
       "    <tr>\n",
       "      <th>2</th>\n",
       "      <td>Оплата заказа</td>\n",
       "      <td>2021-03-18 10:52:00</td>\n",
       "      <td>2022-04-18 15:49:00</td>\n",
       "      <td>Административный сайт Mindbox</td>\n",
       "      <td>2734</td>\n",
       "    </tr>\n",
       "    <tr>\n",
       "      <th>3</th>\n",
       "      <td>Изменение часового пояса клиентов при изменении региона</td>\n",
       "      <td>2022-11-23 08:40:00</td>\n",
       "      <td>2022-11-23 08:40:00</td>\n",
       "      <td>Сайт</td>\n",
       "      <td>2734</td>\n",
       "    </tr>\n",
       "    <tr>\n",
       "      <th>4</th>\n",
       "      <td>Переход на сайт</td>\n",
       "      <td>2022-11-23 08:40:00</td>\n",
       "      <td>2022-11-23 08:40:00</td>\n",
       "      <td>utm_term Не указан</td>\n",
       "      <td>2734</td>\n",
       "    </tr>\n",
       "  </tbody>\n",
       "</table>\n",
       "</div>"
      ],
      "text/plain": [
       "                          CustomerActionActionTemplateName  \\\n",
       "0  Импорт при переносе исторической базы клиентов            \n",
       "1  Оплата заказа                                             \n",
       "2  Оплата заказа                                             \n",
       "3  Изменение часового пояса клиентов при изменении региона   \n",
       "4  Переход на сайт                                           \n",
       "\n",
       "  CustomerActionDateTimeUtc CustomerActionCreationDateTimeUtc  \\\n",
       "0 2022-03-19 21:30:00       2022-03-19 21:30:00                 \n",
       "1 2021-10-14 15:50:00       2022-04-18 15:48:00                 \n",
       "2 2021-03-18 10:52:00       2022-04-18 15:49:00                 \n",
       "3 2022-11-23 08:40:00       2022-11-23 08:40:00                 \n",
       "4 2022-11-23 08:40:00       2022-11-23 08:40:00                 \n",
       "\n",
       "       CustomerActionChannelName CustomerActionCustomerIdsMindboxId  \n",
       "0  Сайт                           2734                               \n",
       "1  Административный сайт Mindbox  2734                               \n",
       "2  Административный сайт Mindbox  2734                               \n",
       "3  Сайт                           2734                               \n",
       "4  utm_term Не указан             2734                               "
      ]
     },
     "execution_count": 13,
     "metadata": {},
     "output_type": "execute_result"
    }
   ],
   "source": [
    "final_data.head()"
   ]
  },
  {
   "cell_type": "markdown",
   "id": "7c2b66c6",
   "metadata": {
    "id": "7c2b66c6"
   },
   "source": [
    "**Заказы**"
   ]
  },
  {
   "cell_type": "code",
   "execution_count": null,
   "id": "8517ab4d",
   "metadata": {
    "id": "8517ab4d"
   },
   "outputs": [],
   "source": [
    "#преобразуем дату и тип object\n",
    "orders['OrderFirstActionDateTimeUtc'] = pd.to_datetime(orders['OrderFirstActionDateTimeUtc'], format='%d.%m.%Y %H:%M')\n",
    "orders = change_type(orders)"
   ]
  },
  {
   "cell_type": "code",
   "execution_count": null,
   "id": "587bdbe4",
   "metadata": {
    "id": "587bdbe4"
   },
   "outputs": [],
   "source": [
    "orders.drop(['OrderIdsMindboxId',\n",
    "             'OrderFirstActionIdsMindboxId',\n",
    "             'OrderLineBasePricePerItem',\n",
    "'OrderFirstActionChannelIdsMindboxId',\n",
    "'OrderFirstActionChannelIdsExternalId',\n",
    "'OrderAreaIdsExternalId',\n",
    "'OrderTransactionIdsExternalId',\n",
    "'OrderDeliveryCost',\n",
    "'OrderLineGiftCardAmount',\n",
    "'OrderLineGiftCardStatusIdsSystemName',\n",
    "'OrderLineNumber',\n",
    "'OrderLineLineNumber',\n",
    "'OrderLineId',\n",
    "'OrderLineLineId',\n",
    "'OrderCustomerIdsBackendID',\n",
    "'OrderCustomerIdsWebsiteID',\n",
    "'OrderIdsBackendID',\n",
    "'OrderIdsWebsiteID',\n",
    "'OrderLineProductIdsWebsite',\n",
    "'OrderCustomFieldsNextPayDate'\n",
    "], axis = 1, inplace = True)"
   ]
  },
  {
   "cell_type": "code",
   "execution_count": null,
   "id": "708740fb",
   "metadata": {
    "id": "708740fb",
    "outputId": "5336c353-4c34-46cf-9e8d-66024d584915"
   },
   "outputs": [
    {
     "data": {
      "text/html": [
       "<style type=\"text/css\">\n",
       "#T_236d3_row0_col0, #T_236d3_row1_col0, #T_236d3_row2_col0, #T_236d3_row6_col0, #T_236d3_row7_col0, #T_236d3_row8_col0, #T_236d3_row9_col0, #T_236d3_row10_col0 {\n",
       "  background-color: #3b4cc0;\n",
       "  color: #f1f1f1;\n",
       "}\n",
       "#T_236d3_row3_col0 {\n",
       "  background-color: #b40426;\n",
       "  color: #f1f1f1;\n",
       "}\n",
       "#T_236d3_row4_col0 {\n",
       "  background-color: #6384eb;\n",
       "  color: #f1f1f1;\n",
       "}\n",
       "#T_236d3_row5_col0 {\n",
       "  background-color: #cd423b;\n",
       "  color: #f1f1f1;\n",
       "}\n",
       "</style>\n",
       "<table id=\"T_236d3\">\n",
       "  <thead>\n",
       "    <tr>\n",
       "      <th class=\"blank level0\" >&nbsp;</th>\n",
       "      <th id=\"T_236d3_level0_col0\" class=\"col_heading level0 col0\" >0</th>\n",
       "    </tr>\n",
       "  </thead>\n",
       "  <tbody>\n",
       "    <tr>\n",
       "      <th id=\"T_236d3_level0_row0\" class=\"row_heading level0 row0\" >OrderFirstActionDateTimeUtc</th>\n",
       "      <td id=\"T_236d3_row0_col0\" class=\"data row0 col0\" >0.000000</td>\n",
       "    </tr>\n",
       "    <tr>\n",
       "      <th id=\"T_236d3_level0_row1\" class=\"row_heading level0 row1\" >OrderFirstActionChannelName</th>\n",
       "      <td id=\"T_236d3_row1_col0\" class=\"data row1 col0\" >0.000000</td>\n",
       "    </tr>\n",
       "    <tr>\n",
       "      <th id=\"T_236d3_level0_row2\" class=\"row_heading level0 row2\" >OrderTotalPrice</th>\n",
       "      <td id=\"T_236d3_row2_col0\" class=\"data row2 col0\" >0.000000</td>\n",
       "    </tr>\n",
       "    <tr>\n",
       "      <th id=\"T_236d3_level0_row3\" class=\"row_heading level0 row3\" >OrderCustomFieldsNewyear</th>\n",
       "      <td id=\"T_236d3_row3_col0\" class=\"data row3 col0\" >98.100000</td>\n",
       "    </tr>\n",
       "    <tr>\n",
       "      <th id=\"T_236d3_level0_row4\" class=\"row_heading level0 row4\" >OrderCustomFieldsRecurrent</th>\n",
       "      <td id=\"T_236d3_row4_col0\" class=\"data row4 col0\" >12.900000</td>\n",
       "    </tr>\n",
       "    <tr>\n",
       "      <th id=\"T_236d3_level0_row5\" class=\"row_heading level0 row5\" >OrderCustomFieldsRepayment</th>\n",
       "      <td id=\"T_236d3_row5_col0\" class=\"data row5 col0\" >91.000000</td>\n",
       "    </tr>\n",
       "    <tr>\n",
       "      <th id=\"T_236d3_level0_row6\" class=\"row_heading level0 row6\" >OrderLineProductName</th>\n",
       "      <td id=\"T_236d3_row6_col0\" class=\"data row6 col0\" >0.200000</td>\n",
       "    </tr>\n",
       "    <tr>\n",
       "      <th id=\"T_236d3_level0_row7\" class=\"row_heading level0 row7\" >OrderLineQuantity</th>\n",
       "      <td id=\"T_236d3_row7_col0\" class=\"data row7 col0\" >0.000000</td>\n",
       "    </tr>\n",
       "    <tr>\n",
       "      <th id=\"T_236d3_level0_row8\" class=\"row_heading level0 row8\" >OrderLinePriceOfLine</th>\n",
       "      <td id=\"T_236d3_row8_col0\" class=\"data row8 col0\" >0.000000</td>\n",
       "    </tr>\n",
       "    <tr>\n",
       "      <th id=\"T_236d3_level0_row9\" class=\"row_heading level0 row9\" >OrderLineStatusIdsExternalId</th>\n",
       "      <td id=\"T_236d3_row9_col0\" class=\"data row9 col0\" >0.000000</td>\n",
       "    </tr>\n",
       "    <tr>\n",
       "      <th id=\"T_236d3_level0_row10\" class=\"row_heading level0 row10\" >OrderCustomerIdsMindboxId</th>\n",
       "      <td id=\"T_236d3_row10_col0\" class=\"data row10 col0\" >0.000000</td>\n",
       "    </tr>\n",
       "  </tbody>\n",
       "</table>\n"
      ],
      "text/plain": [
       "<pandas.io.formats.style.Styler at 0x10f5ff40>"
      ]
     },
     "execution_count": 16,
     "metadata": {},
     "output_type": "execute_result"
    }
   ],
   "source": [
    "#пропуски в процентном соотношении\n",
    "pd.DataFrame(round(orders.isna().mean()*100,1)).style.background_gradient('coolwarm')"
   ]
  },
  {
   "cell_type": "code",
   "execution_count": null,
   "id": "e25631cf",
   "metadata": {
    "id": "e25631cf",
    "outputId": "dabb8e22-d7b5-4458-f8bb-013488e69bfc"
   },
   "outputs": [
    {
     "name": "stdout",
     "output_type": "stream",
     "text": [
      "<class 'pandas.core.frame.DataFrame'>\n",
      "RangeIndex: 96565 entries, 0 to 96564\n",
      "Data columns (total 11 columns):\n",
      " #   Column                        Non-Null Count  Dtype         \n",
      "---  ------                        --------------  -----         \n",
      " 0   OrderFirstActionDateTimeUtc   96565 non-null  datetime64[ns]\n",
      " 1   OrderFirstActionChannelName   96565 non-null  category      \n",
      " 2   OrderTotalPrice               96565 non-null  int64         \n",
      " 3   OrderCustomFieldsNewyear      1867 non-null   category      \n",
      " 4   OrderCustomFieldsRecurrent    84128 non-null  category      \n",
      " 5   OrderCustomFieldsRepayment    8667 non-null   category      \n",
      " 6   OrderLineProductName          96346 non-null  category      \n",
      " 7   OrderLineQuantity             96565 non-null  int64         \n",
      " 8   OrderLinePriceOfLine          96565 non-null  int64         \n",
      " 9   OrderLineStatusIdsExternalId  96565 non-null  category      \n",
      " 10  OrderCustomerIdsMindboxId     96565 non-null  int64         \n",
      "dtypes: category(6), datetime64[ns](1), int64(4)\n",
      "memory usage: 4.3 MB\n"
     ]
    }
   ],
   "source": [
    "orders.info()"
   ]
  },
  {
   "cell_type": "code",
   "execution_count": null,
   "id": "ae9aad3d",
   "metadata": {
    "id": "ae9aad3d",
    "outputId": "d8c34e7b-8821-4bab-f94b-7585549e573b"
   },
   "outputs": [
    {
     "data": {
      "text/html": [
       "<div>\n",
       "<style scoped>\n",
       "    .dataframe tbody tr th:only-of-type {\n",
       "        vertical-align: middle;\n",
       "    }\n",
       "\n",
       "    .dataframe tbody tr th {\n",
       "        vertical-align: top;\n",
       "    }\n",
       "\n",
       "    .dataframe thead th {\n",
       "        text-align: right;\n",
       "    }\n",
       "</style>\n",
       "<table border=\"1\" class=\"dataframe\">\n",
       "  <thead>\n",
       "    <tr style=\"text-align: right;\">\n",
       "      <th></th>\n",
       "      <th>OrderFirstActionDateTimeUtc</th>\n",
       "      <th>OrderFirstActionChannelName</th>\n",
       "      <th>OrderTotalPrice</th>\n",
       "      <th>OrderCustomFieldsNewyear</th>\n",
       "      <th>OrderCustomFieldsRecurrent</th>\n",
       "      <th>OrderCustomFieldsRepayment</th>\n",
       "      <th>OrderLineProductName</th>\n",
       "      <th>OrderLineQuantity</th>\n",
       "      <th>OrderLinePriceOfLine</th>\n",
       "      <th>OrderLineStatusIdsExternalId</th>\n",
       "      <th>OrderCustomerIdsMindboxId</th>\n",
       "    </tr>\n",
       "  </thead>\n",
       "  <tbody>\n",
       "    <tr>\n",
       "      <th>0</th>\n",
       "      <td>2022-01-27</td>\n",
       "      <td>Административный сайт Mindbox</td>\n",
       "      <td>500</td>\n",
       "      <td>NaN</td>\n",
       "      <td>NaN</td>\n",
       "      <td>NaN</td>\n",
       "      <td>Пожертвование Благотворительный фонд «АиФ. Доброе сердце» Никита Суриков</td>\n",
       "      <td>1</td>\n",
       "      <td>500</td>\n",
       "      <td>Paid</td>\n",
       "      <td>6959</td>\n",
       "    </tr>\n",
       "    <tr>\n",
       "      <th>1</th>\n",
       "      <td>2022-01-29</td>\n",
       "      <td>Административный сайт Mindbox</td>\n",
       "      <td>200</td>\n",
       "      <td>NaN</td>\n",
       "      <td>NaN</td>\n",
       "      <td>NaN</td>\n",
       "      <td>Пожертвование Благотворительный фонд «АиФ. Доброе сердце» Никита Суриков</td>\n",
       "      <td>1</td>\n",
       "      <td>200</td>\n",
       "      <td>Paid</td>\n",
       "      <td>7103</td>\n",
       "    </tr>\n",
       "  </tbody>\n",
       "</table>\n",
       "</div>"
      ],
      "text/plain": [
       "  OrderFirstActionDateTimeUtc    OrderFirstActionChannelName  OrderTotalPrice  \\\n",
       "0 2022-01-27                   Административный сайт Mindbox  500               \n",
       "1 2022-01-29                   Административный сайт Mindbox  200               \n",
       "\n",
       "  OrderCustomFieldsNewyear OrderCustomFieldsRecurrent  \\\n",
       "0  NaN                      NaN                         \n",
       "1  NaN                      NaN                         \n",
       "\n",
       "  OrderCustomFieldsRepayment  \\\n",
       "0  NaN                         \n",
       "1  NaN                         \n",
       "\n",
       "                                                       OrderLineProductName  \\\n",
       "0  Пожертвование Благотворительный фонд «АиФ. Доброе сердце» Никита Суриков   \n",
       "1  Пожертвование Благотворительный фонд «АиФ. Доброе сердце» Никита Суриков   \n",
       "\n",
       "   OrderLineQuantity  OrderLinePriceOfLine OrderLineStatusIdsExternalId  \\\n",
       "0  1                  500                   Paid                          \n",
       "1  1                  200                   Paid                          \n",
       "\n",
       "   OrderCustomerIdsMindboxId  \n",
       "0  6959                       \n",
       "1  7103                       "
      ]
     },
     "execution_count": 18,
     "metadata": {},
     "output_type": "execute_result"
    }
   ],
   "source": [
    "orders.head(2)"
   ]
  },
  {
   "cell_type": "markdown",
   "id": "4357b18f",
   "metadata": {
    "id": "4357b18f"
   },
   "source": [
    "## Создание базы данных"
   ]
  },
  {
   "cell_type": "code",
   "execution_count": null,
   "id": "0f6e9f8a",
   "metadata": {
    "id": "0f6e9f8a"
   },
   "outputs": [],
   "source": [
    "#проверяем директорию для БД, если ее нет создаем\n",
    "if not os.path.exists('C:\\\\Users\\\\7\\\\Desktop\\\\АиФ\\\\Автозагрузка\\\\aif_bd'):\n",
    "    os.mkdir('C:\\\\Users\\\\7\\\\Desktop\\\\АиФ\\\\Автозагрузка\\\\aif_bd')\n",
    "os.chdir('C:\\\\Users\\\\7\\\\Desktop\\\\АиФ\\\\Автозагрузка\\\\aif_bd')\n",
    "\n",
    "#создаем БД\n",
    "aif_engine = sl.connect('battle_aif.sql')\n",
    "\n",
    "#проверяем созданную БД\n",
    "os.listdir()\n",
    "\n",
    "#загружаем в базу таблицы\n",
    "orders.to_sql('orders', con=aif_engine, if_exists='replace')\n",
    "final_data.to_sql('final_data', con=aif_engine, if_exists='replace')\n",
    "\n",
    "#Включаем расширение для SQL, подключаемся к базе данных\n",
    "%load_ext sql\n",
    "%sql sqlite:///battle_aif.sql"
   ]
  },
  {
   "cell_type": "code",
   "execution_count": null,
   "id": "3470e665",
   "metadata": {
    "id": "3470e665",
    "outputId": "bc9a45ec-fdf4-48d9-85d8-61b7bc224fca"
   },
   "outputs": [
    {
     "name": "stdout",
     "output_type": "stream",
     "text": [
      " * sqlite:///battle_aif.sql\n",
      "Done.\n"
     ]
    },
    {
     "data": {
      "text/html": [
       "<table>\n",
       "    <thead>\n",
       "        <tr>\n",
       "            <th>index</th>\n",
       "            <th>OrderFirstActionDateTimeUtc</th>\n",
       "            <th>OrderFirstActionChannelName</th>\n",
       "            <th>OrderTotalPrice</th>\n",
       "            <th>OrderCustomFieldsNewyear</th>\n",
       "            <th>OrderCustomFieldsRecurrent</th>\n",
       "            <th>OrderCustomFieldsRepayment</th>\n",
       "            <th>OrderLineProductName</th>\n",
       "            <th>OrderLineQuantity</th>\n",
       "            <th>OrderLinePriceOfLine</th>\n",
       "            <th>OrderLineStatusIdsExternalId</th>\n",
       "            <th>OrderCustomerIdsMindboxId</th>\n",
       "        </tr>\n",
       "    </thead>\n",
       "    <tbody>\n",
       "        <tr>\n",
       "            <td>0</td>\n",
       "            <td>2022-01-27 00:00:00</td>\n",
       "            <td>Административный сайт Mindbox</td>\n",
       "            <td>500</td>\n",
       "            <td>None</td>\n",
       "            <td>None</td>\n",
       "            <td>None</td>\n",
       "            <td>Пожертвование Благотворительный фонд «АиФ. Доброе сердце» Никита Суриков</td>\n",
       "            <td>1</td>\n",
       "            <td>500</td>\n",
       "            <td>Paid</td>\n",
       "            <td>6959</td>\n",
       "        </tr>\n",
       "        <tr>\n",
       "            <td>1</td>\n",
       "            <td>2022-01-29 00:00:00</td>\n",
       "            <td>Административный сайт Mindbox</td>\n",
       "            <td>200</td>\n",
       "            <td>None</td>\n",
       "            <td>None</td>\n",
       "            <td>None</td>\n",
       "            <td>Пожертвование Благотворительный фонд «АиФ. Доброе сердце» Никита Суриков</td>\n",
       "            <td>1</td>\n",
       "            <td>200</td>\n",
       "            <td>Paid</td>\n",
       "            <td>7103</td>\n",
       "        </tr>\n",
       "    </tbody>\n",
       "</table>"
      ],
      "text/plain": [
       "[(0, '2022-01-27 00:00:00', 'Административный сайт Mindbox', 500, None, None, None, 'Пожертвование Благотворительный фонд «АиФ. Доброе сердце» Никита Суриков', 1, 500, 'Paid', 6959),\n",
       " (1, '2022-01-29 00:00:00', 'Административный сайт Mindbox', 200, None, None, None, 'Пожертвование Благотворительный фонд «АиФ. Доброе сердце» Никита Суриков', 1, 200, 'Paid', 7103)]"
      ]
     },
     "execution_count": 20,
     "metadata": {},
     "output_type": "execute_result"
    }
   ],
   "source": [
    "%%sql\n",
    "\n",
    "select *\n",
    "from orders\n",
    "limit 2;"
   ]
  },
  {
   "cell_type": "code",
   "execution_count": null,
   "id": "c7e74284",
   "metadata": {
    "id": "c7e74284",
    "outputId": "76e8ca94-dc28-4cc1-f351-0837767c2c7c"
   },
   "outputs": [
    {
     "name": "stdout",
     "output_type": "stream",
     "text": [
      " * sqlite:///battle_aif.sql\n",
      "Done.\n"
     ]
    },
    {
     "data": {
      "text/html": [
       "<table>\n",
       "    <thead>\n",
       "        <tr>\n",
       "            <th>index</th>\n",
       "            <th>CustomerActionActionTemplateName</th>\n",
       "            <th>CustomerActionDateTimeUtc</th>\n",
       "            <th>CustomerActionCreationDateTimeUtc</th>\n",
       "            <th>CustomerActionChannelName</th>\n",
       "            <th>CustomerActionCustomerIdsMindboxId</th>\n",
       "        </tr>\n",
       "    </thead>\n",
       "    <tbody>\n",
       "        <tr>\n",
       "            <td>0</td>\n",
       "            <td>Импорт при переносе исторической базы клиентов</td>\n",
       "            <td>2022-03-19 21:30:00</td>\n",
       "            <td>2022-03-19 21:30:00</td>\n",
       "            <td>Сайт</td>\n",
       "            <td>2734</td>\n",
       "        </tr>\n",
       "        <tr>\n",
       "            <td>1</td>\n",
       "            <td>Оплата заказа</td>\n",
       "            <td>2021-10-14 15:50:00</td>\n",
       "            <td>2022-04-18 15:48:00</td>\n",
       "            <td>Административный сайт Mindbox</td>\n",
       "            <td>2734</td>\n",
       "        </tr>\n",
       "    </tbody>\n",
       "</table>"
      ],
      "text/plain": [
       "[(0, 'Импорт при переносе исторической базы клиентов', '2022-03-19 21:30:00', '2022-03-19 21:30:00', 'Сайт', '2734'),\n",
       " (1, 'Оплата заказа', '2021-10-14 15:50:00', '2022-04-18 15:48:00', 'Административный сайт Mindbox', '2734')]"
      ]
     },
     "execution_count": 21,
     "metadata": {},
     "output_type": "execute_result"
    }
   ],
   "source": [
    "%%sql\n",
    "\n",
    "select *\n",
    "from final_data\n",
    "limit 2;"
   ]
  },
  {
   "cell_type": "markdown",
   "id": "fe8ffa9f",
   "metadata": {
    "id": "fe8ffa9f"
   },
   "source": [
    "## RFM анализ"
   ]
  },
  {
   "cell_type": "markdown",
   "id": "b3bfdd09",
   "metadata": {
    "id": "b3bfdd09"
   },
   "source": [
    "**RFM 2023-24**"
   ]
  },
  {
   "cell_type": "code",
   "execution_count": null,
   "id": "6b8eaf11",
   "metadata": {
    "id": "6b8eaf11",
    "outputId": "d4bbaa48-5c62-4dab-f3bf-2aff29741262"
   },
   "outputs": [
    {
     "name": "stdout",
     "output_type": "stream",
     "text": [
      " * sqlite:///battle_aif.sql\n",
      "Done.\n"
     ]
    },
    {
     "data": {
      "text/html": [
       "<table>\n",
       "    <thead>\n",
       "        <tr>\n",
       "            <th>id_client</th>\n",
       "            <th>recency</th>\n",
       "            <th>frequency</th>\n",
       "            <th>monetary</th>\n",
       "            <th>r</th>\n",
       "            <th>f</th>\n",
       "            <th>m</th>\n",
       "            <th>rfm_score</th>\n",
       "            <th>customer_segment</th>\n",
       "        </tr>\n",
       "    </thead>\n",
       "    <tbody>\n",
       "        <tr>\n",
       "            <td>33989</td>\n",
       "            <td>25</td>\n",
       "            <td>56</td>\n",
       "            <td>1788</td>\n",
       "            <td>1</td>\n",
       "            <td>1</td>\n",
       "            <td>1</td>\n",
       "            <td>111</td>\n",
       "            <td>Постоянные благодетели</td>\n",
       "        </tr>\n",
       "        <tr>\n",
       "            <td>25158</td>\n",
       "            <td>25</td>\n",
       "            <td>24</td>\n",
       "            <td>41100</td>\n",
       "            <td>1</td>\n",
       "            <td>1</td>\n",
       "            <td>1</td>\n",
       "            <td>111</td>\n",
       "            <td>Постоянные благодетели</td>\n",
       "        </tr>\n",
       "        <tr>\n",
       "            <td>34072</td>\n",
       "            <td>25</td>\n",
       "            <td>24</td>\n",
       "            <td>4290</td>\n",
       "            <td>1</td>\n",
       "            <td>1</td>\n",
       "            <td>1</td>\n",
       "            <td>111</td>\n",
       "            <td>Постоянные благодетели</td>\n",
       "        </tr>\n",
       "        <tr>\n",
       "            <td>38154</td>\n",
       "            <td>25</td>\n",
       "            <td>22</td>\n",
       "            <td>3400</td>\n",
       "            <td>1</td>\n",
       "            <td>1</td>\n",
       "            <td>1</td>\n",
       "            <td>111</td>\n",
       "            <td>Постоянные благодетели</td>\n",
       "        </tr>\n",
       "        <tr>\n",
       "            <td>29426</td>\n",
       "            <td>25</td>\n",
       "            <td>18</td>\n",
       "            <td>2510</td>\n",
       "            <td>1</td>\n",
       "            <td>1</td>\n",
       "            <td>1</td>\n",
       "            <td>111</td>\n",
       "            <td>Постоянные благодетели</td>\n",
       "        </tr>\n",
       "    </tbody>\n",
       "</table>"
      ],
      "text/plain": [
       "[(33989, 25, 56, 1788, 1, 1, 1, '111', 'Постоянные благодетели'),\n",
       " (25158, 25, 24, 41100, 1, 1, 1, '111', 'Постоянные благодетели'),\n",
       " (34072, 25, 24, 4290, 1, 1, 1, '111', 'Постоянные благодетели'),\n",
       " (38154, 25, 22, 3400, 1, 1, 1, '111', 'Постоянные благодетели'),\n",
       " (29426, 25, 18, 2510, 1, 1, 1, '111', 'Постоянные благодетели')]"
      ]
     },
     "execution_count": 22,
     "metadata": {},
     "output_type": "execute_result"
    }
   ],
   "source": [
    "%%sql\n",
    "WITH orders_rfm AS (\n",
    "    SELECT\n",
    "        OrderCustomerIdsMindboxId AS id_client,\n",
    "        DATE(OrderFirstActionDateTimeUtc) AS date_rfm,\n",
    "        OrderTotalPrice AS price_rfm\n",
    "    FROM orders\n",
    "    WHERE OrderLineStatusIdsExternalId = 'Paid'\n",
    "      AND DATE(OrderFirstActionDateTimeUtc) >= '2023-01-01'\n",
    "      AND DATE(OrderFirstActionDateTimeUtc) <= '2024-09-30'\n",
    "),\n",
    "\n",
    "rfm AS (\n",
    "    SELECT\n",
    "        id_client,\n",
    "        CAST(JULIANDAY('2024-09-30') - JULIANDAY(MAX(date_rfm)) AS INTEGER) AS recency,\n",
    "        SUM(CASE WHEN DATE(date_rfm) >= '2023-01-01' AND DATE(date_rfm) <= '2024-0-30' THEN 1 ELSE 0 END) AS frequency,\n",
    "        SUM(price_rfm) AS monetary\n",
    "    FROM orders_rfm\n",
    "    GROUP BY id_client\n",
    "),\n",
    "\n",
    "rfm_2 as (SELECT *,\n",
    "       NTILE(4) OVER (ORDER BY recency) AS r,\n",
    "       NTILE(4) OVER (ORDER BY frequency DESC) AS f,\n",
    "       NTILE(4) OVER (ORDER BY monetary DESC) AS m\n",
    "FROM rfm),\n",
    "\n",
    "rfm_score as (SELECT *,\n",
    "       r || '' || f || '' || m AS rfm_score\n",
    "FROM rfm_2)\n",
    "\n",
    "SELECT *,\n",
    "\n",
    "CASE\n",
    "    WHEN rfm_score IN ('111', '112', '121', '211', '122', '212', '221') THEN 'Постоянные благодетели' -- Высокоценные, частые, недавние клиенты\n",
    "    WHEN rfm_score IN ('133', '134', '143', '144', '233','234', '243', '244', '311', '312', '321', '411', '412', '421') THEN 'Активные сторонники' -- недавние клиенты с потенциалом для более высокой вовлеченности\n",
    "    WHEN rfm_score IN ('322', '323', '331', '332', '341', '342','422', '423', '431', '432', '441') THEN 'Требующие внимания' -- Клиенты, подверженные риску оттока из-за снижения активности\n",
    "    WHEN rfm_score IN ('333', '334', '343', '344', '433', '434', '442', '443', '444') THEN 'Утраченные' -- Неактивные клиенты с низкой вовлеченностью\n",
    "    ELSE 'Other'\n",
    "END AS customer_segment\n",
    "\n",
    "FROM rfm_score\n",
    "\n",
    "\n",
    "LIMIT 5"
   ]
  },
  {
   "cell_type": "markdown",
   "id": "d38f7583",
   "metadata": {
    "id": "d38f7583"
   },
   "source": [
    "RFM для dl"
   ]
  },
  {
   "cell_type": "code",
   "execution_count": null,
   "id": "cddfedb3",
   "metadata": {
    "id": "cddfedb3",
    "outputId": "ff933b7f-fbc4-484f-fbec-99faca93a8fc"
   },
   "outputs": [
    {
     "data": {
      "text/plain": [
       "\"WITH payments_rfm AS (\\n    SELECT \\n        ordercustomeridsmindboxid AS id_client,\\n        date(orderfirstactiondatetimeutc) AS date_rfm,\\n        ordertotalprice AS price_rfm\\n    FROM payments \\n    WHERE orderlinestatusidsexternalid = 'Paid'\\n      AND date(orderfirstactiondatetimeutc) >= '2023-01-01'  \\n      AND date(orderfirstactiondatetimeutc) <= '2024-09-30'\\n),\\n\\nrfm AS (\\n    SELECT \\n        id_client,\\n        ('2024-09-30'::date - max(date_rfm)) AS recency,  \\n        sum(CASE WHEN date(date_rfm) >= '2023-01-01' AND date(date_rfm) <= '2024-09-30' THEN 1 ELSE 0 END) AS frequency,  \\n        sum(price_rfm) AS monetary  \\n    FROM payments_rfm\\n    GROUP BY id_client\\n),\\n\\nrfm_2 as (\\n    SELECT *,  \\n       ntile(4) OVER (ORDER BY recency) AS r,\\n       ntile(4) OVER (ORDER BY frequency DESC) AS f,\\n       ntile(4) OVER (ORDER BY monetary DESC) AS m\\n    FROM rfm\\n),\\n\\nrfm_score as (\\n    SELECT *,\\n       r::text || f::text || m::text AS rfm_score \\n    FROM rfm_2\\n)\\n\\nSELECT *,\\n\\nCASE\\n    WHEN rfm_score IN ('111', '112', '121', '211', '122', '212', '221') THEN 'постоянные благодетели' -- Высокоценные, частые, недавние клиенты\\n    WHEN rfm_score IN ('133', '134', '143', '144', '233','234', '243', '244', '311', '312', '321', '411', '412', '421') THEN 'активные сторонники' -- недавние клиенты с потенциалом для более высокой вовлеченности\\n    WHEN rfm_score IN ('322', '323', '331', '332', '341', '342','422', '423', '431', '432', '441') THEN 'требующие внимания' -- Клиенты, подверженные риску оттока из-за снижения активности\\n    WHEN rfm_score IN ('333', '334', '343', '344', '433', '434', '442', '443', '444') THEN 'утраченные' -- Неактивные клиенты с низкой вовлеченностью\\n    ELSE 'other' \\nEND AS customer_segment\\n\\nFROM rfm_score\""
      ]
     },
     "execution_count": 23,
     "metadata": {},
     "output_type": "execute_result"
    }
   ],
   "source": [
    "'''WITH payments_rfm AS (\n",
    "    SELECT\n",
    "        ordercustomeridsmindboxid AS id_client,\n",
    "        date(orderfirstactiondatetimeutc) AS date_rfm,\n",
    "        ordertotalprice AS price_rfm\n",
    "    FROM payments\n",
    "    WHERE orderlinestatusidsexternalid = 'Paid'\n",
    "      AND date(orderfirstactiondatetimeutc) >= '2023-01-01'\n",
    "      AND date(orderfirstactiondatetimeutc) <= '2024-09-30'\n",
    "),\n",
    "\n",
    "rfm AS (\n",
    "    SELECT\n",
    "        id_client,\n",
    "        ('2024-09-30'::date - max(date_rfm)) AS recency,\n",
    "        sum(CASE WHEN date(date_rfm) >= '2023-01-01' AND date(date_rfm) <= '2024-09-30' THEN 1 ELSE 0 END) AS frequency,\n",
    "        sum(price_rfm) AS monetary\n",
    "    FROM payments_rfm\n",
    "    GROUP BY id_client\n",
    "),\n",
    "\n",
    "rfm_2 as (\n",
    "    SELECT *,\n",
    "       ntile(4) OVER (ORDER BY recency) AS r,\n",
    "       ntile(4) OVER (ORDER BY frequency DESC) AS f,\n",
    "       ntile(4) OVER (ORDER BY monetary DESC) AS m\n",
    "    FROM rfm\n",
    "),\n",
    "\n",
    "rfm_score as (\n",
    "    SELECT *,\n",
    "       r::text || f::text || m::text AS rfm_score\n",
    "    FROM rfm_2\n",
    ")\n",
    "\n",
    "SELECT *,\n",
    "\n",
    "CASE\n",
    "    WHEN rfm_score IN ('111', '112', '121', '211', '122', '212', '221') THEN 'постоянные благодетели' -- Высокоценные, частые, недавние клиенты\n",
    "    WHEN rfm_score IN ('133', '134', '143', '144', '233','234', '243', '244', '311', '312', '321', '411', '412', '421') THEN 'активные сторонники' -- недавние клиенты с потенциалом для более высокой вовлеченности\n",
    "    WHEN rfm_score IN ('322', '323', '331', '332', '341', '342','422', '423', '431', '432', '441') THEN 'требующие внимания' -- Клиенты, подверженные риску оттока из-за снижения активности\n",
    "    WHEN rfm_score IN ('333', '334', '343', '344', '433', '434', '442', '443', '444') THEN 'утраченные' -- Неактивные клиенты с низкой вовлеченностью\n",
    "    ELSE 'other'\n",
    "END AS customer_segment\n",
    "\n",
    "FROM rfm_score'''"
   ]
  },
  {
   "cell_type": "markdown",
   "id": "89d27603",
   "metadata": {
    "id": "89d27603"
   },
   "source": [
    "## Когортный анализ"
   ]
  },
  {
   "cell_type": "code",
   "execution_count": null,
   "id": "df889fd7",
   "metadata": {
    "id": "df889fd7",
    "outputId": "a239100e-15ec-4573-92f9-0abfc915f875"
   },
   "outputs": [
    {
     "name": "stderr",
     "output_type": "stream",
     "text": [
      "C:\\Users\\7\\AppData\\Local\\Temp\\ipykernel_8016\\190661940.py:3: SettingWithCopyWarning: \n",
      "A value is trying to be set on a copy of a slice from a DataFrame.\n",
      "Try using .loc[row_indexer,col_indexer] = value instead\n",
      "\n",
      "See the caveats in the documentation: https://pandas.pydata.org/pandas-docs/stable/user_guide/indexing.html#returning-a-view-versus-a-copy\n",
      "  a['OrderFirstActionDateTimeUtc'] = a['OrderFirstActionDateTimeUtc'].dt.strftime('%Y-%m-01')\n"
     ]
    },
    {
     "data": {
      "text/html": [
       "<div>\n",
       "<style scoped>\n",
       "    .dataframe tbody tr th:only-of-type {\n",
       "        vertical-align: middle;\n",
       "    }\n",
       "\n",
       "    .dataframe tbody tr th {\n",
       "        vertical-align: top;\n",
       "    }\n",
       "\n",
       "    .dataframe thead th {\n",
       "        text-align: right;\n",
       "    }\n",
       "</style>\n",
       "<table border=\"1\" class=\"dataframe\">\n",
       "  <thead>\n",
       "    <tr style=\"text-align: right;\">\n",
       "      <th></th>\n",
       "      <th>CohortStartDate</th>\n",
       "      <th>Revenue</th>\n",
       "      <th>UniqueUsers</th>\n",
       "    </tr>\n",
       "  </thead>\n",
       "  <tbody>\n",
       "    <tr>\n",
       "      <th>0</th>\n",
       "      <td>2023-01-01</td>\n",
       "      <td>2778334</td>\n",
       "      <td>767</td>\n",
       "    </tr>\n",
       "    <tr>\n",
       "      <th>1</th>\n",
       "      <td>2023-02-01</td>\n",
       "      <td>2731656</td>\n",
       "      <td>474</td>\n",
       "    </tr>\n",
       "    <tr>\n",
       "      <th>2</th>\n",
       "      <td>2023-03-01</td>\n",
       "      <td>1426046</td>\n",
       "      <td>631</td>\n",
       "    </tr>\n",
       "    <tr>\n",
       "      <th>3</th>\n",
       "      <td>2023-04-01</td>\n",
       "      <td>1399734</td>\n",
       "      <td>1057</td>\n",
       "    </tr>\n",
       "    <tr>\n",
       "      <th>4</th>\n",
       "      <td>2023-05-01</td>\n",
       "      <td>1174739</td>\n",
       "      <td>578</td>\n",
       "    </tr>\n",
       "    <tr>\n",
       "      <th>5</th>\n",
       "      <td>2023-06-01</td>\n",
       "      <td>1581766</td>\n",
       "      <td>1059</td>\n",
       "    </tr>\n",
       "    <tr>\n",
       "      <th>6</th>\n",
       "      <td>2023-07-01</td>\n",
       "      <td>860117</td>\n",
       "      <td>641</td>\n",
       "    </tr>\n",
       "    <tr>\n",
       "      <th>7</th>\n",
       "      <td>2023-08-01</td>\n",
       "      <td>351017</td>\n",
       "      <td>288</td>\n",
       "    </tr>\n",
       "    <tr>\n",
       "      <th>8</th>\n",
       "      <td>2023-09-01</td>\n",
       "      <td>1292542</td>\n",
       "      <td>1093</td>\n",
       "    </tr>\n",
       "    <tr>\n",
       "      <th>9</th>\n",
       "      <td>2023-10-01</td>\n",
       "      <td>695435</td>\n",
       "      <td>468</td>\n",
       "    </tr>\n",
       "    <tr>\n",
       "      <th>10</th>\n",
       "      <td>2023-11-01</td>\n",
       "      <td>457177</td>\n",
       "      <td>384</td>\n",
       "    </tr>\n",
       "    <tr>\n",
       "      <th>11</th>\n",
       "      <td>2023-12-01</td>\n",
       "      <td>873426</td>\n",
       "      <td>879</td>\n",
       "    </tr>\n",
       "  </tbody>\n",
       "</table>\n",
       "</div>"
      ],
      "text/plain": [
       "   CohortStartDate  Revenue  UniqueUsers\n",
       "0   2023-01-01      2778334  767        \n",
       "1   2023-02-01      2731656  474        \n",
       "2   2023-03-01      1426046  631        \n",
       "3   2023-04-01      1399734  1057       \n",
       "4   2023-05-01      1174739  578        \n",
       "5   2023-06-01      1581766  1059       \n",
       "6   2023-07-01      860117   641        \n",
       "7   2023-08-01      351017   288        \n",
       "8   2023-09-01      1292542  1093       \n",
       "9   2023-10-01      695435   468        \n",
       "10  2023-11-01      457177   384        \n",
       "11  2023-12-01      873426   879        "
      ]
     },
     "execution_count": 39,
     "metadata": {},
     "output_type": "execute_result"
    }
   ],
   "source": [
    "# проверка когорт через питон\n",
    "a = orders.query('OrderLineStatusIdsExternalId == \"Paid\" and OrderFirstActionDateTimeUtc >= \"2023-01-01\" and OrderFirstActionDateTimeUtc <= \"2023-12-31\"')\n",
    "a['OrderFirstActionDateTimeUtc'] = a['OrderFirstActionDateTimeUtc'].dt.strftime('%Y-%m-01')\n",
    "a = a.groupby(['OrderCustomerIdsMindboxId', 'OrderFirstActionDateTimeUtc']).agg({'OrderTotalPrice': 'sum'}).reset_index()\n",
    "\n",
    "\n",
    "# Найдем минимальную дату для каждого пользователя\n",
    "cohorts_min_date = a.groupby('OrderCustomerIdsMindboxId')['OrderFirstActionDateTimeUtc'].min().reset_index()\n",
    "cohorts_min_date = cohorts_min_date.rename(columns={'OrderFirstActionDateTimeUtc': 'CohortStartDate'})\n",
    "\n",
    "# Объединим данные о когортах с минимальной датой\n",
    "a = pd.merge(a, cohorts_min_date, on='OrderCustomerIdsMindboxId')\n",
    "\n",
    "# Сгруппируем данные по дате старта когорты и посчитаем выручку\n",
    "cohort_revenue = a.groupby('CohortStartDate')['OrderTotalPrice'].sum().reset_index()\n",
    "\n",
    "cohort_revenue = a.groupby('CohortStartDate').agg({\n",
    "    'OrderTotalPrice': 'sum',\n",
    "    'OrderCustomerIdsMindboxId': 'nunique'\n",
    "}).reset_index()\n",
    "\n",
    "cohort_revenue = cohort_revenue.rename(columns={\n",
    "    'OrderTotalPrice': 'Revenue',\n",
    "    'OrderCustomerIdsMindboxId': 'UniqueUsers'\n",
    "})\n",
    "\n",
    "cohort_revenue"
   ]
  },
  {
   "cell_type": "code",
   "execution_count": null,
   "id": "c9052002",
   "metadata": {
    "id": "c9052002",
    "outputId": "20a85d68-5535-47c9-da40-4003a9eece4b"
   },
   "outputs": [
    {
     "name": "stdout",
     "output_type": "stream",
     "text": [
      " * sqlite:///battle_aif.sql\n",
      "Done.\n"
     ]
    },
    {
     "data": {
      "text/html": [
       "<table>\n",
       "    <thead>\n",
       "        <tr>\n",
       "            <th>first_sale</th>\n",
       "            <th>month_sale</th>\n",
       "            <th>count_user</th>\n",
       "            <th>cohort_size</th>\n",
       "            <th>previous_day_users_cnt</th>\n",
       "            <th>churn_rate</th>\n",
       "            <th>RR</th>\n",
       "        </tr>\n",
       "    </thead>\n",
       "    <tbody>\n",
       "        <tr>\n",
       "            <td>2023-01-01</td>\n",
       "            <td>2023-01-01</td>\n",
       "            <td>767</td>\n",
       "            <td>767</td>\n",
       "            <td>None</td>\n",
       "            <td>None</td>\n",
       "            <td>100.0</td>\n",
       "        </tr>\n",
       "        <tr>\n",
       "            <td>2023-01-01</td>\n",
       "            <td>2023-02-01</td>\n",
       "            <td>158</td>\n",
       "            <td>767</td>\n",
       "            <td>767</td>\n",
       "            <td>79.4</td>\n",
       "            <td>20.6</td>\n",
       "        </tr>\n",
       "        <tr>\n",
       "            <td>2023-01-01</td>\n",
       "            <td>2023-03-01</td>\n",
       "            <td>208</td>\n",
       "            <td>767</td>\n",
       "            <td>158</td>\n",
       "            <td>-31.65</td>\n",
       "            <td>27.12</td>\n",
       "        </tr>\n",
       "        <tr>\n",
       "            <td>2023-01-01</td>\n",
       "            <td>2023-04-01</td>\n",
       "            <td>179</td>\n",
       "            <td>767</td>\n",
       "            <td>208</td>\n",
       "            <td>13.94</td>\n",
       "            <td>23.34</td>\n",
       "        </tr>\n",
       "        <tr>\n",
       "            <td>2023-01-01</td>\n",
       "            <td>2023-05-01</td>\n",
       "            <td>174</td>\n",
       "            <td>767</td>\n",
       "            <td>179</td>\n",
       "            <td>2.79</td>\n",
       "            <td>22.69</td>\n",
       "        </tr>\n",
       "        <tr>\n",
       "            <td>2023-01-01</td>\n",
       "            <td>2023-06-01</td>\n",
       "            <td>180</td>\n",
       "            <td>767</td>\n",
       "            <td>174</td>\n",
       "            <td>-3.45</td>\n",
       "            <td>23.47</td>\n",
       "        </tr>\n",
       "        <tr>\n",
       "            <td>2023-01-01</td>\n",
       "            <td>2023-07-01</td>\n",
       "            <td>183</td>\n",
       "            <td>767</td>\n",
       "            <td>180</td>\n",
       "            <td>-1.67</td>\n",
       "            <td>23.86</td>\n",
       "        </tr>\n",
       "        <tr>\n",
       "            <td>2023-01-01</td>\n",
       "            <td>2023-08-01</td>\n",
       "            <td>185</td>\n",
       "            <td>767</td>\n",
       "            <td>183</td>\n",
       "            <td>-1.09</td>\n",
       "            <td>24.12</td>\n",
       "        </tr>\n",
       "        <tr>\n",
       "            <td>2023-01-01</td>\n",
       "            <td>2023-09-01</td>\n",
       "            <td>180</td>\n",
       "            <td>767</td>\n",
       "            <td>185</td>\n",
       "            <td>2.7</td>\n",
       "            <td>23.47</td>\n",
       "        </tr>\n",
       "        <tr>\n",
       "            <td>2023-01-01</td>\n",
       "            <td>2023-10-01</td>\n",
       "            <td>181</td>\n",
       "            <td>767</td>\n",
       "            <td>180</td>\n",
       "            <td>-0.56</td>\n",
       "            <td>23.6</td>\n",
       "        </tr>\n",
       "        <tr>\n",
       "            <td>2023-01-01</td>\n",
       "            <td>2023-11-01</td>\n",
       "            <td>187</td>\n",
       "            <td>767</td>\n",
       "            <td>181</td>\n",
       "            <td>-3.31</td>\n",
       "            <td>24.38</td>\n",
       "        </tr>\n",
       "        <tr>\n",
       "            <td>2023-01-01</td>\n",
       "            <td>2023-12-01</td>\n",
       "            <td>187</td>\n",
       "            <td>767</td>\n",
       "            <td>187</td>\n",
       "            <td>0.0</td>\n",
       "            <td>24.38</td>\n",
       "        </tr>\n",
       "        <tr>\n",
       "            <td>2023-02-01</td>\n",
       "            <td>2023-02-01</td>\n",
       "            <td>474</td>\n",
       "            <td>474</td>\n",
       "            <td>None</td>\n",
       "            <td>None</td>\n",
       "            <td>100.0</td>\n",
       "        </tr>\n",
       "        <tr>\n",
       "            <td>2023-02-01</td>\n",
       "            <td>2023-03-01</td>\n",
       "            <td>115</td>\n",
       "            <td>474</td>\n",
       "            <td>474</td>\n",
       "            <td>75.74</td>\n",
       "            <td>24.26</td>\n",
       "        </tr>\n",
       "        <tr>\n",
       "            <td>2023-02-01</td>\n",
       "            <td>2023-04-01</td>\n",
       "            <td>87</td>\n",
       "            <td>474</td>\n",
       "            <td>115</td>\n",
       "            <td>24.35</td>\n",
       "            <td>18.35</td>\n",
       "        </tr>\n",
       "    </tbody>\n",
       "</table>"
      ],
      "text/plain": [
       "[('2023-01-01', '2023-01-01', 767, 767, None, None, 100.0),\n",
       " ('2023-01-01', '2023-02-01', 158, 767, 767, 79.4, 20.6),\n",
       " ('2023-01-01', '2023-03-01', 208, 767, 158, -31.65, 27.12),\n",
       " ('2023-01-01', '2023-04-01', 179, 767, 208, 13.94, 23.34),\n",
       " ('2023-01-01', '2023-05-01', 174, 767, 179, 2.79, 22.69),\n",
       " ('2023-01-01', '2023-06-01', 180, 767, 174, -3.45, 23.47),\n",
       " ('2023-01-01', '2023-07-01', 183, 767, 180, -1.67, 23.86),\n",
       " ('2023-01-01', '2023-08-01', 185, 767, 183, -1.09, 24.12),\n",
       " ('2023-01-01', '2023-09-01', 180, 767, 185, 2.7, 23.47),\n",
       " ('2023-01-01', '2023-10-01', 181, 767, 180, -0.56, 23.6),\n",
       " ('2023-01-01', '2023-11-01', 187, 767, 181, -3.31, 24.38),\n",
       " ('2023-01-01', '2023-12-01', 187, 767, 187, 0.0, 24.38),\n",
       " ('2023-02-01', '2023-02-01', 474, 474, None, None, 100.0),\n",
       " ('2023-02-01', '2023-03-01', 115, 474, 474, 75.74, 24.26),\n",
       " ('2023-02-01', '2023-04-01', 87, 474, 115, 24.35, 18.35)]"
      ]
     },
     "execution_count": 41,
     "metadata": {},
     "output_type": "execute_result"
    }
   ],
   "source": [
    "%%sql\n",
    "WITH profile AS (\n",
    "    SELECT\n",
    "        OrderCustomerIdsMindboxId AS id_client,\n",
    "        strftime('%Y-%m-01', OrderFirstActionDateTimeUtc) AS month_sale,\n",
    "        MIN(strftime('%Y-%m-01', OrderFirstActionDateTimeUtc)) OVER (PARTITION BY OrderCustomerIdsMindboxId) AS first_sale\n",
    "    FROM\n",
    "        orders\n",
    "    WHERE\n",
    "        OrderLineStatusIdsExternalId = 'Paid'\n",
    "        AND OrderFirstActionDateTimeUtc BETWEEN '2023-01-01' AND '2023-12-31'\n",
    "),\n",
    "cohort_size AS (\n",
    "    SELECT\n",
    "        first_sale,\n",
    "        COUNT(DISTINCT id_client) AS cohort_size\n",
    "    FROM\n",
    "        profile\n",
    "    WHERE\n",
    "        first_sale = month_sale\n",
    "    GROUP BY\n",
    "        first_sale\n",
    "),\n",
    "counts AS (\n",
    "    SELECT\n",
    "        first_sale,\n",
    "        month_sale,\n",
    "        COUNT(DISTINCT id_client) AS count_user\n",
    "    FROM\n",
    "        profile\n",
    "    GROUP BY\n",
    "        first_sale,\n",
    "        month_sale\n",
    ")\n",
    "SELECT\n",
    "    c.first_sale,\n",
    "    c.month_sale,\n",
    "    c.count_user,\n",
    "    cs.cohort_size,\n",
    "    LAG(c.count_user) OVER (PARTITION BY c.first_sale ORDER BY c.month_sale) AS previous_day_users_cnt,\n",
    "    ROUND(100.0 * (1.0 - (c.count_user * 1.0 / NULLIF(LAG(c.count_user) OVER (PARTITION BY c.first_sale ORDER BY c.month_sale), 0))), 2) AS churn_rate,\n",
    "    ROUND(100.0 * c.count_user * 1.0 / NULLIF(cs.cohort_size, 0), 2) AS RR\n",
    "FROM\n",
    "    counts c\n",
    "JOIN\n",
    "    cohort_size cs ON c.first_sale = cs.first_sale\n",
    "ORDER BY\n",
    "    c.first_sale,\n",
    "    c.month_sale\n",
    "limit 15\n"
   ]
  },
  {
   "cell_type": "markdown",
   "id": "1e1fc15d",
   "metadata": {
    "id": "1e1fc15d"
   },
   "source": [
    "когортный для даталенса"
   ]
  },
  {
   "cell_type": "code",
   "execution_count": null,
   "id": "acf56ba6",
   "metadata": {
    "id": "acf56ba6",
    "outputId": "cf883119-a019-4f30-a3e5-3f2d7af8c9bb"
   },
   "outputs": [
    {
     "data": {
      "text/plain": [
       "\"WITH profile AS (\\n    SELECT\\n        ordercustomeridsmindboxid AS id_client,\\n        DATE_TRUNC('month', orderfirstactiondatetimeutc) AS month_sale,\\n        MIN(DATE_TRUNC('month', orderfirstactiondatetimeutc)) OVER (PARTITION BY ordercustomeridsmindboxid) AS first_sale\\n    FROM\\n        payments\\n    WHERE\\n        orderlinestatusidsexternalid = 'Paid'\\n        AND orderfirstactiondatetimeutc BETWEEN '2023-01-31' AND '2023-12-31'\\n),\\ncohort_size AS (\\n    SELECT\\n        first_sale,\\n        COUNT(DISTINCT id_client) AS cohort_size\\n    FROM\\n        profile\\n    WHERE\\n        first_sale = month_sale\\n    GROUP BY\\n        first_sale\\n),\\ncounts AS (\\n    SELECT\\n        first_sale,\\n        month_sale,\\n        COUNT(DISTINCT id_client) AS count_user\\n    FROM\\n        profile\\n    GROUP BY\\n        first_sale,\\n        month_sale\\n)\\nSELECT\\n    c.first_sale,\\n    c.month_sale,\\n    c.count_user,\\n    cs.cohort_size,\\n    LAG(c.count_user) OVER (PARTITION BY c.first_sale ORDER BY c.month_sale) AS previous_day_users_cnt,\\n    ROUND(100.0 * (1.0 - (c.count_user * 1.0 / NULLIF(LAG(c.count_user) OVER (PARTITION BY c.first_sale ORDER BY c.month_sale), 0))), 2) AS churn_rate,\\n    ROUND(100.0 * c.count_user * 1.0 / NULLIF(cs.cohort_size, 0), 2) AS rr\\nFROM\\n    counts c\\nJOIN\\n    cohort_size cs ON c.first_sale = cs.first_sale\\nORDER BY\\n    c.first_sale,\\n    c.month_sale\""
      ]
     },
     "execution_count": 25,
     "metadata": {},
     "output_type": "execute_result"
    }
   ],
   "source": [
    "'''WITH profile AS (\n",
    "    SELECT\n",
    "        ordercustomeridsmindboxid AS id_client,\n",
    "        DATE_TRUNC('month', orderfirstactiondatetimeutc) AS month_sale,\n",
    "        MIN(DATE_TRUNC('month', orderfirstactiondatetimeutc)) OVER (PARTITION BY ordercustomeridsmindboxid) AS first_sale\n",
    "    FROM\n",
    "        payments\n",
    "    WHERE\n",
    "        orderlinestatusidsexternalid = 'Paid'\n",
    "        AND orderfirstactiondatetimeutc BETWEEN '2023-01-31' AND '2023-12-31'\n",
    "),\n",
    "cohort_size AS (\n",
    "    SELECT\n",
    "        first_sale,\n",
    "        COUNT(DISTINCT id_client) AS cohort_size\n",
    "    FROM\n",
    "        profile\n",
    "    WHERE\n",
    "        first_sale = month_sale\n",
    "    GROUP BY\n",
    "        first_sale\n",
    "),\n",
    "counts AS (\n",
    "    SELECT\n",
    "        first_sale,\n",
    "        month_sale,\n",
    "        COUNT(DISTINCT id_client) AS count_user\n",
    "    FROM\n",
    "        profile\n",
    "    GROUP BY\n",
    "        first_sale,\n",
    "        month_sale\n",
    ")\n",
    "SELECT\n",
    "    c.first_sale,\n",
    "    c.month_sale,\n",
    "    c.count_user,\n",
    "    cs.cohort_size,\n",
    "    LAG(c.count_user) OVER (PARTITION BY c.first_sale ORDER BY c.month_sale) AS previous_day_users_cnt,\n",
    "    ROUND(100.0 * (1.0 - (c.count_user * 1.0 / NULLIF(LAG(c.count_user) OVER (PARTITION BY c.first_sale ORDER BY c.month_sale), 0))), 2) AS churn_rate,\n",
    "    ROUND(100.0 * c.count_user * 1.0 / NULLIF(cs.cohort_size, 0), 2) AS rr\n",
    "FROM\n",
    "    counts c\n",
    "JOIN\n",
    "    cohort_size cs ON c.first_sale = cs.first_sale\n",
    "ORDER BY\n",
    "    c.first_sale,\n",
    "    c.month_sale'''"
   ]
  },
  {
   "cell_type": "markdown",
   "id": "c1799665",
   "metadata": {
    "id": "c1799665"
   },
   "source": [
    "## LTV(ARPPU)\n",
    "ARPPU, или Average Revenue Per Paying User, — тот же LTV, но рассчитанный с учётом только платящих пользователей когорты. Выручку с накоплением делят на число пользователей, совершивших хотя бы одну покупку."
   ]
  },
  {
   "cell_type": "markdown",
   "id": "9c45e723",
   "metadata": {
    "id": "9c45e723"
   },
   "source": [
    "код для дл"
   ]
  },
  {
   "cell_type": "code",
   "execution_count": null,
   "id": "574a1f22",
   "metadata": {
    "id": "574a1f22",
    "outputId": "0310c803-33d3-4023-c2ee-e2cf2f0e1ba5"
   },
   "outputs": [
    {
     "data": {
      "text/plain": [
       "\"WITH cohort AS (\\n    SELECT\\n        ordercustomeridsmindboxid AS id_client,\\n        MIN(DATE_TRUNC('month', orderfirstactiondatetimeutc)) AS start_cohort,\\n        MAX(DATE_TRUNC('month', orderfirstactiondatetimeutc)) AS last_action_date,\\n        SUM(ordertotalprice) AS total_revenue\\n    FROM\\n        payments\\n    WHERE\\n        orderfirstactiondatetimeutc BETWEEN '2023-01-01' AND '2023-12-31' AND orderlinestatusidsexternalid = 'Paid'\\n    GROUP BY\\n        ordercustomeridsmindboxid\\n),\\ncohort_size AS (\\n    SELECT\\n        start_cohort,\\n        COUNT(DISTINCT id_client) AS cohort_size\\n    FROM\\n        cohort\\n    GROUP BY\\n        start_cohort\\n),\\nlifetime AS (\\n    SELECT\\n        start_cohort,\\n        EXTRACT(YEAR FROM last_action_date) * 12 + EXTRACT(MONTH FROM last_action_date) - (EXTRACT(YEAR FROM start_cohort) * 12 + EXTRACT(MONTH FROM start_cohort)) AS lifetime_months\\n    FROM\\n        cohort\\n),\\nltv AS (\\n    SELECT\\n        lifetime_months,\\n        lf.start_cohort,\\n        c.cohort_size,\\n        CASE\\n            WHEN c.cohort_size = 0 THEN 0\\n            ELSE (SUM(ch.total_revenue) OVER (PARTITION BY lf.start_cohort ORDER BY lifetime_months)) / c.cohort_size / c.cohort_size\\n        END AS ltv\\n    FROM\\n        lifetime AS lf\\n    JOIN\\n        cohort_size AS c ON lf.start_cohort = c.start_cohort\\n    JOIN\\n        cohort AS ch ON c.start_cohort = ch.start_cohort\\n)\\nSELECT\\n    lifetime_months,\\n    start_cohort,\\n    ltv\\nFROM\\n    ltv\\nGROUP BY\\n    lifetime_months,\\n    start_cohort,\\n    ltv\\nORDER BY\\n    start_cohort,\\n    lifetime_months\""
      ]
     },
     "execution_count": 26,
     "metadata": {},
     "output_type": "execute_result"
    }
   ],
   "source": [
    "'''WITH cohort AS (\n",
    "    SELECT\n",
    "        ordercustomeridsmindboxid AS id_client,\n",
    "        MIN(DATE_TRUNC('month', orderfirstactiondatetimeutc)) AS start_cohort,\n",
    "        MAX(DATE_TRUNC('month', orderfirstactiondatetimeutc)) AS last_action_date,\n",
    "        SUM(ordertotalprice) AS total_revenue\n",
    "    FROM\n",
    "        payments\n",
    "    WHERE\n",
    "        orderfirstactiondatetimeutc BETWEEN '2023-01-01' AND '2023-12-31' AND orderlinestatusidsexternalid = 'Paid'\n",
    "    GROUP BY\n",
    "        ordercustomeridsmindboxid\n",
    "),\n",
    "cohort_size AS (\n",
    "    SELECT\n",
    "        start_cohort,\n",
    "        COUNT(DISTINCT id_client) AS cohort_size\n",
    "    FROM\n",
    "        cohort\n",
    "    GROUP BY\n",
    "        start_cohort\n",
    "),\n",
    "lifetime AS (\n",
    "    SELECT\n",
    "        start_cohort,\n",
    "        EXTRACT(YEAR FROM last_action_date) * 12 + EXTRACT(MONTH FROM last_action_date) - (EXTRACT(YEAR FROM start_cohort) * 12 + EXTRACT(MONTH FROM start_cohort)) AS lifetime_months\n",
    "    FROM\n",
    "        cohort\n",
    "),\n",
    "ltv AS (\n",
    "    SELECT\n",
    "        lifetime_months,\n",
    "        lf.start_cohort,\n",
    "        c.cohort_size,\n",
    "        CASE\n",
    "            WHEN c.cohort_size = 0 THEN 0\n",
    "            ELSE (SUM(ch.total_revenue) OVER (PARTITION BY lf.start_cohort ORDER BY lifetime_months)) / c.cohort_size / c.cohort_size\n",
    "        END AS ltv\n",
    "    FROM\n",
    "        lifetime AS lf\n",
    "    JOIN\n",
    "        cohort_size AS c ON lf.start_cohort = c.start_cohort\n",
    "    JOIN\n",
    "        cohort AS ch ON c.start_cohort = ch.start_cohort\n",
    ")\n",
    "SELECT\n",
    "    lifetime_months,\n",
    "    start_cohort,\n",
    "    ltv\n",
    "FROM\n",
    "    ltv\n",
    "GROUP BY\n",
    "    lifetime_months,\n",
    "    start_cohort,\n",
    "    ltv\n",
    "ORDER BY\n",
    "    start_cohort,\n",
    "    lifetime_months'''"
   ]
  },
  {
   "cell_type": "code",
   "execution_count": null,
   "id": "1507e8be",
   "metadata": {
    "id": "1507e8be",
    "outputId": "fd5b2fd1-12d2-42f4-eff7-3ddadc56b45d"
   },
   "outputs": [
    {
     "name": "stdout",
     "output_type": "stream",
     "text": [
      " * sqlite:///battle_aif.sql\n",
      "Done.\n"
     ]
    },
    {
     "data": {
      "text/html": [
       "<table>\n",
       "    <thead>\n",
       "        <tr>\n",
       "            <th>lifetime_months</th>\n",
       "            <th>start_cohort</th>\n",
       "            <th>ltv</th>\n",
       "        </tr>\n",
       "    </thead>\n",
       "    <tbody>\n",
       "        <tr>\n",
       "            <td>0</td>\n",
       "            <td>2023-01-01</td>\n",
       "            <td>1487</td>\n",
       "        </tr>\n",
       "        <tr>\n",
       "            <td>1</td>\n",
       "            <td>2023-01-01</td>\n",
       "            <td>1558</td>\n",
       "        </tr>\n",
       "        <tr>\n",
       "            <td>2</td>\n",
       "            <td>2023-01-01</td>\n",
       "            <td>1667</td>\n",
       "        </tr>\n",
       "        <tr>\n",
       "            <td>3</td>\n",
       "            <td>2023-01-01</td>\n",
       "            <td>1808</td>\n",
       "        </tr>\n",
       "        <tr>\n",
       "            <td>4</td>\n",
       "            <td>2023-01-01</td>\n",
       "            <td>1870</td>\n",
       "        </tr>\n",
       "        <tr>\n",
       "            <td>5</td>\n",
       "            <td>2023-01-01</td>\n",
       "            <td>1955</td>\n",
       "        </tr>\n",
       "        <tr>\n",
       "            <td>6</td>\n",
       "            <td>2023-01-01</td>\n",
       "            <td>2040</td>\n",
       "        </tr>\n",
       "        <tr>\n",
       "            <td>7</td>\n",
       "            <td>2023-01-01</td>\n",
       "            <td>2134</td>\n",
       "        </tr>\n",
       "        <tr>\n",
       "            <td>8</td>\n",
       "            <td>2023-01-01</td>\n",
       "            <td>2243</td>\n",
       "        </tr>\n",
       "        <tr>\n",
       "            <td>9</td>\n",
       "            <td>2023-01-01</td>\n",
       "            <td>2403</td>\n",
       "        </tr>\n",
       "        <tr>\n",
       "            <td>10</td>\n",
       "            <td>2023-01-01</td>\n",
       "            <td>2739</td>\n",
       "        </tr>\n",
       "        <tr>\n",
       "            <td>11</td>\n",
       "            <td>2023-01-01</td>\n",
       "            <td>3622</td>\n",
       "        </tr>\n",
       "        <tr>\n",
       "            <td>0</td>\n",
       "            <td>2023-02-01</td>\n",
       "            <td>2565</td>\n",
       "        </tr>\n",
       "        <tr>\n",
       "            <td>1</td>\n",
       "            <td>2023-02-01</td>\n",
       "            <td>2772</td>\n",
       "        </tr>\n",
       "        <tr>\n",
       "            <td>2</td>\n",
       "            <td>2023-02-01</td>\n",
       "            <td>2905</td>\n",
       "        </tr>\n",
       "        <tr>\n",
       "            <td>3</td>\n",
       "            <td>2023-02-01</td>\n",
       "            <td>3051</td>\n",
       "        </tr>\n",
       "        <tr>\n",
       "            <td>4</td>\n",
       "            <td>2023-02-01</td>\n",
       "            <td>3197</td>\n",
       "        </tr>\n",
       "        <tr>\n",
       "            <td>5</td>\n",
       "            <td>2023-02-01</td>\n",
       "            <td>3258</td>\n",
       "        </tr>\n",
       "        <tr>\n",
       "            <td>6</td>\n",
       "            <td>2023-02-01</td>\n",
       "            <td>3440</td>\n",
       "        </tr>\n",
       "        <tr>\n",
       "            <td>7</td>\n",
       "            <td>2023-02-01</td>\n",
       "            <td>3708</td>\n",
       "        </tr>\n",
       "        <tr>\n",
       "            <td>8</td>\n",
       "            <td>2023-02-01</td>\n",
       "            <td>3902</td>\n",
       "        </tr>\n",
       "        <tr>\n",
       "            <td>9</td>\n",
       "            <td>2023-02-01</td>\n",
       "            <td>4425</td>\n",
       "        </tr>\n",
       "        <tr>\n",
       "            <td>10</td>\n",
       "            <td>2023-02-01</td>\n",
       "            <td>5762</td>\n",
       "        </tr>\n",
       "        <tr>\n",
       "            <td>0</td>\n",
       "            <td>2023-03-01</td>\n",
       "            <td>1164</td>\n",
       "        </tr>\n",
       "        <tr>\n",
       "            <td>1</td>\n",
       "            <td>2023-03-01</td>\n",
       "            <td>1239</td>\n",
       "        </tr>\n",
       "        <tr>\n",
       "            <td>2</td>\n",
       "            <td>2023-03-01</td>\n",
       "            <td>1310</td>\n",
       "        </tr>\n",
       "        <tr>\n",
       "            <td>3</td>\n",
       "            <td>2023-03-01</td>\n",
       "            <td>1364</td>\n",
       "        </tr>\n",
       "        <tr>\n",
       "            <td>4</td>\n",
       "            <td>2023-03-01</td>\n",
       "            <td>1418</td>\n",
       "        </tr>\n",
       "        <tr>\n",
       "            <td>5</td>\n",
       "            <td>2023-03-01</td>\n",
       "            <td>1515</td>\n",
       "        </tr>\n",
       "        <tr>\n",
       "            <td>6</td>\n",
       "            <td>2023-03-01</td>\n",
       "            <td>1565</td>\n",
       "        </tr>\n",
       "    </tbody>\n",
       "</table>"
      ],
      "text/plain": [
       "[(0, '2023-01-01', 1487),\n",
       " (1, '2023-01-01', 1558),\n",
       " (2, '2023-01-01', 1667),\n",
       " (3, '2023-01-01', 1808),\n",
       " (4, '2023-01-01', 1870),\n",
       " (5, '2023-01-01', 1955),\n",
       " (6, '2023-01-01', 2040),\n",
       " (7, '2023-01-01', 2134),\n",
       " (8, '2023-01-01', 2243),\n",
       " (9, '2023-01-01', 2403),\n",
       " (10, '2023-01-01', 2739),\n",
       " (11, '2023-01-01', 3622),\n",
       " (0, '2023-02-01', 2565),\n",
       " (1, '2023-02-01', 2772),\n",
       " (2, '2023-02-01', 2905),\n",
       " (3, '2023-02-01', 3051),\n",
       " (4, '2023-02-01', 3197),\n",
       " (5, '2023-02-01', 3258),\n",
       " (6, '2023-02-01', 3440),\n",
       " (7, '2023-02-01', 3708),\n",
       " (8, '2023-02-01', 3902),\n",
       " (9, '2023-02-01', 4425),\n",
       " (10, '2023-02-01', 5762),\n",
       " (0, '2023-03-01', 1164),\n",
       " (1, '2023-03-01', 1239),\n",
       " (2, '2023-03-01', 1310),\n",
       " (3, '2023-03-01', 1364),\n",
       " (4, '2023-03-01', 1418),\n",
       " (5, '2023-03-01', 1515),\n",
       " (6, '2023-03-01', 1565)]"
      ]
     },
     "execution_count": 42,
     "metadata": {},
     "output_type": "execute_result"
    }
   ],
   "source": [
    "%%sql\n",
    "WITH cohort AS (\n",
    "    SELECT\n",
    "        OrderCustomerIdsMindboxId AS id_client,\n",
    "        MIN(strftime('%Y-%m-01', OrderFirstActionDateTimeUtc)) AS start_cohort,\n",
    "        MAX(strftime('%Y-%m-01', OrderFirstActionDateTimeUtc)) AS last_action_date,\n",
    "        SUM(OrderTotalPrice) as total_revenue  -- Добавляем сумму дохода\n",
    "    FROM\n",
    "        orders\n",
    "    WHERE\n",
    "        OrderFirstActionDateTimeUtc BETWEEN '2023-01-01' AND '2023-12-31' and OrderLineStatusIdsExternalId = 'Paid'\n",
    "    GROUP BY\n",
    "        OrderCustomerIdsMindboxId\n",
    "),\n",
    "cohort_size AS (\n",
    "    SELECT\n",
    "        start_cohort,\n",
    "        COUNT(DISTINCT id_client) AS cohort_size\n",
    "    FROM\n",
    "        cohort\n",
    "    GROUP BY\n",
    "        start_cohort\n",
    "),\n",
    "\n",
    "lifetime as (SELECT\n",
    "    start_cohort,\n",
    "    STRFTIME('%Y', c.last_action_date) * 12 + STRFTIME('%m', c.last_action_date) - (STRFTIME('%Y', c.start_cohort) * 12 + STRFTIME('%m', c.start_cohort)) AS lifetime_months\n",
    "FROM\n",
    "    cohort c),\n",
    "\n",
    "ltv as (SELECT\n",
    "    lifetime_months,\n",
    "    lf.start_cohort,\n",
    "    c.cohort_size,\n",
    "    CASE\n",
    "        WHEN c.cohort_size = 0 THEN 0\n",
    "        ELSE (SUM(ch.total_revenue) OVER (PARTITION BY lf.start_cohort ORDER BY lifetime_months))/c.cohort_size /c.cohort_size\n",
    "    END AS ltv\n",
    "FROM\n",
    "    lifetime as lf\n",
    "JOIN\n",
    "    cohort_size as c ON lf.start_cohort = c.start_cohort\n",
    "JOIN\n",
    "    cohort as ch ON c.start_cohort = ch.start_cohort)\n",
    "\n",
    "SELECT lifetime_months,\n",
    "start_cohort,\n",
    "ltv\n",
    "\n",
    "from ltv\n",
    "\n",
    "group by lifetime_months,\n",
    "start_cohort,\n",
    "ltv\n",
    "\n",
    "order by start_cohort, lifetime_months\n",
    "\n",
    "limit 30"
   ]
  },
  {
   "cell_type": "code",
   "execution_count": null,
   "id": "535904fd",
   "metadata": {
    "id": "535904fd"
   },
   "outputs": [],
   "source": []
  },
  {
   "cell_type": "code",
   "execution_count": null,
   "id": "5b008846",
   "metadata": {
    "id": "5b008846",
    "outputId": "b7cca433-d9a2-4153-c244-f21fc02f58de"
   },
   "outputs": [
    {
     "name": "stdout",
     "output_type": "stream",
     "text": [
      " * sqlite:///battle_aif.sql\n",
      "Done.\n"
     ]
    },
    {
     "data": {
      "text/html": [
       "<table>\n",
       "    <thead>\n",
       "        <tr>\n",
       "            <th>start_cohort</th>\n",
       "            <th>cohort_size</th>\n",
       "        </tr>\n",
       "    </thead>\n",
       "    <tbody>\n",
       "        <tr>\n",
       "            <td>2023-01-01</td>\n",
       "            <td>767</td>\n",
       "        </tr>\n",
       "        <tr>\n",
       "            <td>2023-02-01</td>\n",
       "            <td>474</td>\n",
       "        </tr>\n",
       "        <tr>\n",
       "            <td>2023-03-01</td>\n",
       "            <td>631</td>\n",
       "        </tr>\n",
       "        <tr>\n",
       "            <td>2023-04-01</td>\n",
       "            <td>1057</td>\n",
       "        </tr>\n",
       "        <tr>\n",
       "            <td>2023-05-01</td>\n",
       "            <td>578</td>\n",
       "        </tr>\n",
       "    </tbody>\n",
       "</table>"
      ],
      "text/plain": [
       "[('2023-01-01', 767),\n",
       " ('2023-02-01', 474),\n",
       " ('2023-03-01', 631),\n",
       " ('2023-04-01', 1057),\n",
       " ('2023-05-01', 578)]"
      ]
     },
     "execution_count": 29,
     "metadata": {},
     "output_type": "execute_result"
    }
   ],
   "source": [
    "%%sql\n",
    "-- размер когорт для проверки расчетов\n",
    "WITH cohort AS (\n",
    "    SELECT\n",
    "        OrderCustomerIdsMindboxId AS id_client,\n",
    "        MIN(strftime('%Y-%m-01', OrderFirstActionDateTimeUtc)) AS start_cohort,\n",
    "        MAX(strftime('%Y-%m-01', OrderFirstActionDateTimeUtc)) AS last_action_date,\n",
    "        SUM(OrderTotalPrice) as total_revenue  -- Добавляем сумму дохода\n",
    "    FROM\n",
    "        orders\n",
    "    WHERE\n",
    "        OrderFirstActionDateTimeUtc BETWEEN '2023-01-01' AND '2023-12-31' and OrderLineStatusIdsExternalId = 'Paid'\n",
    "    GROUP BY\n",
    "        OrderCustomerIdsMindboxId\n",
    ")\n",
    "\n",
    "SELECT start_cohort, COUNT(DISTINCT id_client) AS cohort_size\n",
    "FROM cohort\n",
    "group by start_cohort\n",
    "limit 5"
   ]
  },
  {
   "cell_type": "markdown",
   "id": "17e437ce",
   "metadata": {
    "id": "17e437ce"
   },
   "source": [
    "## MAU (Monthly Active Users)\n",
    "количество уникальных пользователей, которые оплачивали в приложении в течение месяца."
   ]
  },
  {
   "cell_type": "code",
   "execution_count": null,
   "id": "07317341",
   "metadata": {
    "id": "07317341",
    "outputId": "303f4186-1186-49a7-e1b6-04e4174039d8"
   },
   "outputs": [
    {
     "data": {
      "text/plain": [
       "\"WITH monthly_data_mau AS (\\n    SELECT\\n        ordercustomeridsmindboxid AS id_client,\\n        DATE_TRUNC('month', orderfirstactiondatetimeutc) AS month_order\\n    FROM\\n        payments\\n    WHERE\\n        orderfirstactiondatetimeutc BETWEEN '2023-01-31' AND '2024-09-30' AND orderlinestatusidsexternalid = 'Paid'\\n)\\nSELECT\\n    month_order,\\n    COUNT(DISTINCT id_client) AS mau\\nFROM\\n    monthly_data_mau\\nGROUP BY\\n    month_order\\nORDER BY\\n    month_order;\""
      ]
     },
     "execution_count": 30,
     "metadata": {},
     "output_type": "execute_result"
    }
   ],
   "source": [
    "'''WITH monthly_data_mau AS (\n",
    "    SELECT\n",
    "        ordercustomeridsmindboxid AS id_client,\n",
    "        DATE_TRUNC('month', orderfirstactiondatetimeutc) AS month_order\n",
    "    FROM\n",
    "        payments\n",
    "    WHERE\n",
    "        orderfirstactiondatetimeutc BETWEEN '2023-01-31' AND '2024-09-30' AND orderlinestatusidsexternalid = 'Paid'\n",
    ")\n",
    "SELECT\n",
    "    month_order,\n",
    "    COUNT(DISTINCT id_client) AS mau\n",
    "FROM\n",
    "    monthly_data_mau\n",
    "GROUP BY\n",
    "    month_order\n",
    "ORDER BY\n",
    "    month_order;'''"
   ]
  },
  {
   "cell_type": "code",
   "execution_count": null,
   "id": "1c9f62aa",
   "metadata": {
    "id": "1c9f62aa",
    "outputId": "28af78f1-a99e-4f0b-c44f-a3197f206855"
   },
   "outputs": [
    {
     "name": "stdout",
     "output_type": "stream",
     "text": [
      " * sqlite:///battle_aif.sql\n",
      "Done.\n"
     ]
    },
    {
     "data": {
      "text/html": [
       "<table>\n",
       "    <thead>\n",
       "        <tr>\n",
       "            <th>month_order</th>\n",
       "            <th>MAU</th>\n",
       "        </tr>\n",
       "    </thead>\n",
       "    <tbody>\n",
       "        <tr>\n",
       "            <td>2023-01-01</td>\n",
       "            <td>23</td>\n",
       "        </tr>\n",
       "        <tr>\n",
       "            <td>2023-02-01</td>\n",
       "            <td>632</td>\n",
       "        </tr>\n",
       "        <tr>\n",
       "            <td>2023-03-01</td>\n",
       "            <td>954</td>\n",
       "        </tr>\n",
       "        <tr>\n",
       "            <td>2023-04-01</td>\n",
       "            <td>1411</td>\n",
       "        </tr>\n",
       "        <tr>\n",
       "            <td>2023-05-01</td>\n",
       "            <td>1040</td>\n",
       "        </tr>\n",
       "    </tbody>\n",
       "</table>"
      ],
      "text/plain": [
       "[('2023-01-01', 23),\n",
       " ('2023-02-01', 632),\n",
       " ('2023-03-01', 954),\n",
       " ('2023-04-01', 1411),\n",
       " ('2023-05-01', 1040)]"
      ]
     },
     "execution_count": 31,
     "metadata": {},
     "output_type": "execute_result"
    }
   ],
   "source": [
    "%%sql\n",
    "\n",
    "WITH monthly_data_mau AS (\n",
    "    SELECT OrderCustomerIdsMindboxId AS id_client,\n",
    "    strftime('%Y-%m-01', OrderFirstActionDateTimeUtc) month_order\n",
    "\n",
    "FROM orders\n",
    "WHERE OrderFirstActionDateTimeUtc BETWEEN '2023-01-01' AND '2024-09-30' and OrderLineStatusIdsExternalId = 'Paid'\n",
    "\n",
    ")\n",
    "\n",
    "SELECT month_order,\n",
    "      COUNT(DISTINCT id_client) AS MAU\n",
    "FROM monthly_data_mau\n",
    "GROUP BY month_order\n",
    "ORDER BY month_order\n",
    "\n",
    "limit 5"
   ]
  },
  {
   "cell_type": "code",
   "execution_count": null,
   "id": "ff7d54de",
   "metadata": {
    "id": "ff7d54de",
    "outputId": "445f9725-b5ca-4f94-ee88-eeff022592f1"
   },
   "outputs": [
    {
     "data": {
      "text/html": [
       "<div>\n",
       "<style scoped>\n",
       "    .dataframe tbody tr th:only-of-type {\n",
       "        vertical-align: middle;\n",
       "    }\n",
       "\n",
       "    .dataframe tbody tr th {\n",
       "        vertical-align: top;\n",
       "    }\n",
       "\n",
       "    .dataframe thead th {\n",
       "        text-align: right;\n",
       "    }\n",
       "</style>\n",
       "<table border=\"1\" class=\"dataframe\">\n",
       "  <thead>\n",
       "    <tr style=\"text-align: right;\">\n",
       "      <th></th>\n",
       "      <th>OrderFirstActionDateTimeUtc</th>\n",
       "      <th>OrderFirstActionChannelName</th>\n",
       "      <th>OrderTotalPrice</th>\n",
       "      <th>OrderCustomFieldsNewyear</th>\n",
       "      <th>OrderCustomFieldsRecurrent</th>\n",
       "      <th>OrderCustomFieldsRepayment</th>\n",
       "      <th>OrderLineProductName</th>\n",
       "      <th>OrderLineQuantity</th>\n",
       "      <th>OrderLinePriceOfLine</th>\n",
       "      <th>OrderLineStatusIdsExternalId</th>\n",
       "      <th>OrderCustomerIdsMindboxId</th>\n",
       "    </tr>\n",
       "  </thead>\n",
       "  <tbody>\n",
       "    <tr>\n",
       "      <th>0</th>\n",
       "      <td>2022-01-27</td>\n",
       "      <td>Административный сайт Mindbox</td>\n",
       "      <td>500</td>\n",
       "      <td>NaN</td>\n",
       "      <td>NaN</td>\n",
       "      <td>NaN</td>\n",
       "      <td>Пожертвование Благотворительный фонд «АиФ. Доброе сердце» Никита Суриков</td>\n",
       "      <td>1</td>\n",
       "      <td>500</td>\n",
       "      <td>Paid</td>\n",
       "      <td>6959</td>\n",
       "    </tr>\n",
       "    <tr>\n",
       "      <th>1</th>\n",
       "      <td>2022-01-29</td>\n",
       "      <td>Административный сайт Mindbox</td>\n",
       "      <td>200</td>\n",
       "      <td>NaN</td>\n",
       "      <td>NaN</td>\n",
       "      <td>NaN</td>\n",
       "      <td>Пожертвование Благотворительный фонд «АиФ. Доброе сердце» Никита Суриков</td>\n",
       "      <td>1</td>\n",
       "      <td>200</td>\n",
       "      <td>Paid</td>\n",
       "      <td>7103</td>\n",
       "    </tr>\n",
       "    <tr>\n",
       "      <th>2</th>\n",
       "      <td>2022-01-31</td>\n",
       "      <td>Административный сайт Mindbox</td>\n",
       "      <td>300</td>\n",
       "      <td>NaN</td>\n",
       "      <td>NaN</td>\n",
       "      <td>NaN</td>\n",
       "      <td>Пожертвование Благотворительный фонд «АиФ. Доброе сердце» Никита Суриков</td>\n",
       "      <td>1</td>\n",
       "      <td>300</td>\n",
       "      <td>Paid</td>\n",
       "      <td>7321</td>\n",
       "    </tr>\n",
       "    <tr>\n",
       "      <th>3</th>\n",
       "      <td>2022-02-06</td>\n",
       "      <td>Административный сайт Mindbox</td>\n",
       "      <td>300</td>\n",
       "      <td>NaN</td>\n",
       "      <td>NaN</td>\n",
       "      <td>NaN</td>\n",
       "      <td>Пожертвование Благотворительный фонд «АиФ. Доброе сердце» Никита Суриков</td>\n",
       "      <td>1</td>\n",
       "      <td>300</td>\n",
       "      <td>Paid</td>\n",
       "      <td>7143</td>\n",
       "    </tr>\n",
       "    <tr>\n",
       "      <th>4</th>\n",
       "      <td>2022-02-28</td>\n",
       "      <td>Административный сайт Mindbox</td>\n",
       "      <td>50</td>\n",
       "      <td>NaN</td>\n",
       "      <td>NaN</td>\n",
       "      <td>NaN</td>\n",
       "      <td>На уставную деятельность</td>\n",
       "      <td>1</td>\n",
       "      <td>50</td>\n",
       "      <td>Paid</td>\n",
       "      <td>7079</td>\n",
       "    </tr>\n",
       "  </tbody>\n",
       "</table>\n",
       "</div>"
      ],
      "text/plain": [
       "  OrderFirstActionDateTimeUtc    OrderFirstActionChannelName  OrderTotalPrice  \\\n",
       "0 2022-01-27                   Административный сайт Mindbox  500               \n",
       "1 2022-01-29                   Административный сайт Mindbox  200               \n",
       "2 2022-01-31                   Административный сайт Mindbox  300               \n",
       "3 2022-02-06                   Административный сайт Mindbox  300               \n",
       "4 2022-02-28                   Административный сайт Mindbox  50                \n",
       "\n",
       "  OrderCustomFieldsNewyear OrderCustomFieldsRecurrent  \\\n",
       "0  NaN                      NaN                         \n",
       "1  NaN                      NaN                         \n",
       "2  NaN                      NaN                         \n",
       "3  NaN                      NaN                         \n",
       "4  NaN                      NaN                         \n",
       "\n",
       "  OrderCustomFieldsRepayment  \\\n",
       "0  NaN                         \n",
       "1  NaN                         \n",
       "2  NaN                         \n",
       "3  NaN                         \n",
       "4  NaN                         \n",
       "\n",
       "                                                       OrderLineProductName  \\\n",
       "0  Пожертвование Благотворительный фонд «АиФ. Доброе сердце» Никита Суриков   \n",
       "1  Пожертвование Благотворительный фонд «АиФ. Доброе сердце» Никита Суриков   \n",
       "2  Пожертвование Благотворительный фонд «АиФ. Доброе сердце» Никита Суриков   \n",
       "3  Пожертвование Благотворительный фонд «АиФ. Доброе сердце» Никита Суриков   \n",
       "4  На уставную деятельность                                                   \n",
       "\n",
       "   OrderLineQuantity  OrderLinePriceOfLine OrderLineStatusIdsExternalId  \\\n",
       "0  1                  500                   Paid                          \n",
       "1  1                  200                   Paid                          \n",
       "2  1                  300                   Paid                          \n",
       "3  1                  300                   Paid                          \n",
       "4  1                  50                    Paid                          \n",
       "\n",
       "   OrderCustomerIdsMindboxId  \n",
       "0  6959                       \n",
       "1  7103                       \n",
       "2  7321                       \n",
       "3  7143                       \n",
       "4  7079                       "
      ]
     },
     "execution_count": 32,
     "metadata": {},
     "output_type": "execute_result"
    }
   ],
   "source": [
    "orders.head()"
   ]
  },
  {
   "cell_type": "code",
   "execution_count": null,
   "id": "13wGhvcXc27y",
   "metadata": {
    "id": "13wGhvcXc27y"
   },
   "outputs": [],
   "source": []
  }
 ],
 "metadata": {
  "colab": {
   "provenance": []
  },
  "kernelspec": {
   "display_name": "Python 3 (ipykernel)",
   "language": "python",
   "name": "python3"
  },
  "language_info": {
   "codemirror_mode": {
    "name": "ipython",
    "version": 3
   },
   "file_extension": ".py",
   "mimetype": "text/x-python",
   "name": "python",
   "nbconvert_exporter": "python",
   "pygments_lexer": "ipython3",
   "version": "3.9.12"
  },
  "toc": {
   "base_numbering": 1,
   "nav_menu": {},
   "number_sections": true,
   "sideBar": true,
   "skip_h1_title": false,
   "title_cell": "Table of Contents",
   "title_sidebar": "Contents",
   "toc_cell": false,
   "toc_position": {
    "height": "calc(100% - 180px)",
    "left": "10px",
    "top": "150px",
    "width": "460.8px"
   },
   "toc_section_display": true,
   "toc_window_display": true
  }
 },
 "nbformat": 4,
 "nbformat_minor": 5
}
